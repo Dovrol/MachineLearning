{
 "cells": [
  {
   "cell_type": "code",
   "execution_count": 1,
   "metadata": {},
   "outputs": [],
   "source": [
    "import numpy as np\n",
    "import matplotlib.pyplot as plt\n",
    "\n",
    "def mesh_grid_visual(X, y, model, label_dict = None):\n",
    "    x0 = np.linspace(np.min(X[:,0])-2, np.max(X[:,0])+2, 100)\n",
    "    x1 = np.linspace(np.min(X[:,1])-2, np.max(X[:,1])+2, 100)\n",
    "    a,b = np.meshgrid(x0, x1)\n",
    "    X_new = np.c_[a.ravel(), b.ravel()]\n",
    "    predictions = model.predict(X_new)\n",
    "    if \"sklearn\" in str(type(model)):\n",
    "        decision = model.decision_function(X_new)\n",
    "    else:\n",
    "        decision = model.predict_probs(X_new)\n",
    "    plt.contourf(x0, x1, predictions.reshape(a.shape), cmap=plt.cm.brg, alpha = 0.4)\n",
    "    plt.contourf(x0, x1, decision.reshape(a.shape), cmap=plt.cm.brg, alpha = 0.2)\n",
    "    for yy in np.unique(y):\n",
    "        if label_dict != None:\n",
    "            plt.scatter(X[y == yy, 0], X[y==yy, 1], label = label_dict[yy])\n",
    "        else:\n",
    "            plt.scatter(X[y == yy, 0], X[y==yy, 1], label = yy)\n",
    "            \n",
    "    plt.legend(loc = 'upper left')"
   ]
  },
  {
   "cell_type": "code",
   "execution_count": 226,
   "metadata": {},
   "outputs": [
    {
     "data": {
      "image/png": "[encoded data removed]",
      "text/plain": [
       "<Figure size 432x288 with 1 Axes>"
      ]
     },
     "metadata": {
      "needs_background": "light"
     },
     "output_type": "display_data"
    }
   ],
   "source": [
    "# Sigmoid function - Maps every values between 0 - 1\n",
    "sigmoid = lambda X:  1 / (1+np.exp(-X))\n",
    "x = np.arange(-10,10)\n",
    "plt.plot(x, sigmoid(x))\n",
    "plt.show()"
   ]
  },
  {
   "cell_type": "code",
   "execution_count": 162,
   "metadata": {},
   "outputs": [],
   "source": [
    "class LogisticRegression2:\n",
    "    '''\n",
    "    Simple perceptron class\n",
    "    '''\n",
    "    def __init__(self, n_iter = 100, lr = 0.1):\n",
    "        '''\n",
    "        Define constant parameters\n",
    "        param n_iter: n iterations\n",
    "        param lr: learning rate\n",
    "        '''\n",
    "        self.lr = lr\n",
    "        self.n_iter = n_iter\n",
    "        self.cost = []\n",
    "        self.fit_called = False\n",
    "        self.classes = []\n",
    "        \n",
    "    def transform_labels(self, y):\n",
    "        self.classes = np.unique(y)\n",
    "        y_ = y.copy()\n",
    "        if len(self.classes) > 2:\n",
    "            raise ValueError(\"Wrong number of classes\")\n",
    "        else:\n",
    "            class_one = np.where(y == self.classes[0])\n",
    "            class_two = np.where(y == self.classes[1])\n",
    "            y_[class_one] = 0\n",
    "            y_[class_two] = 1\n",
    "        return y_\n",
    "    \n",
    "    def fit(self, X, y):\n",
    "        '''\n",
    "        Fitting model.\n",
    "        param X: feature array\n",
    "        param y: labels\n",
    "        '''\n",
    "        y_transformed = y\n",
    "        if isinstance(X, (list, tuple)):\n",
    "            X = np.array(X)\n",
    "        X_bias = np.hstack((np.ones((X.shape[0], 1)), X))\n",
    "        self.w = np.random.randn(X_bias.shape[1])\n",
    "        self.fit_called = True\n",
    "        for i in range(self.n_iter):\n",
    "            output = self.activation(X_bias.dot(self.w))\n",
    "            # Gradient descent minimazing error\n",
    "            error = (y_transformed - output)\n",
    "            self.w += self.lr  * X_bias.T.dot(error)\n",
    "        return self\n",
    "\n",
    "    \n",
    "    def predict_probs(self, X):\n",
    "        '''\n",
    "        Return decision values\n",
    "        '''\n",
    "        assert self.fit_called, 'Call \"Fit\" before this'\n",
    "        if isinstance(X, (list, tuple)):\n",
    "            X = np.array(X)\n",
    "        X_bias = np.hstack((np.ones((X.shape[0], 1)), X))\n",
    "        return self.activation(X_bias.dot(self.w))\n",
    "    \n",
    "    def activation(self, X):\n",
    "        return 1 / (1+np.exp(-X))\n",
    "    \n",
    "    def predict(self, X):\n",
    "        '''\n",
    "        Return 1 or -1 depends on decision value\n",
    "        1 => decision > 0\n",
    "        -1 => decision < 0\n",
    "        '''\n",
    "        return np.where(self.predict_probs(X) > 0.5, self.classes[1], self.classes[0])"
   ]
  },
  {
   "cell_type": "code",
   "execution_count": 91,
   "metadata": {},
   "outputs": [],
   "source": [
    "from sklearn.datasets import load_iris\n",
    "from sklearn.preprocessing import StandardScaler"
   ]
  },
  {
   "cell_type": "code",
   "execution_count": 92,
   "metadata": {},
   "outputs": [
    {
     "data": {
      "text/plain": [
       "array([2, 2, 2, 2, 2, 2, 2, 2, 2, 2, 2, 2, 2, 2, 2, 2, 2, 2, 2, 2, 2, 2,\n",
       "       2, 2, 2, 2, 2, 2, 2, 2, 2, 2, 2, 2, 2, 2, 2, 2, 2, 2, 2, 2, 2, 2,\n",
       "       2, 2, 2, 2, 2, 2, 1, 1, 1, 1, 1, 1, 1, 1, 1, 1, 1, 1, 1, 1, 1, 1,\n",
       "       1, 1, 1, 1, 1, 1, 1, 1, 1, 1, 1, 1, 1, 1, 1, 1, 1, 1, 1, 1, 1, 1,\n",
       "       1, 1, 1, 1, 1, 1, 1, 1, 1, 1, 1, 1, 1, 1, 1, 1, 1, 1, 1, 1, 1, 1,\n",
       "       1, 1, 1, 1, 1, 1, 1, 1, 1, 1, 1, 1, 1, 1, 1, 1, 1, 1, 1, 1, 1, 1,\n",
       "       1, 1, 1, 1, 1, 1, 1, 1, 1, 1, 1, 1, 1, 1, 1, 1, 1, 1])"
      ]
     },
     "execution_count": 92,
     "metadata": {},
     "output_type": "execute_result"
    }
   ],
   "source": [
    "iris = load_iris()\n",
    "X = iris.data[:, [2,3]]\n",
    "y = iris.target\n",
    "# y = np.where(y == 0 , 0, 1)\n",
    "y = np.where(y == 0 , 2, 1)\n",
    "y"
   ]
  },
  {
   "cell_type": "code",
   "execution_count": 93,
   "metadata": {},
   "outputs": [],
   "source": [
    "ss = StandardScaler()\n",
    "X_scaled = ss.fit_transform(X)"
   ]
  },
  {
   "cell_type": "code",
   "execution_count": 94,
   "metadata": {},
   "outputs": [
    {
     "data": {
      "image/png": "[encoded data removed]",
      "text/plain": [
       "<Figure size 432x288 with 1 Axes>"
      ]
     },
     "metadata": {
      "needs_background": "light"
     },
     "output_type": "display_data"
    }
   ],
   "source": [
    "class_one = np.unique(y)[0]\n",
    "class_two = np.unique(y)[1]\n",
    "plt.scatter(X[y==class_one, 0], X[y==class_one, 1], c = 'blue', label = class_one)\n",
    "plt.scatter(X[y==class_two, 0], X[y==class_two, 1], c = 'red', label = class_two)\n",
    "plt.legend()\n",
    "plt.show()"
   ]
  },
  {
   "cell_type": "code",
   "execution_count": 95,
   "metadata": {},
   "outputs": [],
   "source": [
    "logistic = LogisticRegression2(100, 0.001)\n",
    "logistic.fit(X_scaled, y)"
   ]
  },
  {
   "cell_type": "code",
   "execution_count": 96,
   "metadata": {},
   "outputs": [
    {
     "data": {
      "image/png": "[encoded data removed]",
      "text/plain": [
       "<Figure size 432x288 with 1 Axes>"
      ]
     },
     "metadata": {
      "needs_background": "light"
     },
     "output_type": "display_data"
    }
   ],
   "source": [
    "mesh_grid_visual(X_scaled, y, logistic)"
   ]
  },
  {
   "cell_type": "code",
   "execution_count": 98,
   "metadata": {},
   "outputs": [
    {
     "data": {
      "text/plain": [
       "array([1])"
      ]
     },
     "execution_count": 98,
     "metadata": {},
     "output_type": "execute_result"
    }
   ],
   "source": [
    "logistic.predict([[2, 1]])"
   ]
  },
  {
   "cell_type": "markdown",
   "metadata": {},
   "source": [
    "### OvR"
   ]
  },
  {
   "cell_type": "code",
   "execution_count": 202,
   "metadata": {},
   "outputs": [],
   "source": [
    "from itertools import combinations"
   ]
  },
  {
   "cell_type": "code",
   "execution_count": 211,
   "metadata": {},
   "outputs": [],
   "source": [
    "# Load data\n",
    "iris = load_iris()\n",
    "X = iris.data[:, [2,3]]\n",
    "y = iris.target\n",
    "# Shuffle\n",
    "index = np.random.permutation(len(y))\n",
    "X = X[index]\n",
    "y = y[index]"
   ]
  },
  {
   "cell_type": "code",
   "execution_count": 212,
   "metadata": {},
   "outputs": [],
   "source": [
    "# Scale data\n",
    "ss = StandardScaler()\n",
    "X_scaled = ss.fit_transform(X)"
   ]
  },
  {
   "cell_type": "code",
   "execution_count": 215,
   "metadata": {},
   "outputs": [
    {
     "data": {
      "image/png": "[encoded data removed]",
      "text/plain": [
       "<Figure size 432x288 with 1 Axes>"
      ]
     },
     "metadata": {
      "needs_background": "light"
     },
     "output_type": "display_data"
    }
   ],
   "source": [
    "# Plot data\n",
    "class_one = np.unique(y)[0]\n",
    "class_two = np.unique(y)[1]\n",
    "class_three = np.unique(y)[2]\n",
    "plt.scatter(X[y==class_one, 0], X[y==class_one, 1], c = 'blue', label = class_one)\n",
    "plt.scatter(X[y==class_two, 0], X[y==class_two, 1], c = 'red', label = class_two)\n",
    "plt.scatter(X[y==class_three, 0], X[y==class_three, 1], c = 'green', label = class_three)\n",
    "plt.legend()\n",
    "plt.show()"
   ]
  },
  {
   "cell_type": "code",
   "execution_count": 213,
   "metadata": {},
   "outputs": [],
   "source": [
    "# Making 3 classifiers one for each class\n",
    "OvR = []\n",
    "for class_ in np.unique(y):\n",
    "    y_ = y.copy()\n",
    "    positive = np.where(y == class_)\n",
    "    negative = np.where(y != class_)\n",
    "    y_[positive] = 1\n",
    "    y_[negative] = 0\n",
    "    OvR.append(LogisticRegression2(100, 0.01).fit(X_scaled, y_))"
   ]
  },
  {
   "cell_type": "code",
   "execution_count": 216,
   "metadata": {},
   "outputs": [],
   "source": [
    "# Predicting classes\n",
    "probas = []\n",
    "for estimator in OvR:\n",
    "    probas.append(estimator.predict_probs(X_scaled).reshape(-1,1))"
   ]
  },
  {
   "cell_type": "code",
   "execution_count": 220,
   "metadata": {},
   "outputs": [
    {
     "data": {
      "text/plain": [
       "array([0, 2, 0, 0, 2, 1, 0, 2, 1, 2, 1, 2, 0, 1, 1, 1, 1, 2, 1, 2, 0, 1,\n",
       "       2, 1, 1, 0, 0, 2, 1, 0, 1, 2, 0, 1, 0, 2, 1, 2, 2, 0, 2, 0, 0, 2,\n",
       "       2, 2, 1, 0, 1, 2, 1, 2, 1, 2, 2, 2, 0, 2, 1, 0, 1, 1, 1, 0, 2, 2,\n",
       "       2, 0, 2, 2, 2, 2, 0, 0, 0, 1, 2, 2, 0, 1, 2, 1, 2, 2, 0, 0, 0, 2,\n",
       "       1, 0, 1, 0, 0, 2, 1, 0, 1, 1, 2, 2, 2, 0, 0, 1, 0, 0, 0, 2, 0, 0,\n",
       "       1, 2, 1, 0, 1, 0, 0, 1, 0, 1, 2, 1, 2, 2, 1, 1, 0, 1, 0, 2, 0, 1,\n",
       "       2, 0, 0, 2, 0, 1, 0, 0, 0, 1, 0, 1, 2, 1, 1, 1, 2, 2])"
      ]
     },
     "execution_count": 220,
     "metadata": {},
     "output_type": "execute_result"
    }
   ],
   "source": [
    "# Chosing estimator with highest probability\n",
    "predicted = np.argmax(np.c_[probas[0], probas[1], probas[2]], axis = 1)\n",
    "predicted"
   ]
  },
  {
   "cell_type": "code",
   "execution_count": 221,
   "metadata": {},
   "outputs": [
    {
     "data": {
      "image/png": "[encoded data removed]",
      "text/plain": [
       "<Figure size 432x288 with 1 Axes>"
      ]
     },
     "metadata": {
      "needs_background": "light"
     },
     "output_type": "display_data"
    }
   ],
   "source": [
    "# Plot predicted classes\n",
    "class_one = np.unique(predicted)[0]\n",
    "class_two = np.unique(predicted)[1]\n",
    "class_three = np.unique(predicted)[2]\n",
    "plt.scatter(X[predicted==class_one, 0], X[predicted==class_one, 1], c = 'blue', label = class_one)\n",
    "plt.scatter(X[predicted==class_two, 0], X[predicted==class_two, 1], c = 'red', label = class_two)\n",
    "plt.scatter(X[predicted==class_three, 0], X[predicted==class_three, 1], c = 'green', label = class_three)\n",
    "plt.legend()\n",
    "plt.show()"
   ]
  },
  {
   "cell_type": "code",
   "execution_count": 231,
   "metadata": {},
   "outputs": [
    {
     "data": {
      "text/plain": [
       "0.9466666666666667"
      ]
     },
     "execution_count": 231,
     "metadata": {},
     "output_type": "execute_result"
    }
   ],
   "source": [
    "sum(y == predicted)/ len(predicted)"
   ]
  },
  {
   "cell_type": "code",
   "execution_count": null,
   "metadata": {},
   "outputs": [],
   "source": []
  }
 ],
 "metadata": {
  "kernelspec": {
   "display_name": "Python 3",
   "language": "python",
   "name": "python3"
  },
  "language_info": {
   "codemirror_mode": {
    "name": "ipython",
    "version": 3
   },
   "file_extension": ".py",
   "mimetype": "text/x-python",
   "name": "python",
   "nbconvert_exporter": "python",
   "pygments_lexer": "ipython3",
   "version": "3.8.1"
  }
 },
 "nbformat": 4,
 "nbformat_minor": 4
}
