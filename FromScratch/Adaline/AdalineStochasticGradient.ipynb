{
 "cells": [
  {
   "cell_type": "code",
   "execution_count": 1,
   "metadata": {},
   "outputs": [],
   "source": [
    "import numpy as np\n",
    "import inspect\n",
    "import matplotlib.pyplot as plt\n",
    "import sys\n",
    "if \"/Users/wiktorkubis/Python/Jupyter/Python-MachineLearning/MyLib\" not in sys.path:\n",
    "    sys.path.append(\"/Users/wiktorkubis/Python/Jupyter/Python-MachineLearning/MyLib\")\n",
    "from meshGrid import mesh_grid_visual\n",
    "\n",
    "class AdaLineStochastic:\n",
    "    '''\n",
    "    Simple perceptron class\n",
    "    '''\n",
    "    def __init__(self, n_iter = 100, lr = 0.1):\n",
    "        '''\n",
    "        Define constant parameters\n",
    "        param n_iter: n iterations\n",
    "        param lr: learning rate\n",
    "        '''\n",
    "        self.lr = lr\n",
    "        self.n_iter = n_iter\n",
    "        self.mean_cost_per_epoch = []\n",
    "        self.fit_called = False\n",
    "        \n",
    "    def shuffle(self, X, y):\n",
    "        index = np.random.permutation(len(y))\n",
    "        return X[index], y[index]\n",
    "    \n",
    "    \n",
    "    def fit(self, X, y):\n",
    "        '''\n",
    "        Fitting model.\n",
    "        param X: feature array\n",
    "        param y: labels\n",
    "        '''\n",
    "        if isinstance(X, (list, tuple)):\n",
    "            X = np.array(X)    \n",
    "        X_bias = np.hstack((np.ones((X.shape[0], 1)), X))\n",
    "        self.w = np.random.randn(X_bias.shape[1])\n",
    "        self.fit_called = True\n",
    "        for i in range(self.n_iter):\n",
    "            X_bias, y = self.shuffle(X_bias, y)\n",
    "            cost = []\n",
    "            for xi, yi in zip(X_bias, y):  \n",
    "                output = self.activation(xi.T.dot(self.w))\n",
    "                error = (yi - output)\n",
    "                self.w += self.lr  * xi * error\n",
    "                cost.append((error**2).sum() / 2.0)\n",
    "            self.mean_cost_per_epoch.append(np.mean(cost))\n",
    "                \n",
    "    \n",
    "    def decision(self, X):\n",
    "        '''\n",
    "        Return decision values\n",
    "        '''\n",
    "        assert self.fit_called, 'Call \"Fit\" before this'\n",
    "        if isinstance(X, (list, tuple)):\n",
    "            X = np.array(X)\n",
    "        X_bias = np.hstack((np.ones((X.shape[0], 1)), X))\n",
    "        return X_bias.dot(self.w)\n",
    "    \n",
    "    def activation(self, X):\n",
    "        return X\n",
    "    \n",
    "    def predict(self, X):\n",
    "        '''\n",
    "        Return 1 or -1 depends on decision value\n",
    "        1 => decision > 0\n",
    "        -1 => decision < 0\n",
    "        '''\n",
    "        return np.where(self.decision(X) > 0, 1, -1)"
   ]
  },
  {
   "cell_type": "code",
   "execution_count": 7,
   "metadata": {},
   "outputs": [],
   "source": [
    "adaStochastic = AdaLineStochastic(100, 0.001)"
   ]
  },
  {
   "cell_type": "code",
   "execution_count": 8,
   "metadata": {},
   "outputs": [],
   "source": [
    "from sklearn.datasets import make_blobs\n",
    "X, y = make_blobs(cluster_std=1.3)\n",
    "y = np.where(y == 0, -1, 1)"
   ]
  },
  {
   "cell_type": "code",
   "execution_count": 9,
   "metadata": {},
   "outputs": [
    {
     "data": {
      "text/plain": [
       "array([ 1, -1,  1,  1,  1,  1,  1,  1, -1, -1, -1,  1,  1,  1,  1,  1,  1,\n",
       "        1,  1,  1, -1,  1, -1, -1,  1,  1, -1, -1,  1,  1,  1,  1,  1,  1,\n",
       "        1, -1,  1, -1,  1,  1,  1, -1, -1,  1, -1,  1, -1,  1, -1,  1, -1,\n",
       "        1,  1, -1, -1,  1,  1,  1, -1, -1,  1,  1, -1, -1,  1,  1,  1,  1,\n",
       "        1,  1, -1, -1,  1,  1,  1,  1,  1, -1,  1, -1,  1,  1, -1,  1, -1,\n",
       "        1,  1,  1, -1, -1,  1,  1,  1,  1,  1, -1,  1, -1,  1, -1])"
      ]
     },
     "execution_count": 9,
     "metadata": {},
     "output_type": "execute_result"
    }
   ],
   "source": [
    "y"
   ]
  },
  {
   "cell_type": "code",
   "execution_count": 16,
   "metadata": {},
   "outputs": [],
   "source": [
    "adaStochastic.fit(X, y)"
   ]
  },
  {
   "cell_type": "code",
   "execution_count": 17,
   "metadata": {},
   "outputs": [
    {
     "name": "stdout",
     "output_type": "stream",
     "text": [
      "[-1.42597699 -1.43064224 -1.4353075  ...  1.50175767  1.49709241\n",
      "  1.49242716]\n"
     ]
    },
    {
     "data": {
      "image/png": "[encoded data removed]",
      "text/plain": [
       "<Figure size 1080x504 with 2 Axes>"
      ]
     },
     "metadata": {
      "needs_background": "light"
     },
     "output_type": "display_data"
    }
   ],
   "source": [
    "fig, ax = plt.subplots(1,2, figsize = (15,7))\n",
    "mesh_grid_visual(X, y, adaStochastic)\n",
    "ax[0].plot(range(len(adaStochastic.mean_cost_per_epoch)), adaStochastic.mean_cost_per_epoch, marker = 'o')\n",
    "plt.show()"
   ]
  },
  {
   "cell_type": "code",
   "execution_count": null,
   "metadata": {},
   "outputs": [],
   "source": []
  },
  {
   "cell_type": "code",
   "execution_count": null,
   "metadata": {},
   "outputs": [],
   "source": []
  }
 ],
 "metadata": {
  "kernelspec": {
   "display_name": "Python 3",
   "language": "python",
   "name": "python3"
  },
  "language_info": {
   "codemirror_mode": {
    "name": "ipython",
    "version": 3
   },
   "file_extension": ".py",
   "mimetype": "text/x-python",
   "name": "python",
   "nbconvert_exporter": "python",
   "pygments_lexer": "ipython3",
   "version": "3.8.1"
  }
 },
 "nbformat": 4,
 "nbformat_minor": 4
}
