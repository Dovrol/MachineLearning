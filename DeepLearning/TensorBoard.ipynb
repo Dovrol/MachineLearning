{
 "cells": [
  {
   "cell_type": "code",
   "execution_count": 1,
   "metadata": {},
   "outputs": [],
   "source": [
    "import tensorflow as tf\n",
    "import numpy as np\n",
    "from datetime import datetime\n",
    "from sklearn.datasets import fetch_california_housing\n",
    "from sklearn.preprocessing import StandardScaler"
   ]
  },
  {
   "cell_type": "code",
   "execution_count": 2,
   "metadata": {},
   "outputs": [],
   "source": [
    "#Preparing data\n",
    "housing = fetch_california_housing()\n",
    "house_X, y_house = housing.data, housing.target\n",
    "m,n = house_X.shape\n",
    "SS = StandardScaler()\n",
    "X_scaled = SS.fit_transform(house_X)\n",
    "X_scaled_B = np.c_[np.ones((m, 1)), X_scaled]"
   ]
  },
  {
   "cell_type": "code",
   "execution_count": null,
   "metadata": {},
   "outputs": [],
   "source": []
  },
  {
   "cell_type": "code",
   "execution_count": 12,
   "metadata": {},
   "outputs": [
    {
     "name": "stdout",
     "output_type": "stream",
     "text": [
      "[[  2.05716515e+00]\n",
      " [  8.29733849e-01]\n",
      " [  1.13596402e-01]\n",
      " [ -2.67577291e-01]\n",
      " [  3.10342550e-01]\n",
      " [  1.29029620e-03]\n",
      " [ -3.31210233e-02]\n",
      " [ -8.99932742e-01]\n",
      " [ -8.51529181e-01]]\n"
     ]
    }
   ],
   "source": [
    "tf.reset_default_graph()\n",
    "now = datetime.utcnow().strftime(\"%Y%m%d%H%M%S\")\n",
    "root_logdir = \"tf_dzienniki\"\n",
    "logdir = \"{}/przebieg-{}\".format(root_logdir, now)\n",
    "\n",
    "def fetch_batch(epoch, batch_index, batch_size):\n",
    "#     np.random.seed(epoch * n_batches + batch_index)  \n",
    "    indices = np.random.randint(m, size=batch_size) \n",
    "    X_batch = X_scaled_B[indices]\n",
    "    y_batch = housing.target.reshape(-1, 1)[indices]\n",
    "    return X_batch, y_batch\n",
    "\n",
    "\n",
    "X = tf.placeholder(dtype = tf.float32 ,name = 'X')\n",
    "y = tf.placeholder(dtype = tf.float32 ,name = 'y')\n",
    "theta = tf.Variable(tf.random_uniform([n+1, 1],-1.0,1.0), name = 'theta')\n",
    "\n",
    "y_pred = tf.matmul(X, theta, name = 'predicted_vals')\n",
    "error = y_pred - y\n",
    "mse = tf.reduce_mean(tf.square(error), name = 'mse')\n",
    "\n",
    "optimizer = tf.train.GradientDescentOptimizer(learning_rate=0.01)\n",
    "training_op = optimizer.minimize(mse)\n",
    "\n",
    "mse_summary = tf.summary.scalar('MSE', mse)\n",
    "file_writer = tf.summary.FileWriter(logdir, tf.get_default_graph())\n",
    "\n",
    "saver = tf.train.Saver()\n",
    "init = tf.global_variables_initializer()\n",
    "\n",
    "\n",
    "\n",
    "batch_size = 100\n",
    "n_epochs = 100\n",
    "n_batches = int(np.ceil(m / batch_size))\n",
    "with tf.Session() as sess:\n",
    "    sess.run(init)\n",
    "    for epoch in range(n_epochs):\n",
    "        for batch_index in range(n_batches):\n",
    "            X_batch, y_batch = fetch_batch(epoch, batch_index, batch_size)\n",
    "            if batch_index % 10 == 0:\n",
    "                summary_str = mse_summary.eval(feed_dict = {X:X_batch,y:y_batch})\n",
    "                step = epoch * n_batches + batch_index\n",
    "                file_writer.add_summary(summary_str, step)\n",
    "            sess.run(training_op, feed_dict = {X:X_batch,y:y_batch})\n",
    "    best_theta = theta.eval()\n",
    "    file_writer.close()\n",
    "print(best_theta)\n"
   ]
  },
  {
   "cell_type": "code",
   "execution_count": 16,
   "metadata": {},
   "outputs": [
    {
     "name": "stdout",
     "output_type": "stream",
     "text": [
      "[[ 2.06855249]\n",
      " [ 0.82963288]\n",
      " [ 0.11875445]\n",
      " [-0.26554993]\n",
      " [ 0.30571496]\n",
      " [-0.00450218]\n",
      " [-0.03932685]\n",
      " [-0.89985341]\n",
      " [-0.87051022]]\n"
     ]
    }
   ],
   "source": [
    "tf.reset_default_graph()\n",
    "now = datetime.utcnow().strftime(\"%Y%m%d%H%M%S\")\n",
    "root_logdir = \"tf_dzienniki\"\n",
    "logdir = \"{}/przebiegGrad-{}\".format(root_logdir, now)\n",
    "\n",
    "\n",
    "X = tf.constant(X_scaled_B, dtype = tf.float32 ,name = 'X')\n",
    "y = tf.constant(y_house.reshape(-1,1),dtype = tf.float32 ,name = 'y')\n",
    "theta = tf.Variable(tf.random_uniform([n+1, 1],-1.0,1.0), name = 'theta')\n",
    "\n",
    "y_pred = tf.matmul(X, theta, name = 'predicted_vals')\n",
    "error = y_pred - y\n",
    "mse = tf.reduce_mean(tf.square(error), name = 'mse')\n",
    "gradients = 2/m * tf.matmul(tf.transpose(X), error)\n",
    "\n",
    "training_op = tf.assign(theta, theta - 0.01*gradients)\n",
    "\n",
    "mse_summary = tf.summary.scalar('MSE', mse)\n",
    "file_writer = tf.summary.FileWriter(logdir, tf.get_default_graph())\n",
    "\n",
    "init = tf.global_variables_initializer()\n",
    "with tf.Session() as sess:\n",
    "    sess.run(init)\n",
    "    for i in range(20000):\n",
    "        if i % 200 == 0:\n",
    "            summary_str = mse_summary.eval()\n",
    "            file_writer.add_summary(summary_str, i)\n",
    "        sess.run(training_op)\n",
    "    best_theta = theta.eval()\n",
    "    file_writer.close()\n",
    "print(best_theta)"
   ]
  },
  {
   "cell_type": "code",
   "execution_count": null,
   "metadata": {},
   "outputs": [],
   "source": []
  }
 ],
 "metadata": {
  "kernelspec": {
   "display_name": "Python 3",
   "language": "python",
   "name": "python3"
  },
  "language_info": {
   "codemirror_mode": {
    "name": "ipython",
    "version": 3
   },
   "file_extension": ".py",
   "mimetype": "text/x-python",
   "name": "python",
   "nbconvert_exporter": "python",
   "pygments_lexer": "ipython3",
   "version": "3.6.3"
  }
 },
 "nbformat": 4,
 "nbformat_minor": 2
}
