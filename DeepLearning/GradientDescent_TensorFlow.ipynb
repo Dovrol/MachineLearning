{
 "cells": [
  {
   "cell_type": "code",
   "execution_count": 2,
   "metadata": {},
   "outputs": [],
   "source": [
    "import tensorflow as tf\n",
    "import numpy as np\n",
    "from sklearn.datasets import fetch_california_housing\n",
    "from sklearn.preprocessing import StandardScaler"
   ]
  },
  {
   "cell_type": "code",
   "execution_count": 9,
   "metadata": {},
   "outputs": [],
   "source": [
    "housing = fetch_california_housing()"
   ]
  },
  {
   "cell_type": "code",
   "execution_count": 22,
   "metadata": {},
   "outputs": [],
   "source": [
    "house_X, y_house = housing.data, housing.target\n",
    "m,n = house_X.shape"
   ]
  },
  {
   "cell_type": "code",
   "execution_count": 11,
   "metadata": {},
   "outputs": [],
   "source": [
    "SS = StandardScaler()\n",
    "X_scaled = SS.fit_transform(house_X)"
   ]
  },
  {
   "cell_type": "code",
   "execution_count": 12,
   "metadata": {},
   "outputs": [],
   "source": [
    "X_scaled_B = np.c_[np.ones((m, 1)), X_scaled]"
   ]
  },
  {
   "cell_type": "code",
   "execution_count": 56,
   "metadata": {},
   "outputs": [
    {
     "data": {
      "text/plain": [
       "20640"
      ]
     },
     "execution_count": 56,
     "metadata": {},
     "output_type": "execute_result"
    }
   ],
   "source": [
    "m"
   ]
  },
  {
   "cell_type": "markdown",
   "metadata": {},
   "source": [
    "<h1>Calculating gradients by hand !</h1>"
   ]
  },
  {
   "cell_type": "code",
   "execution_count": 35,
   "metadata": {},
   "outputs": [
    {
     "name": "stdout",
     "output_type": "stream",
     "text": [
      "[[ 2.06855226]\n",
      " [ 0.83084565]\n",
      " [ 0.11975727]\n",
      " [-0.2663914 ]\n",
      " [ 0.3057718 ]\n",
      " [-0.00415385]\n",
      " [-0.03943728]\n",
      " [-0.89139402]\n",
      " [-0.86212176]]\n"
     ]
    }
   ],
   "source": [
    "tf.reset_default_graph()\n",
    "X = tf.constant(X_scaled_B, dtype = tf.float32 ,name = 'X')\n",
    "y = tf.constant(y_house.reshape(-1,1),dtype = tf.float32 ,name = 'y')\n",
    "theta = tf.Variable(tf.random_uniform([n+1, 1],-1.0,1.0), name = 'theta')\n",
    "\n",
    "y_pred = tf.matmul(X, theta, name = 'predicted_vals')\n",
    "error = y_pred - y\n",
    "mse = tf.reduce_mean(tf.square(error), name = 'mse')\n",
    "gradients = 2/m * tf.matmul(tf.transpose(X), error)\n",
    "\n",
    "training_op = tf.assign(theta, theta - 0.01*gradients)\n",
    "\n",
    "init = tf.global_variables_initializer()\n",
    "with tf.Session() as sess:\n",
    "    sess.run(init)\n",
    "    for i in range(1000):\n",
    "#         if i % 100 == 0:\n",
    "#             print(mse.eval())\n",
    "        sess.run(training_op)\n",
    "    best_theta = theta.eval()\n",
    "print(best_theta)"
   ]
  },
  {
   "cell_type": "markdown",
   "metadata": {},
   "source": [
    "<h1>Using optimizer and saving data!</h1>"
   ]
  },
  {
   "cell_type": "code",
   "execution_count": 46,
   "metadata": {},
   "outputs": [
    {
     "name": "stdout",
     "output_type": "stream",
     "text": [
      "[[ 2.06855774]\n",
      " [ 0.82965553]\n",
      " [ 0.11875837]\n",
      " [-0.26559547]\n",
      " [ 0.30575299]\n",
      " [-0.00450103]\n",
      " [-0.03932761]\n",
      " [-0.89980263]\n",
      " [-0.87046212]]\n"
     ]
    }
   ],
   "source": [
    "tf.reset_default_graph()\n",
    "X = tf.constant(X_scaled_B, dtype = tf.float32 ,name = 'X')\n",
    "y = tf.constant(y_house.reshape(-1,1),dtype = tf.float32 ,name = 'y')\n",
    "theta = tf.Variable(tf.random_uniform([n+1, 1],-1.0,1.0), name = 'theta')\n",
    "optimizer = tf.train.GradientDescentOptimizer(learning_rate=0.1)\n",
    "\n",
    "y_pred = tf.matmul(X, theta, name = 'predicted_vals')\n",
    "error = y_pred - y\n",
    "mse = tf.reduce_mean(tf.square(error), name = 'mse')\n",
    "training_op = optimizer.minimize(mse)\n",
    "\n",
    "saver = tf.train.Saver()\n",
    "init = tf.global_variables_initializer()\n",
    "with tf.Session() as sess:\n",
    "    sess.run(init)\n",
    "    for i in range(1000):\n",
    "        if i % 100 == 0:\n",
    "            save_path = saver.save(sess, \"my_model.ckpt\")\n",
    "#             print(mse.eval())\n",
    "        sess.run(training_op)\n",
    "    best_theta = theta.eval()\n",
    "    save_path = saver.save(sess, \"my_final_model.ckpt\")\n",
    "print(best_theta)"
   ]
  },
  {
   "cell_type": "markdown",
   "metadata": {},
   "source": [
    "<h1>Loading data</h1>"
   ]
  },
  {
   "cell_type": "code",
   "execution_count": 49,
   "metadata": {},
   "outputs": [
    {
     "name": "stdout",
     "output_type": "stream",
     "text": [
      "INFO:tensorflow:Restoring parameters from my_final_model.ckpt\n"
     ]
    }
   ],
   "source": [
    "with tf.Session() as sess:    \n",
    "    data = saver.restore(sess, 'my_final_model.ckpt')"
   ]
  },
  {
   "cell_type": "markdown",
   "metadata": {},
   "source": [
    "<h1>Mini batch</h1>"
   ]
  },
  {
   "cell_type": "code",
   "execution_count": 112,
   "metadata": {},
   "outputs": [
    {
     "name": "stdout",
     "output_type": "stream",
     "text": [
      "[[ 2.06345963]\n",
      " [ 0.81236684]\n",
      " [ 0.12666205]\n",
      " [-0.22035035]\n",
      " [ 0.31527257]\n",
      " [ 0.00393724]\n",
      " [-0.00978793]\n",
      " [-0.89503902]\n",
      " [-0.87407649]]\n"
     ]
    }
   ],
   "source": [
    "tf.reset_default_graph()\n",
    "def fetch_batch(epoch, batch_index, batch_size):\n",
    "#     np.random.seed(epoch * n_batches + batch_index)  \n",
    "    indices = np.random.randint(m, size=batch_size) \n",
    "    X_batch = X_scaled_B[indices]\n",
    "    y_batch = housing.target.reshape(-1, 1)[indices]\n",
    "    return X_batch, y_batch\n",
    "\n",
    "\n",
    "X = tf.placeholder(dtype = tf.float32 ,name = 'X')\n",
    "y = tf.placeholder(dtype = tf.float32 ,name = 'y')\n",
    "theta = tf.Variable(tf.random_uniform([n+1, 1],-1.0,1.0), name = 'theta')\n",
    "\n",
    "y_pred = tf.matmul(X, theta, name = 'predicted_vals')\n",
    "error = y_pred - y\n",
    "mse = tf.reduce_mean(tf.square(error), name = 'mse')\n",
    "\n",
    "optimizer = tf.train.GradientDescentOptimizer(learning_rate=0.01)\n",
    "training_op = optimizer.minimize(mse)\n",
    "\n",
    "saver = tf.train.Saver()\n",
    "init = tf.global_variables_initializer()\n",
    "\n",
    "\n",
    "\n",
    "batch_size = 100\n",
    "n_epochs = 100\n",
    "n_batches = int(np.ceil(m / batch_size))\n",
    "with tf.Session() as sess:\n",
    "    sess.run(init)\n",
    "    for epoch in range(n_epochs):\n",
    "        if epoch % 10 == 0:\n",
    "            save_path = saver.save(sess, \"tmp/my_model.ckpt\")\n",
    "        for batch_index in range(n_batches):\n",
    "            X_batch, y_batch = fetch_batch(epoch, batch_index, batch_size)\n",
    "            sess.run(training_op, feed_dict = {X:X_batch,y:y_batch})\n",
    "    best_theta = theta.eval()\n",
    "    save_path = saver.save(sess, \"tmp/my_final_model.ckpt\")\n",
    "print(best_theta)"
   ]
  },
  {
   "cell_type": "markdown",
   "metadata": {},
   "source": [
    "<h1>Loading graphs</h1>"
   ]
  },
  {
   "cell_type": "code",
   "execution_count": 119,
   "metadata": {},
   "outputs": [],
   "source": [
    "tf.reset_default_graph()\n",
    "saver = tf.train.import_meta_graph('tmp/my_final_model.ckpt.meta')"
   ]
  },
  {
   "cell_type": "code",
   "execution_count": null,
   "metadata": {},
   "outputs": [],
   "source": []
  },
  {
   "cell_type": "code",
   "execution_count": null,
   "metadata": {},
   "outputs": [],
   "source": []
  }
 ],
 "metadata": {
  "kernelspec": {
   "display_name": "Python 3",
   "language": "python",
   "name": "python3"
  },
  "language_info": {
   "codemirror_mode": {
    "name": "ipython",
    "version": 3
   },
   "file_extension": ".py",
   "mimetype": "text/x-python",
   "name": "python",
   "nbconvert_exporter": "python",
   "pygments_lexer": "ipython3",
   "version": "3.6.3"
  }
 },
 "nbformat": 4,
 "nbformat_minor": 2
}
