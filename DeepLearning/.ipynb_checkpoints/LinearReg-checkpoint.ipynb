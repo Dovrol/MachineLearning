{
 "cells": [
  {
   "cell_type": "code",
   "execution_count": 72,
   "metadata": {},
   "outputs": [],
   "source": [
    "import tensorflow as tf\n",
    "import numpy as np\n",
    "import matplotlib.pyplot as plt\n",
    "\n",
    "x =  np.linspace(-10,10)\n",
    "y = 0.5*x**2 + x*0.3 + 5"
   ]
  },
  {
   "cell_type": "code",
   "execution_count": 73,
   "metadata": {},
   "outputs": [
    {
     "data": {
      "text/plain": [
       "<matplotlib.collections.PathCollection at 0x7f087d667940>"
      ]
     },
     "execution_count": 73,
     "metadata": {},
     "output_type": "execute_result"
    },
    {
     "data": {
      "image/png": "[encoded data removed]",
      "text/plain": [
       "<Figure size 432x288 with 1 Axes>"
      ]
     },
     "metadata": {},
     "output_type": "display_data"
    }
   ],
   "source": [
    "plt.scatter(x, y)"
   ]
  },
  {
   "cell_type": "code",
   "execution_count": 56,
   "metadata": {},
   "outputs": [],
   "source": [
    "X = tf.placeholder(tf.float32)\n",
    "Y = tf.placeholder(tf.float32)\n",
    "m = tf.Variable(np.random.uniform(1), dtype= tf.float32)\n",
    "b = tf.Variable(np.random.uniform(1), dtype = tf.float32)\n",
    "c = tf.Variable(np.random.uniform(1), dtype = tf.float32)\n",
    "\n",
    "pred = X**2*m + b*X + c\n",
    "cost = tf.reduce_sum((pred - Y)**2) / (2* 50)\n",
    "SGD = tf.train.GradientDescentOptimizer(learning_rate = 0.1).minimize(cost)\n",
    "\n",
    "init = tf.global_variables_initializer()\n",
    "\n"
   ]
  },
  {
   "cell_type": "code",
   "execution_count": 57,
   "metadata": {},
   "outputs": [
    {
     "name": "stdout",
     "output_type": "stream",
     "text": [
      "0.617 0.93\n",
      "0.709766 0.988283\n",
      "0.67421 1.01136\n",
      "0.673456 1.04339\n",
      "0.663452 1.07246\n",
      "0.656092 1.10179\n",
      "0.648161 1.13051\n",
      "0.640527 1.15888\n",
      "0.632952 1.18682\n",
      "0.625499 1.21437\n",
      "0.618149 1.24153\n",
      "0.610904 1.26829\n",
      "0.603764 1.29468\n",
      "0.596725 1.32069\n",
      "0.589787 1.34632\n",
      "0.582948 1.37159\n",
      "0.576207 1.3965\n",
      "0.569562 1.42105\n",
      "0.563012 1.44525\n",
      "0.556556 1.4691\n",
      "0.550192 1.49262\n",
      "0.543919 1.51579\n",
      "0.537736 1.53864\n",
      "0.531641 1.56116\n",
      "0.525633 1.58336\n",
      "0.519712 1.60524\n",
      "0.513874 1.62681\n",
      "0.508121 1.64806\n",
      "0.502449 1.66902\n",
      "0.496859 1.68968\n",
      "0.491348 1.71004\n",
      "0.485917 1.73011\n",
      "0.480563 1.74989\n",
      "0.475285 1.76939\n",
      "0.470083 1.78861\n",
      "0.464955 1.80755\n",
      "0.459901 1.82623\n",
      "0.454919 1.84464\n",
      "0.450008 1.86278\n",
      "0.445167 1.88067\n",
      "0.440395 1.8983\n",
      "0.435692 1.91568\n",
      "0.431056 1.93281\n",
      "0.426486 1.94969\n",
      "0.421982 1.96634\n",
      "0.417542 1.98274\n",
      "0.413165 1.99891\n",
      "0.408851 2.01485\n",
      "0.404599 2.03056\n",
      "0.400407 2.04605\n",
      "0.396275 2.06132\n",
      "0.392203 2.07637\n",
      "0.388188 2.0912\n",
      "0.384231 2.10582\n",
      "0.380331 2.12023\n",
      "0.376486 2.13444\n",
      "0.372696 2.14844\n",
      "0.368961 2.16224\n",
      "0.365279 2.17585\n",
      "0.361649 2.18926\n",
      "0.358072 2.20248\n",
      "0.354545 2.2155\n",
      "0.351069 2.22835\n",
      "0.347643 2.24101\n",
      "0.344265 2.25349\n",
      "0.340936 2.26579\n",
      "0.337655 2.27791\n",
      "0.33442 2.28986\n",
      "0.331232 2.30164\n",
      "0.328089 2.31326\n",
      "0.324991 2.3247\n",
      "0.321937 2.33599\n",
      "0.318927 2.34711\n",
      "0.31596 2.35807\n",
      "0.313036 2.36887\n",
      "0.310153 2.37953\n",
      "0.307312 2.39002\n",
      "0.304511 2.40037\n",
      "0.30175 2.41057\n",
      "0.299029 2.42063\n",
      "0.296346 2.43054\n",
      "0.293702 2.44031\n",
      "0.291096 2.44994\n",
      "0.288527 2.45943\n",
      "0.285995 2.46879\n",
      "0.283498 2.47801\n",
      "0.281038 2.4871\n",
      "0.278613 2.49606\n",
      "0.276222 2.5049\n",
      "0.273866 2.5136\n",
      "0.271543 2.52219\n",
      "0.269254 2.53064\n",
      "0.266997 2.53898\n",
      "0.264772 2.5472\n",
      "0.262579 2.5553\n",
      "0.260418 2.56329\n",
      "0.258288 2.57116\n",
      "0.256187 2.57892\n",
      "0.254118 2.58657\n",
      "0.252077 2.59411\n"
     ]
    }
   ],
   "source": [
    "with tf.Session() as sess:\n",
    "    sess.run(init)\n",
    "    \n",
    "    for i in range(100):\n",
    "        sess.run(SGD, feed_dict = {X:x, Y:y})\n",
    "        sess.run(cost, feed_dict = {X:x, Y:y})\n",
    "        print(sess.run(m), sess.run(b))\n",
    "\n",
    "    theta = sess.run(m), sess.run(b)"
   ]
  },
  {
   "cell_type": "code",
   "execution_count": null,
   "metadata": {},
   "outputs": [],
   "source": []
  },
  {
   "cell_type": "code",
   "execution_count": 58,
   "metadata": {},
   "outputs": [
    {
     "data": {
      "text/plain": [
       "[<matplotlib.lines.Line2D at 0x7f087d0e86a0>]"
      ]
     },
     "execution_count": 58,
     "metadata": {},
     "output_type": "execute_result"
    },
    {
     "data": {
      "image/png": "[encoded data removed]",
      "text/plain": [
       "<Figure size 432x288 with 1 Axes>"
      ]
     },
     "metadata": {},
     "output_type": "display_data"
    }
   ],
   "source": [
    "plt.scatter(x, y)\n",
    "plt.plot([1.5, 6], [theta[0]*1.5 + theta[1], theta[0]*6 + theta[1]])"
   ]
  },
  {
   "cell_type": "code",
   "execution_count": null,
   "metadata": {},
   "outputs": [],
   "source": []
  }
 ],
 "metadata": {
  "kernelspec": {
   "display_name": "Python 3",
   "language": "python",
   "name": "python3"
  },
  "language_info": {
   "codemirror_mode": {
    "name": "ipython",
    "version": 3
   },
   "file_extension": ".py",
   "mimetype": "text/x-python",
   "name": "python",
   "nbconvert_exporter": "python",
   "pygments_lexer": "ipython3",
   "version": "3.6.3"
  }
 },
 "nbformat": 4,
 "nbformat_minor": 2
}
