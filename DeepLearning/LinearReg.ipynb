{
 "cells": [
  {
   "cell_type": "code",
   "execution_count": 92,
   "metadata": {},
   "outputs": [],
   "source": [
    "import tensorflow as tf\n",
    "import numpy as np\n",
    "import matplotlib.pyplot as plt\n",
    "\n",
    "x =  np.linspace(-10,10)\n",
    "n_samples = len(x)\n",
    "y = 0.5*x**2 + x*0.3 + 5"
   ]
  },
  {
   "cell_type": "code",
   "execution_count": 93,
   "metadata": {},
   "outputs": [
    {
     "data": {
      "text/plain": [
       "<matplotlib.collections.PathCollection at 0x7f087a135588>"
      ]
     },
     "execution_count": 93,
     "metadata": {},
     "output_type": "execute_result"
    },
    {
     "data": {
      "image/png": "[encoded data removed]",
      "text/plain": [
       "<Figure size 432x288 with 1 Axes>"
      ]
     },
     "metadata": {},
     "output_type": "display_data"
    }
   ],
   "source": [
    "plt.scatter(x, y)"
   ]
  },
  {
   "cell_type": "code",
   "execution_count": 95,
   "metadata": {},
   "outputs": [],
   "source": [
    "X = tf.placeholder(tf.float32)\n",
    "Y = tf.placeholder(tf.float32)\n",
    "a = tf.Variable(np.random.uniform(1), dtype= tf.float32)\n",
    "b = tf.Variable(np.random.uniform(1), dtype = tf.float32)\n",
    "c = tf.Variable(np.random.uniform(1), dtype = tf.float32)\n",
    "\n",
    "pred = tf.add(tf.add(tf.multiply(tf.square(X), a), tf.multiply(X, b)), c)\n",
    "cost = (1/ n_samples)* tf.reduce_sum((pred - Y)**2)\n",
    "SGD = tf.train.GradientDescentOptimizer(learning_rate = 0.1).minimize(cost)\n",
    "\n",
    "init = tf.global_variables_initializer()\n",
    "\n"
   ]
  },
  {
   "cell_type": "code",
   "execution_count": 97,
   "metadata": {},
   "outputs": [],
   "source": [
    "with tf.Session() as sess:\n",
    "    sess.run(init)\n",
    "    \n",
    "    for i in range(100):\n",
    "        sess.run(SGD, feed_dict = {X:x, Y:y})\n",
    "        sess.run(cost, feed_dict = {X:x, Y:y})\n",
    "#         print(sess.run(a), sess.run(b), sess.run(c))\n",
    "\n",
    "    theta = sess.run(m), sess.run(b)"
   ]
  },
  {
   "cell_type": "code",
   "execution_count": 100,
   "metadata": {},
   "outputs": [],
   "source": [
    "from sklearn.preprocessing import PolynomialFeatures"
   ]
  },
  {
   "cell_type": "code",
   "execution_count": 107,
   "metadata": {},
   "outputs": [],
   "source": [
    "pf = PolynomialFeatures(degree=3, include_bias=True)\n",
    "poly_x = pf.fit_transform(np.array(x).reshape(-1,1))"
   ]
  },
  {
   "cell_type": "code",
   "execution_count": 108,
   "metadata": {},
   "outputs": [
    {
     "data": {
      "text/plain": [
       "array([[  1.00000000e+00,  -1.00000000e+01,   1.00000000e+02,\n",
       "         -1.00000000e+03],\n",
       "       [  1.00000000e+00,  -9.59183673e+00,   9.20033319e+01,\n",
       "         -8.82480939e+02],\n",
       "       [  1.00000000e+00,  -9.18367347e+00,   8.43398584e+01,\n",
       "         -7.74549720e+02],\n",
       "       [  1.00000000e+00,  -8.77551020e+00,   7.70095793e+01,\n",
       "         -6.75798349e+02],\n",
       "       [  1.00000000e+00,  -8.36734694e+00,   7.00124948e+01,\n",
       "         -5.85818834e+02],\n",
       "       [  1.00000000e+00,  -7.95918367e+00,   6.33486047e+01,\n",
       "         -5.04203181e+02],\n",
       "       [  1.00000000e+00,  -7.55102041e+00,   5.70179092e+01,\n",
       "         -4.30543396e+02],\n",
       "       [  1.00000000e+00,  -7.14285714e+00,   5.10204082e+01,\n",
       "         -3.64431487e+02],\n",
       "       [  1.00000000e+00,  -6.73469388e+00,   4.53561016e+01,\n",
       "         -3.05459460e+02],\n",
       "       [  1.00000000e+00,  -6.32653061e+00,   4.00249896e+01,\n",
       "         -2.53219322e+02],\n",
       "       [  1.00000000e+00,  -5.91836735e+00,   3.50270721e+01,\n",
       "         -2.07303079e+02],\n",
       "       [  1.00000000e+00,  -5.51020408e+00,   3.03623490e+01,\n",
       "         -1.67302740e+02],\n",
       "       [  1.00000000e+00,  -5.10204082e+00,   2.60308205e+01,\n",
       "         -1.32810309e+02],\n",
       "       [  1.00000000e+00,  -4.69387755e+00,   2.20324865e+01,\n",
       "         -1.03417794e+02],\n",
       "       [  1.00000000e+00,  -4.28571429e+00,   1.83673469e+01,\n",
       "         -7.87172012e+01],\n",
       "       [  1.00000000e+00,  -3.87755102e+00,   1.50354019e+01,\n",
       "         -5.83005380e+01],\n",
       "       [  1.00000000e+00,  -3.46938776e+00,   1.20366514e+01,\n",
       "         -4.17598110e+01],\n",
       "       [  1.00000000e+00,  -3.06122449e+00,   9.37109538e+00,\n",
       "         -2.86870267e+01],\n",
       "       [  1.00000000e+00,  -2.65306122e+00,   7.03873386e+00,\n",
       "         -1.86741919e+01],\n",
       "       [  1.00000000e+00,  -2.24489796e+00,   5.03956685e+00,\n",
       "         -1.13133133e+01],\n",
       "       [  1.00000000e+00,  -1.83673469e+00,   3.37359434e+00,\n",
       "         -6.19639776e+00],\n",
       "       [  1.00000000e+00,  -1.42857143e+00,   2.04081633e+00,\n",
       "         -2.91545190e+00],\n",
       "       [  1.00000000e+00,  -1.02040816e+00,   1.04123282e+00,\n",
       "         -1.06248247e+00],\n",
       "       [  1.00000000e+00,  -6.12244898e-01,   3.74843815e-01,\n",
       "         -2.29496213e-01],\n",
       "       [  1.00000000e+00,  -2.04081633e-01,   4.16493128e-02,\n",
       "         -8.49985975e-03],\n",
       "       [  1.00000000e+00,   2.04081633e-01,   4.16493128e-02,\n",
       "          8.49985975e-03],\n",
       "       [  1.00000000e+00,   6.12244898e-01,   3.74843815e-01,\n",
       "          2.29496213e-01],\n",
       "       [  1.00000000e+00,   1.02040816e+00,   1.04123282e+00,\n",
       "          1.06248247e+00],\n",
       "       [  1.00000000e+00,   1.42857143e+00,   2.04081633e+00,\n",
       "          2.91545190e+00],\n",
       "       [  1.00000000e+00,   1.83673469e+00,   3.37359434e+00,\n",
       "          6.19639776e+00],\n",
       "       [  1.00000000e+00,   2.24489796e+00,   5.03956685e+00,\n",
       "          1.13133133e+01],\n",
       "       [  1.00000000e+00,   2.65306122e+00,   7.03873386e+00,\n",
       "          1.86741919e+01],\n",
       "       [  1.00000000e+00,   3.06122449e+00,   9.37109538e+00,\n",
       "          2.86870267e+01],\n",
       "       [  1.00000000e+00,   3.46938776e+00,   1.20366514e+01,\n",
       "          4.17598110e+01],\n",
       "       [  1.00000000e+00,   3.87755102e+00,   1.50354019e+01,\n",
       "          5.83005380e+01],\n",
       "       [  1.00000000e+00,   4.28571429e+00,   1.83673469e+01,\n",
       "          7.87172012e+01],\n",
       "       [  1.00000000e+00,   4.69387755e+00,   2.20324865e+01,\n",
       "          1.03417794e+02],\n",
       "       [  1.00000000e+00,   5.10204082e+00,   2.60308205e+01,\n",
       "          1.32810309e+02],\n",
       "       [  1.00000000e+00,   5.51020408e+00,   3.03623490e+01,\n",
       "          1.67302740e+02],\n",
       "       [  1.00000000e+00,   5.91836735e+00,   3.50270721e+01,\n",
       "          2.07303079e+02],\n",
       "       [  1.00000000e+00,   6.32653061e+00,   4.00249896e+01,\n",
       "          2.53219322e+02],\n",
       "       [  1.00000000e+00,   6.73469388e+00,   4.53561016e+01,\n",
       "          3.05459460e+02],\n",
       "       [  1.00000000e+00,   7.14285714e+00,   5.10204082e+01,\n",
       "          3.64431487e+02],\n",
       "       [  1.00000000e+00,   7.55102041e+00,   5.70179092e+01,\n",
       "          4.30543396e+02],\n",
       "       [  1.00000000e+00,   7.95918367e+00,   6.33486047e+01,\n",
       "          5.04203181e+02],\n",
       "       [  1.00000000e+00,   8.36734694e+00,   7.00124948e+01,\n",
       "          5.85818834e+02],\n",
       "       [  1.00000000e+00,   8.77551020e+00,   7.70095793e+01,\n",
       "          6.75798349e+02],\n",
       "       [  1.00000000e+00,   9.18367347e+00,   8.43398584e+01,\n",
       "          7.74549720e+02],\n",
       "       [  1.00000000e+00,   9.59183673e+00,   9.20033319e+01,\n",
       "          8.82480939e+02],\n",
       "       [  1.00000000e+00,   1.00000000e+01,   1.00000000e+02,\n",
       "          1.00000000e+03]])"
      ]
     },
     "execution_count": 108,
     "metadata": {},
     "output_type": "execute_result"
    }
   ],
   "source": [
    "poly_x"
   ]
  },
  {
   "cell_type": "code",
   "execution_count": null,
   "metadata": {},
   "outputs": [],
   "source": []
  }
 ],
 "metadata": {
  "kernelspec": {
   "display_name": "Python 3",
   "language": "python",
   "name": "python3"
  },
  "language_info": {
   "codemirror_mode": {
    "name": "ipython",
    "version": 3
   },
   "file_extension": ".py",
   "mimetype": "text/x-python",
   "name": "python",
   "nbconvert_exporter": "python",
   "pygments_lexer": "ipython3",
   "version": "3.6.3"
  }
 },
 "nbformat": 4,
 "nbformat_minor": 2
}
