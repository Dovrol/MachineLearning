{
 "cells": [
  {
   "cell_type": "code",
   "execution_count": 2,
   "metadata": {},
   "outputs": [],
   "source": [
    "import numpy as np\n",
    "import matplotlib.pyplot as plt"
   ]
  },
  {
   "cell_type": "code",
   "execution_count": 114,
   "metadata": {},
   "outputs": [],
   "source": [
    "# Random vectors and origin\n",
    "origin = np.array([0,0])\n",
    "vector1 = np.array([0,1])\n",
    "vector2 = np.array([1,0])"
   ]
  },
  {
   "cell_type": "code",
   "execution_count": 155,
   "metadata": {},
   "outputs": [
    {
     "data": {
      "text/plain": [
       "array([1, 2])"
      ]
     },
     "execution_count": 155,
     "metadata": {},
     "output_type": "execute_result"
    }
   ],
   "source": [
    "# Transforming vectors by matrix A\n",
    "\n",
    "A = np.array([[3,1], [0,2]])\n",
    "vec1_transformed = A.dot(vector1.reshape(-1,1)).ravel()\n",
    "vec1_transformed"
   ]
  },
  {
   "cell_type": "code",
   "execution_count": 124,
   "metadata": {},
   "outputs": [
    {
     "data": {
      "text/plain": [
       "array([3, 0])"
      ]
     },
     "execution_count": 124,
     "metadata": {},
     "output_type": "execute_result"
    }
   ],
   "source": [
    "vec2_transformed = A.dot(vector2.reshape(-1,1)).ravel()\n",
    "vec2_transformed"
   ]
  },
  {
   "cell_type": "code",
   "execution_count": 156,
   "metadata": {},
   "outputs": [
    {
     "data": {
      "image/png": "[encoded data removed]",
      "text/plain": [
       "<Figure size 432x288 with 1 Axes>"
      ]
     },
     "metadata": {
      "needs_background": "light"
     },
     "output_type": "display_data"
    }
   ],
   "source": [
    "# Plot original vectors (red) and transformed by matrix A (blue)\n",
    "plt.arrow(*origin, *vector1, head_width=0.3, head_length=0.1, color = 'red')\n",
    "plt.arrow(*origin, *vector2, head_width=0.3, head_length=0.1, color = 'red')\n",
    "plt.arrow(*origin, *vec1_transformed, head_width=0.3, head_length=0.1, color = 'blue')\n",
    "plt.arrow(*origin, *vec2_transformed, head_width=0.3, head_length=0.1, color = 'blue')\n",
    "\n",
    "\n",
    "plt.xlim(-1,3.5)\n",
    "plt.ylim(-3,3)\n",
    "plt.show()"
   ]
  },
  {
   "cell_type": "code",
   "execution_count": 157,
   "metadata": {},
   "outputs": [
    {
     "name": "stdout",
     "output_type": "stream",
     "text": [
      "[[ 1.         -0.70710678]\n",
      " [ 0.          0.70710678]]\n"
     ]
    }
   ],
   "source": [
    "# Compute EigenVectors and EigenValues for matrix A\n",
    "values, vectors = np.linalg.eig(A)\n",
    "print(vectors)"
   ]
  },
  {
   "cell_type": "code",
   "execution_count": 158,
   "metadata": {},
   "outputs": [
    {
     "data": {
      "image/png": "[encoded data removed]",
      "text/plain": [
       "<Figure size 432x288 with 1 Axes>"
      ]
     },
     "metadata": {
      "needs_background": "light"
     },
     "output_type": "display_data"
    }
   ],
   "source": [
    "# Plot eigen vectors or matrix A\n",
    "plt.arrow(*origin, *vectors[:, 0], head_width=0.3, head_length=0.1, color = 'blue')\n",
    "plt.arrow(*origin, *vectors[:, 1], head_width=0.3, head_length=0.1, color = 'red')\n",
    "plt.xlim(-1,3.5)\n",
    "plt.ylim(-3,3)\n",
    "plt.show()"
   ]
  },
  {
   "cell_type": "code",
   "execution_count": 159,
   "metadata": {},
   "outputs": [
    {
     "data": {
      "text/plain": [
       "array([-1.41421356,  1.41421356])"
      ]
     },
     "execution_count": 159,
     "metadata": {},
     "output_type": "execute_result"
    }
   ],
   "source": [
    "# Transform eigen vectors by matrix A\n",
    "eigen_vec1_transformed = A.dot(vectors[:, 0].reshape(-1,1)).ravel()\n",
    "eigen_vec1_transformed\n",
    "\n",
    "eigen_vec2_transformed = A.dot(vectors[:, 1].reshape(-1,1)).ravel()\n",
    "eigen_vec2_transformed"
   ]
  },
  {
   "cell_type": "code",
   "execution_count": 180,
   "metadata": {},
   "outputs": [
    {
     "data": {
      "image/png": "[encoded data removed]",
      "text/plain": [
       "<Figure size 432x288 with 1 Axes>"
      ]
     },
     "metadata": {
      "needs_background": "light"
     },
     "output_type": "display_data"
    }
   ],
   "source": [
    "# Plot transformed eigen vectors\n",
    "# As we cen see they only spanned by value of 2 and 3 (eigenvalues) and has not been rotated where other vectors are always rotate\n",
    "\n",
    "f = plt.figure()\n",
    "\n",
    "arrow1 = plt.arrow(*origin, *vector1, head_width=0.3, head_length=0.1, color = 'purple')\n",
    "arrow2 = plt.arrow(*origin, *vec1_transformed, head_width=0.3, head_length=0.1, color = 'purple')\n",
    "arrow3 = plt.arrow(*origin, *vectors[:, 0], head_width=0.3, head_length=0.1, color = 'blue')\n",
    "arrow4 = plt.arrow(*origin, *eigen_vec1_transformed, head_width=0.3, head_length=0.1, color = 'black')\n",
    "arrow5 = plt.arrow(*origin, *vectors[:, 1], head_width=0.3, head_length=0.1, color = 'red')\n",
    "arrow6 = plt.arrow(*origin, *eigen_vec2_transformed, head_width=0.3, head_length=0.1, color = 'orange')\n",
    "plt.xlim(-3,3.5)\n",
    "plt.ylim(-3,3)\n",
    "plt.legend([arrow1, arrow2, arrow3, arrow4, arrow5, arrow6], ['normal', 'normal-transformed', 'eigen1-not-transformed', 'eigen1-transformed', 'eigen2-not-transformed', 'eigen2-transformed'], loc ='lower left')\n",
    "plt.show()"
   ]
  },
  {
   "cell_type": "code",
   "execution_count": null,
   "metadata": {},
   "outputs": [],
   "source": []
  }
 ],
 "metadata": {
  "kernelspec": {
   "display_name": "Python 3",
   "language": "python",
   "name": "python3"
  },
  "language_info": {
   "codemirror_mode": {
    "name": "ipython",
    "version": 3
   },
   "file_extension": ".py",
   "mimetype": "text/x-python",
   "name": "python",
   "nbconvert_exporter": "python",
   "pygments_lexer": "ipython3",
   "version": "3.8.1"
  }
 },
 "nbformat": 4,
 "nbformat_minor": 4
}
