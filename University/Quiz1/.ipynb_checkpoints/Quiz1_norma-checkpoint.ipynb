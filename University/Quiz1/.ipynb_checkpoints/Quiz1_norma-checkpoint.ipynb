{
 "cells": [
  {
   "cell_type": "markdown",
   "metadata": {},
   "source": [
    "# Podstawy Sztucznej Inteligencji 2018/2019\n",
    "\n"
   ]
  },
  {
   "cell_type": "markdown",
   "metadata": {},
   "source": [
    "Prosze uzupelnic kod tam gdzie znajduje napis `YOUR CODE HERE` lub 'YOUR ANSWER HERE'.\n",
    "\n",
    "Warto zresetowac 'kernel' i sprawdzic czy caly notatnik uruchamiany od poczatku nie daje bledow."
   ]
  },
  {
   "cell_type": "code",
   "execution_count": null,
   "metadata": {},
   "outputs": [],
   "source": []
  },
  {
   "cell_type": "markdown",
   "metadata": {},
   "source": [
    "---"
   ]
  },
  {
   "cell_type": "markdown",
   "metadata": {
    "deletable": false,
    "editable": false,
    "nbgrader": {
     "checksum": "42c640ef34044f237941e2fd934be980",
     "grade": false,
     "grade_id": "cell-c6807741c0de771a",
     "locked": true,
     "schema_version": 1,
     "solution": false
    }
   },
   "source": [
    "## Oblicz normę \n",
    "\n",
    " - $L_1$ \n",
    " - $L_2$\n",
    " \n",
    "dla zadanego wektora.\n",
    "\n",
    "\n",
    "\n",
    "$$ L_p = \\left\\| \\mathbf{x} \\right\\| _p := \\bigg( \\sum_{i=1}^n \\left| x_i \\right| ^p \\bigg) ^{1/p}$$\n",
    "\n",
    " \n",
    "\n"
   ]
  },
  {
   "cell_type": "code",
   "execution_count": 17,
   "metadata": {
    "deletable": false,
    "editable": false,
    "nbgrader": {
     "checksum": "1fa2db85f1cf1c6f3f470ca58fdb14fc",
     "grade": false,
     "grade_id": "cell-ac6d0b5a01ac4856",
     "locked": true,
     "schema_version": 1,
     "solution": false
    }
   },
   "outputs": [],
   "source": [
    "import numpy as np \n",
    "x = np.random.randn(4)"
   ]
  },
  {
   "cell_type": "code",
   "execution_count": 18,
   "metadata": {
    "deletable": false,
    "nbgrader": {
     "checksum": "12579fdc116ad8fccd7c39bcea4e61f5",
     "grade": false,
     "grade_id": "cell-b46de071a57c605d",
     "locked": false,
     "schema_version": 1,
     "solution": true
    }
   },
   "outputs": [],
   "source": [
    "L2 = (np.sum(abs(x)**2))**(1/2)"
   ]
  },
  {
   "cell_type": "code",
   "execution_count": 19,
   "metadata": {
    "deletable": false,
    "nbgrader": {
     "checksum": "0b0d1ba6e8c12d3ec4e9c3a0722a27c3",
     "grade": false,
     "grade_id": "cell-ff558036b82d01cb",
     "locked": false,
     "schema_version": 1,
     "solution": true
    }
   },
   "outputs": [],
   "source": [
    "L1 = (np.sum(abs(x)**1))"
   ]
  },
  {
   "cell_type": "code",
   "execution_count": 20,
   "metadata": {
    "deletable": false,
    "editable": false,
    "nbgrader": {
     "checksum": "bc3d2852b8bd388da73fcd6dfd5da8bb",
     "grade": true,
     "grade_id": "cell-5db5dc4edbd5d598",
     "locked": true,
     "points": 1,
     "schema_version": 1,
     "solution": false
    }
   },
   "outputs": [],
   "source": [
    "assert L2 == np.linalg.norm(x,ord=2)\n",
    "assert L1 == np.linalg.norm(x,ord=1)"
   ]
  },
  {
   "cell_type": "code",
   "execution_count": 21,
   "metadata": {},
   "outputs": [
    {
     "name": "stdout",
     "output_type": "stream",
     "text": [
      "[1 1 1 1 1] 2.23606797749979 5.0\n",
      "[0 0 0 0 5] 5.0 5.0\n"
     ]
    }
   ],
   "source": [
    "for x in [ [1,1,1,1,1],[0,0,0,0,5] ]:\n",
    "    x = np.array(x)\n",
    "    print(x,np.linalg.norm(x,ord=2),np.linalg.norm(x,ord=1) )"
   ]
  },
  {
   "cell_type": "code",
   "execution_count": null,
   "metadata": {},
   "outputs": [],
   "source": []
  }
 ],
 "metadata": {
  "kernelspec": {
   "display_name": "Python 3",
   "language": "python",
   "name": "python3"
  },
  "language_info": {
   "codemirror_mode": {
    "name": "ipython",
    "version": 3
   },
   "file_extension": ".py",
   "mimetype": "text/x-python",
   "name": "python",
   "nbconvert_exporter": "python",
   "pygments_lexer": "ipython3",
   "version": "3.5.5"
  }
 },
 "nbformat": 4,
 "nbformat_minor": 2
}
