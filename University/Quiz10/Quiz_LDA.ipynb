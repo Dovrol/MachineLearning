{
 "cells": [
  {
   "cell_type": "markdown",
   "metadata": {},
   "source": [
    "# Podstawy Sztucznej Inteligencji 2018/2019\n",
    "\n"
   ]
  },
  {
   "cell_type": "markdown",
   "metadata": {},
   "source": [
    "Prosze uzupelnic kod tam gdzie znajduje napis `YOUR CODE HERE` lub 'YOUR ANSWER HERE'.\n",
    "\n",
    "Warto zresetowac 'kernel' i sprawdzic czy caly notatnik uruchamiany od poczatku nie daje bledow."
   ]
  },
  {
   "cell_type": "code",
   "execution_count": null,
   "metadata": {},
   "outputs": [],
   "source": []
  },
  {
   "cell_type": "markdown",
   "metadata": {},
   "source": [
    "---"
   ]
  },
  {
   "cell_type": "markdown",
   "metadata": {
    "deletable": false,
    "editable": false,
    "nbgrader": {
     "checksum": "d57edcf615ffcf54217f57e27c1f3cad",
     "grade": false,
     "grade_id": "cell-90538625f2b6086f",
     "locked": true,
     "schema_version": 1,
     "solution": false
    }
   },
   "source": [
    "## Liniowa analiza dyskryminacyjna Fishera\n",
    "\n",
    "\n",
    "Idea - maksymalizacja stosunku wariancji:\n",
    "\n",
    "\n",
    "$$ \\frac{\\sigma_b^2}{\\sigma_w^2}$$\n",
    "\n",
    "\n",
    "Niech $S_b$ będzie macierzą kowariancji (lub scatter matrix) pomiędzy klasami\n",
    "\n",
    "$$S_b= \\sum_c N_c \\left(\\mu_c-\\mu\\right) \\left(\\mu_c-\\mu\\right)^T$$\n",
    "\n",
    "gdzie $\\mu_c$ oznacza średni wektor cech w obrębie jednej klasy $c$ o liczebności $N_c$.\n",
    "\n",
    "\n",
    "Niech $S_{wc}$ będzie macierzą kowariancji (lub scatter matrix) wewnątrz  klasy:\n",
    "\n",
    "$$S_{wc}= \\frac{1}{N_c-1}\\sum_{i\\in c} \\left(x_i-\\mu_c\\right) \\left(x_i-\\mu_c\\right)^T$$\n",
    "\n",
    "gdzie $\\mu_i$ oznacza średni wektor cech w obrębie jednej klasy o liczebności $N_c$.\n",
    "\n",
    "Interesuje nas suma takich macierzy:\n",
    "\n",
    "$$S_w= \\sum_c S_{wc}  = \\sum_c\\frac{1}{N_c-1}\\sum_{i\\in c} \\left(x_i-\\mu_c\\right) \\left(x_i-\\mu_c\\right)^T$$\n",
    "\n",
    "\n",
    "Analiza dyskryminacyjna Fishera poszukuje takich wektorów $\\mathbf{w}$, które maksymalizują:\n",
    "\n",
    "$$ J = \\frac{\\mathbf{w}^T S_b\\mathbf{w}}{\\mathbf{w}^T S_w\\mathbf{w}}.$$\n",
    "\n",
    "Ponieważ $J$ jest niezmiennicze względem skalowania $\\mathbf{w}\\to\\alpha\\mathbf{w}$, to możemy ograniczyć się do takich $\\mathbf{w}$, że $\\mathbf{w}^T S_w\\mathbf{w}=1$. Wtedy mamy zagadnienie minimalizacyjne:\n",
    "\n",
    "$$  \\mathrm{min}_\\mathbf{w}  -\\mathbf{w}^T S_b\\mathbf{w} \\\\\n",
    "  \\mathbf{w}^T S_w\\mathbf{w} = 1 $$\n",
    "\n",
    "Stosując mnożniki Lagrange'a mamy:\n",
    "\n",
    "$$L = -\\frac{1}{2} \\mathbf{w}^T S_b\\mathbf{w} + \\frac{1}{2} \\lambda \\left(\\mathbf{w}^T S_w\\mathbf{w} - 1\\right)  $$\n",
    "\n",
    "$$\n",
    "\\frac{\\partial L}{\\partial \\mathbf{w}} = -S_b\\mathbf{w} + \\lambda  S_w\\mathbf{w} = 0\n",
    "$$\n",
    "\n",
    "czyli:\n",
    "\n",
    "$$\n",
    " S_b\\mathbf{w} = \\lambda  S_w\\mathbf{w} \n",
    "$$\n",
    "\n",
    "Powyższe wyrażenie jest tzw. uogólnionym zagadnieniem własnym. Jeśli istnieje macierz odwrotna $S_w^{-1}$ to można je sprowadzić do:\n",
    "\n",
    "\n",
    "$$\n",
    " S_w^{-1} S_b\\mathbf{w} = \\lambda  \\mathbf{w} \n",
    "$$\n",
    "\n",
    "\n"
   ]
  },
  {
   "cell_type": "code",
   "execution_count": 1,
   "metadata": {
    "deletable": false,
    "editable": false,
    "nbgrader": {
     "checksum": "174a2a788bb0365a1a37386cea0624f0",
     "grade": false,
     "grade_id": "cell-ad24f11dad00af1b",
     "locked": true,
     "schema_version": 1,
     "solution": false
    }
   },
   "outputs": [],
   "source": [
    "%matplotlib inline \n",
    "import matplotlib.pyplot as plt\n",
    "import numpy as np "
   ]
  },
  {
   "cell_type": "code",
   "execution_count": 2,
   "metadata": {
    "deletable": false,
    "editable": false,
    "nbgrader": {
     "checksum": "f62a2d843bcbb396e7787e79a5ffa75e",
     "grade": false,
     "grade_id": "cell-cbbfc801be37c1f3",
     "locked": true,
     "schema_version": 1,
     "solution": false
    }
   },
   "outputs": [],
   "source": [
    "from sklearn.datasets import load_wine\n",
    "data = load_wine()\n",
    "X = data.data\n",
    "y = data.target"
   ]
  },
  {
   "cell_type": "markdown",
   "metadata": {
    "deletable": false,
    "editable": false,
    "nbgrader": {
     "checksum": "e0ecdc466bf4c256a96271493b565de0",
     "grade": false,
     "grade_id": "cell-981b254f7b2a32b1",
     "locked": true,
     "schema_version": 1,
     "solution": false
    }
   },
   "source": [
    "### Wyznacz liczbę klas "
   ]
  },
  {
   "cell_type": "code",
   "execution_count": 3,
   "metadata": {
    "deletable": false,
    "nbgrader": {
     "checksum": "f2186a854cd226a9ad3d4c11810d5cc1",
     "grade": false,
     "grade_id": "cell-c5176a6d5ee29e84",
     "locked": false,
     "schema_version": 1,
     "solution": true
    }
   },
   "outputs": [],
   "source": [
    "classes = np.unique(y)"
   ]
  },
  {
   "cell_type": "code",
   "execution_count": 4,
   "metadata": {
    "deletable": false,
    "editable": false,
    "nbgrader": {
     "checksum": "d8590356614abe7d3d4aa92061fbfe7f",
     "grade": true,
     "grade_id": "cell-f5e8349da78dfd8e",
     "locked": true,
     "points": 1,
     "schema_version": 1,
     "solution": false
    }
   },
   "outputs": [],
   "source": [
    "assert len(classes) == 3"
   ]
  },
  {
   "cell_type": "markdown",
   "metadata": {
    "deletable": false,
    "editable": false,
    "nbgrader": {
     "checksum": "73a4cc166fd59c632ede6b1ad71ba368",
     "grade": false,
     "grade_id": "cell-5f394d96c05137c4",
     "locked": true,
     "schema_version": 1,
     "solution": false
    }
   },
   "source": [
    "### Oblicz macierze kowariancji wewnątrzklasowe\n",
    "\n",
    "Oblicz dla przykładów z każdej klasy macierz kowariancji (np. użyj `np.cov`) a nastęmnie ich sumę $S_w$.\n",
    "\n",
    "$$S_w= \\sum_c\\underbrace{\\frac{1}{N_c-1}\\sum_{i\\in c} \\left(x_i-\\mu_c\\right) \\left(x_i-\\mu_c\\right)^T}_{\\mathrm{np.cov}}$$\n",
    "\n"
   ]
  },
  {
   "cell_type": "code",
   "execution_count": 5,
   "metadata": {
    "deletable": false,
    "nbgrader": {
     "checksum": "52fac9c80c413a6faf53dd250d7d9b76",
     "grade": false,
     "grade_id": "cell-d71e44530780c7c0",
     "locked": false,
     "schema_version": 1,
     "solution": true
    }
   },
   "outputs": [],
   "source": [
    "Sw = np.sum(np.cov(X[y == c].T) for c in classes)"
   ]
  },
  {
   "cell_type": "code",
   "execution_count": 6,
   "metadata": {
    "deletable": false,
    "editable": false,
    "nbgrader": {
     "checksum": "4e96131891e7d1416e0599f928a7d605",
     "grade": true,
     "grade_id": "cell-edb8c8f270a8f1d4",
     "locked": true,
     "points": 2,
     "schema_version": 1,
     "solution": false
    }
   },
   "outputs": [],
   "source": [
    "assert Sw.shape == (13,13)\n",
    "np.testing.assert_allclose(Sw[1,2],0.055372, rtol=1e-3)"
   ]
  },
  {
   "cell_type": "markdown",
   "metadata": {},
   "source": [
    "### Oblicz macierz kowariancji pomiędzy klasami\n",
    "\n",
    "\n",
    "Niech $S_b$ będzie macierzą kowariancji (lub  scatter matrix) pomiędzy klasami\n",
    "\n",
    "$$S_b= \\sum_c N_c \\left(\\mu_c-\\mu\\right) \\left(\\mu_c-\\mu\\right)^T$$\n",
    "\n",
    "gdzie $\\mu_c$ oznacza średni wektor cech w obrębie jednej klasy $c$ o liczebności $N_c$.\n",
    "\n"
   ]
  },
  {
   "cell_type": "code",
   "execution_count": 7,
   "metadata": {},
   "outputs": [],
   "source": [
    "mu_c = [np.mean(X[y==c_], axis=0) for c_ in classes] "
   ]
  },
  {
   "cell_type": "code",
   "execution_count": 8,
   "metadata": {
    "deletable": false,
    "editable": false,
    "nbgrader": {
     "checksum": "b14a74ceab95201af3b62e7c4c079fa1",
     "grade": false,
     "grade_id": "cell-09377df7f59f6c37",
     "locked": true,
     "schema_version": 1,
     "solution": false
    }
   },
   "outputs": [
    {
     "data": {
      "text/plain": [
       "array([1.30006180e+01, 2.33634831e+00, 2.36651685e+00, 1.94949438e+01,\n",
       "       9.97415730e+01, 2.29511236e+00, 2.02926966e+00, 3.61853933e-01,\n",
       "       1.59089888e+00, 5.05808988e+00, 9.57449438e-01, 2.61168539e+00,\n",
       "       7.46893258e+02])"
      ]
     },
     "execution_count": 8,
     "metadata": {},
     "output_type": "execute_result"
    }
   ],
   "source": [
    "mu = np.mean(X, axis=0)\n",
    "mu"
   ]
  },
  {
   "cell_type": "code",
   "execution_count": 9,
   "metadata": {
    "deletable": false,
    "nbgrader": {
     "checksum": "406e80c5b16362a7cbaa305951073770",
     "grade": false,
     "grade_id": "cell-27da16f7383144b7",
     "locked": false,
     "schema_version": 1,
     "solution": true
    }
   },
   "outputs": [],
   "source": [
    "mu = np.mean(X, axis=0)\n",
    "result = []\n",
    "for i in classes:\n",
    "    mu_c = np.mean(X[y == i], 0)\n",
    "    Nc = np.sum(y == i)\n",
    "    result.append(Nc * np.outer((mu_c - mu), (mu_c - mu).T))\n",
    "Sc = np.sum(result, 0)"
   ]
  },
  {
   "cell_type": "code",
   "execution_count": 10,
   "metadata": {
    "deletable": false,
    "editable": false,
    "nbgrader": {
     "checksum": "6bcfb92caaccb34b23797462d9785bf4",
     "grade": true,
     "grade_id": "cell-10ace83f37caa115",
     "locked": true,
     "points": 3,
     "schema_version": 1,
     "solution": false
    }
   },
   "outputs": [],
   "source": [
    "np.testing.assert_allclose(Sc[3,1],117.92843036,rtol=1e-3)\n",
    "assert Sc.shape == (13,13)\n"
   ]
  },
  {
   "cell_type": "code",
   "execution_count": null,
   "metadata": {},
   "outputs": [],
   "source": []
  },
  {
   "cell_type": "markdown",
   "metadata": {},
   "source": [
    "### Wartości własne\n",
    "\n",
    "Oblicz wartości własne macierzy:  \n",
    "\n",
    "$$\n",
    " S_w^{-1} S_b\n",
    "$$\n",
    "\n",
    "i odpowiadające im wektory własne.\n",
    "\n",
    "1. Zastosuj ` np.linalg.eig`, oraz `np.linalg.inv`.\n",
    "2. Otrzymane wartości mogą zawierać część urojoną, użyj np. `np.real_if_close` by wyzerować części urojone.\n"
   ]
  },
  {
   "cell_type": "code",
   "execution_count": 19,
   "metadata": {
    "deletable": false,
    "nbgrader": {
     "checksum": "73cbb48de97f0085124ff649831182d9",
     "grade": false,
     "grade_id": "cell-c7d7eaa0120ea9a7",
     "locked": false,
     "schema_version": 1,
     "solution": true
    }
   },
   "outputs": [
    {
     "data": {
      "text/plain": [
       "array([[ 5.95474362e-01+0.00000000e+00j, -2.45503740e-01+0.00000000e+00j,\n",
       "        -1.31382922e-01+0.00000000e+00j, -1.94897274e-01+0.00000000e+00j,\n",
       "        -2.08488971e-01+9.83955577e-02j, -2.08488971e-01-9.83955577e-02j,\n",
       "         4.76638892e-01+5.03773722e-02j,  4.76638892e-01-5.03773722e-02j,\n",
       "         1.00547464e-01+0.00000000e+00j, -5.68972517e-01+0.00000000e+00j,\n",
       "        -3.95165651e-01+0.00000000e+00j,  2.09490443e-01+1.68866184e-01j,\n",
       "         2.09490443e-01-1.68866184e-01j],\n",
       "       [-5.89095171e-02+0.00000000e+00j, -7.69954934e-02+0.00000000e+00j,\n",
       "         5.32225670e-02+0.00000000e+00j,  1.56066178e-02+0.00000000e+00j,\n",
       "        -7.24079299e-02-8.84416300e-02j, -7.24079299e-02+8.84416300e-02j,\n",
       "        -1.33703151e-02-1.16929324e-02j, -1.33703151e-02+1.16929324e-02j,\n",
       "        -6.53173053e-02+0.00000000e+00j,  1.09438822e-01+0.00000000e+00j,\n",
       "         1.29431553e-01+0.00000000e+00j, -1.76403016e-02-4.92581157e-02j,\n",
       "        -1.76403016e-02+4.92581157e-02j],\n",
       "       [-6.15031096e-01+0.00000000e+00j, -6.71556616e-01+0.00000000e+00j,\n",
       "        -1.22838441e-01+0.00000000e+00j,  8.09605143e-01+0.00000000e+00j,\n",
       "         8.24402340e-01+0.00000000e+00j,  8.24402340e-01-0.00000000e+00j,\n",
       "        -7.04217499e-01+0.00000000e+00j, -7.04217499e-01-0.00000000e+00j,\n",
       "        -3.60365544e-01+0.00000000e+00j,  3.71835444e-01+0.00000000e+00j,\n",
       "         8.39510286e-01+0.00000000e+00j,  8.25583470e-01+0.00000000e+00j,\n",
       "         8.25583470e-01-0.00000000e+00j],\n",
       "       [ 4.59434540e-02+0.00000000e+00j,  4.19054836e-02+0.00000000e+00j,\n",
       "         5.15407769e-02+0.00000000e+00j,  1.13427883e-02+0.00000000e+00j,\n",
       "         2.59892368e-02+2.84605318e-02j,  2.59892368e-02-2.84605318e-02j,\n",
       "         4.33399553e-02+2.12615008e-03j,  4.33399553e-02-2.12615008e-03j,\n",
       "        -1.76088372e-02+0.00000000e+00j, -8.34477474e-02+0.00000000e+00j,\n",
       "        -1.97322085e-03+0.00000000e+00j, -6.76881634e-03-2.44863990e-02j,\n",
       "        -6.76881634e-03+2.44863990e-02j],\n",
       "       [-3.33981455e-04+0.00000000e+00j, -2.54785464e-04+0.00000000e+00j,\n",
       "        -6.30291553e-04+0.00000000e+00j,  3.38063708e-04+0.00000000e+00j,\n",
       "         7.47446296e-04-2.19377337e-04j,  7.47446296e-04+2.19377337e-04j,\n",
       "        -2.58370428e-04-5.96529262e-05j, -2.58370428e-04+5.96529262e-05j,\n",
       "        -2.63019816e-05+0.00000000e+00j, -3.07963509e-02+0.00000000e+00j,\n",
       "        -4.39640298e-03+0.00000000e+00j, -5.42735729e-03-4.80120902e-03j,\n",
       "        -5.42735729e-03+4.80120902e-03j],\n",
       "       [ 4.35639856e-02+0.00000000e+00j,  8.23909063e-03+0.00000000e+00j,\n",
       "         2.10401698e-01+0.00000000e+00j, -1.82464948e-01+0.00000000e+00j,\n",
       "        -7.34624739e-02+1.88756352e-01j, -7.34624739e-02-1.88756352e-01j,\n",
       "         5.37731598e-02+1.51669659e-03j,  5.37731598e-02-1.51669659e-03j,\n",
       "         1.58393834e-02+0.00000000e+00j, -5.05861479e-02+0.00000000e+00j,\n",
       "         1.02993920e-01+0.00000000e+00j,  1.60073649e-01-3.94128424e-02j,\n",
       "         1.60073649e-01+3.94128424e-02j],\n",
       "       [ 1.21919910e-02+0.00000000e+00j,  1.31204134e-01+0.00000000e+00j,\n",
       "        -6.02182408e-01+0.00000000e+00j,  3.83468018e-01+0.00000000e+00j,\n",
       "        -5.00268398e-02+1.49806011e-02j, -5.00268398e-02-1.49806011e-02j,\n",
       "         3.04308941e-02-3.39526437e-03j,  3.04308941e-02+3.39526437e-03j,\n",
       "        -5.99807689e-02+0.00000000e+00j,  5.99421855e-02+0.00000000e+00j,\n",
       "         3.20408254e-04+0.00000000e+00j, -1.42324152e-01-1.06059176e-01j,\n",
       "        -1.42324152e-01+1.06059176e-01j],\n",
       "       [ 2.99860770e-01+0.00000000e+00j,  4.37243389e-01+0.00000000e+00j,\n",
       "        -5.03348495e-01+0.00000000e+00j,  9.81738793e-02+0.00000000e+00j,\n",
       "        -2.63427607e-01-1.68231849e-01j, -2.63427607e-01+1.68231849e-01j,\n",
       "         2.79314594e-01+2.90999308e-02j,  2.79314594e-01-2.90999308e-02j,\n",
       "         9.12963704e-01+0.00000000e+00j,  7.36583285e-02+0.00000000e+00j,\n",
       "         3.30370193e-02+0.00000000e+00j,  2.92701321e-01-2.43394788e-02j,\n",
       "         2.92701321e-01+2.43394788e-02j],\n",
       "       [ 9.59927121e-02+0.00000000e+00j,  1.01966023e-01+0.00000000e+00j,\n",
       "         3.37840548e-02+0.00000000e+00j,  3.85416429e-02+0.00000000e+00j,\n",
       "         5.32457474e-02+2.52588519e-02j,  5.32457474e-02-2.52588519e-02j,\n",
       "         6.32677619e-02+1.43182689e-02j,  6.32677619e-02-1.43182689e-02j,\n",
       "         5.11948133e-02+0.00000000e+00j, -1.27214848e-01+0.00000000e+00j,\n",
       "         3.61675697e-02+0.00000000e+00j,  2.13309077e-01+1.79960020e-01j,\n",
       "         2.13309077e-01-1.79960020e-01j],\n",
       "       [-3.17693483e-02+0.00000000e+00j, -5.68305134e-02+0.00000000e+00j,\n",
       "         1.07208634e-01+0.00000000e+00j,  6.60034508e-02+0.00000000e+00j,\n",
       "         9.97237744e-03+1.19227656e-02j,  9.97237744e-03-1.19227656e-02j,\n",
       "        -1.33173751e-02-8.30026734e-03j, -1.33173751e-02+8.30026734e-03j,\n",
       "         2.24117032e-03+0.00000000e+00j,  5.90294088e-02+0.00000000e+00j,\n",
       "        -1.28271316e-03+0.00000000e+00j, -4.79905194e-02-4.89196302e-03j,\n",
       "        -4.79905194e-02+4.89196302e-03j],\n",
       "       [ 3.94003007e-01+0.00000000e+00j,  5.08767405e-01+0.00000000e+00j,\n",
       "        -3.24172079e-01+0.00000000e+00j,  2.60454224e-01+0.00000000e+00j,\n",
       "         2.85298775e-01+5.63710297e-02j,  2.85298775e-01-5.63710297e-02j,\n",
       "         4.26675732e-01+2.23115249e-03j,  4.26675732e-01-2.23115249e-03j,\n",
       "        -1.08177256e-01+0.00000000e+00j, -6.86817614e-01+0.00000000e+00j,\n",
       "        -3.22767422e-01+0.00000000e+00j,  1.22441798e-01-1.87112971e-02j,\n",
       "         1.22441798e-01+1.87112971e-02j],\n",
       "       [-6.43412583e-02+0.00000000e+00j,  1.09209197e-02+0.00000000e+00j,\n",
       "        -4.29166746e-01+0.00000000e+00j, -2.06214759e-01+0.00000000e+00j,\n",
       "        -4.28615909e-02-1.45212017e-01j, -4.28615909e-02+1.45212017e-01j,\n",
       "        -5.26086989e-02-1.35097531e-02j, -5.26086989e-02+1.35097531e-02j,\n",
       "         6.14076402e-02+0.00000000e+00j,  1.23103662e-01+0.00000000e+00j,\n",
       "         7.14328783e-02+0.00000000e+00j, -1.16691719e-02+4.39801323e-02j,\n",
       "        -1.16691719e-02-4.39801323e-02j],\n",
       "       [-8.86475688e-04+0.00000000e+00j, -8.24419100e-04+0.00000000e+00j,\n",
       "        -9.13157969e-04+0.00000000e+00j, -3.06064022e-04+0.00000000e+00j,\n",
       "         4.29261455e-04-2.70777155e-04j,  4.29261455e-04+2.70777155e-04j,\n",
       "        -6.92682504e-04-6.65496213e-05j, -6.92682504e-04+6.65496213e-05j,\n",
       "        -8.68331022e-05+0.00000000e+00j,  1.12741964e-03+0.00000000e+00j,\n",
       "         5.84856319e-04+0.00000000e+00j, -5.32038894e-04-3.37969690e-04j,\n",
       "        -5.32038894e-04+3.37969690e-04j]])"
      ]
     },
     "execution_count": 19,
     "metadata": {},
     "output_type": "execute_result"
    }
   ],
   "source": [
    "A = np.linalg.inv(Sw).dot(Sc)\n",
    "lam, v = np.linalg.eig(A)\n",
    "lam = np.real_if_close(lam)\n",
    "lam\n",
    "v"
   ]
  },
  {
   "cell_type": "code",
   "execution_count": 15,
   "metadata": {
    "deletable": false,
    "editable": false,
    "nbgrader": {
     "checksum": "410fc690a60d5153a08123c0e60f32dd",
     "grade": true,
     "grade_id": "cell-a0f42bff13ff8692",
     "locked": true,
     "points": 1,
     "schema_version": 1,
     "solution": false
    }
   },
   "outputs": [],
   "source": [
    "assert lam.shape ==(13,)\n",
    "np.testing.assert_allclose(np.max(lam), 546, rtol=1e-2 )"
   ]
  },
  {
   "cell_type": "markdown",
   "metadata": {
    "deletable": false,
    "editable": false,
    "nbgrader": {
     "checksum": "f8db958ef2495d9e4f9df586106c722d",
     "grade": false,
     "grade_id": "cell-36b90a4abd6c6ae8",
     "locked": true,
     "schema_version": 1,
     "solution": false
    }
   },
   "source": [
    "### Operator rzutowania na podprzestrzeń\n",
    "\n",
    "\n",
    "Posortuj wektory własne według malejących wartości własnych. \n",
    "\n",
    "Zbuduj operator $W$ będący macierzą $(2,13)$ składający się z dwóch wektorów własnych odpowiadających największym wartościom własnym."
   ]
  },
  {
   "cell_type": "code",
   "execution_count": 17,
   "metadata": {
    "deletable": false,
    "nbgrader": {
     "checksum": "5226841b084e38e35de0b0c55a6fe77e",
     "grade": false,
     "grade_id": "cell-c379aca4f1f193d1",
     "locked": false,
     "schema_version": 1,
     "solution": true
    }
   },
   "outputs": [],
   "source": [
    "idx = [2, 1]"
   ]
  },
  {
   "cell_type": "code",
   "execution_count": 18,
   "metadata": {
    "deletable": false,
    "editable": false,
    "nbgrader": {
     "checksum": "72fdd8b6bef3794beca51f2472ff1f28",
     "grade": true,
     "grade_id": "cell-d64bf65963bbb26d",
     "locked": true,
     "points": 1,
     "schema_version": 1,
     "solution": false
    }
   },
   "outputs": [],
   "source": [
    "np.testing.assert_allclose(lam[idx],[546.41649425, 243.23261924],rtol=1e-2)"
   ]
  },
  {
   "cell_type": "code",
   "execution_count": null,
   "metadata": {},
   "outputs": [],
   "source": []
  },
  {
   "cell_type": "code",
   "execution_count": 25,
   "metadata": {
    "deletable": false,
    "nbgrader": {
     "checksum": "45ef7b52815a4b90c39580acf28ca278",
     "grade": false,
     "grade_id": "cell-f907779ccefba7c5",
     "locked": false,
     "schema_version": 1,
     "solution": true
    }
   },
   "outputs": [],
   "source": [
    "W = v[:,idx].T\n",
    "\n",
    "W = np.real_if_close(W)"
   ]
  },
  {
   "cell_type": "code",
   "execution_count": 26,
   "metadata": {
    "deletable": false,
    "editable": false,
    "nbgrader": {
     "checksum": "2bf50f14ef582d9007933adba14989c4",
     "grade": true,
     "grade_id": "cell-27c1df6193b957e6",
     "locked": true,
     "points": 2,
     "schema_version": 1,
     "solution": false
    }
   },
   "outputs": [],
   "source": [
    "np.testing.assert_allclose(np.abs(W[:,:3]),[[0.13138292,  0.05322257, 0.12283844],[0.24550374, 0.07699549, 0.67155662]], rtol=1e-2)\n",
    "\n",
    "assert W.shape == (2,13)"
   ]
  },
  {
   "cell_type": "markdown",
   "metadata": {},
   "source": [
    "### Wizualizacja wyniku\n",
    "\n",
    "Operacja rzutowania może być w numpy zapisana jako `X.dot(W.T)`, więc w zredukowanej przestrzeni mamy:"
   ]
  },
  {
   "cell_type": "code",
   "execution_count": 27,
   "metadata": {},
   "outputs": [
    {
     "data": {
      "text/plain": [
       "<matplotlib.collections.PathCollection at 0x7fa0cdb7eac8>"
      ]
     },
     "execution_count": 27,
     "metadata": {},
     "output_type": "execute_result"
    },
    {
     "data": {
      "image/png": "[encoded data removed]",
      "text/plain": [
       "<matplotlib.figure.Figure at 0x7fa0cdbc5a90>"
      ]
     },
     "metadata": {
      "needs_background": "light"
     },
     "output_type": "display_data"
    }
   ],
   "source": [
    "plt.scatter( X.dot(W.T)[:,0],X.dot(W.T)[:,1],c=y)"
   ]
  },
  {
   "cell_type": "markdown",
   "metadata": {},
   "source": [
    "### Porównaj wynik z `sklearn`"
   ]
  },
  {
   "cell_type": "code",
   "execution_count": 28,
   "metadata": {},
   "outputs": [
    {
     "data": {
      "text/plain": [
       "<matplotlib.collections.PathCollection at 0x7fa12eb5ef60>"
      ]
     },
     "execution_count": 28,
     "metadata": {},
     "output_type": "execute_result"
    },
    {
     "data": {
      "image/png": "[encoded data removed]",
      "text/plain": [
       "<matplotlib.figure.Figure at 0x7fa0cdbc5198>"
      ]
     },
     "metadata": {
      "needs_background": "light"
     },
     "output_type": "display_data"
    }
   ],
   "source": [
    "from sklearn.discriminant_analysis import LinearDiscriminantAnalysis\n",
    "\n",
    "lda = LinearDiscriminantAnalysis(n_components=2, solver='eigen')\n",
    "X_r2 = lda.fit(X, y).transform(X)\n",
    "plt.scatter( X_r2[:,0],X_r2[:,1],c=y)"
   ]
  },
  {
   "cell_type": "code",
   "execution_count": null,
   "metadata": {},
   "outputs": [],
   "source": []
  },
  {
   "cell_type": "code",
   "execution_count": null,
   "metadata": {},
   "outputs": [],
   "source": []
  },
  {
   "cell_type": "code",
   "execution_count": null,
   "metadata": {},
   "outputs": [],
   "source": []
  },
  {
   "cell_type": "code",
   "execution_count": null,
   "metadata": {},
   "outputs": [],
   "source": []
  }
 ],
 "metadata": {
  "kernelspec": {
   "display_name": "Python 3",
   "language": "python",
   "name": "python3"
  },
  "language_info": {
   "codemirror_mode": {
    "name": "ipython",
    "version": 3
   },
   "file_extension": ".py",
   "mimetype": "text/x-python",
   "name": "python",
   "nbconvert_exporter": "python",
   "pygments_lexer": "ipython3",
   "version": "3.5.5"
  }
 },
 "nbformat": 4,
 "nbformat_minor": 2
}
