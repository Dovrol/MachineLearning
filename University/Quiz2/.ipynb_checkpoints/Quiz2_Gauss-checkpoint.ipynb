{
 "cells": [
  {
   "cell_type": "markdown",
   "metadata": {},
   "source": [
    "# Podstawy Sztucznej Inteligencji 2018/2019\n",
    "\n"
   ]
  },
  {
   "cell_type": "markdown",
   "metadata": {},
   "source": [
    "Prosze uzupelnic kod tam gdzie znajduje napis `YOUR CODE HERE` lub 'YOUR ANSWER HERE'.\n",
    "\n",
    "Warto zresetowac 'kernel' i sprawdzic czy caly notatnik uruchamiany od poczatku nie daje bledow."
   ]
  },
  {
   "cell_type": "code",
   "execution_count": null,
   "metadata": {},
   "outputs": [],
   "source": []
  },
  {
   "cell_type": "markdown",
   "metadata": {},
   "source": [
    "---"
   ]
  },
  {
   "cell_type": "markdown",
   "metadata": {
    "deletable": false,
    "editable": false,
    "nbgrader": {
     "checksum": "2816fc0ba327e2d6386c84614d7d87c1",
     "grade": false,
     "grade_id": "cell-c55e6385a470571b",
     "locked": true,
     "schema_version": 1,
     "solution": false
    }
   },
   "source": [
    "## Rozkład Gaussa "
   ]
  },
  {
   "cell_type": "code",
   "execution_count": 1,
   "metadata": {
    "deletable": false,
    "editable": false,
    "nbgrader": {
     "checksum": "52a8b2316907e269b974eb8f12754a7a",
     "grade": false,
     "grade_id": "cell-3cd817de117b22a2",
     "locked": true,
     "schema_version": 1,
     "solution": false
    }
   },
   "outputs": [
    {
     "name": "stdout",
     "output_type": "stream",
     "text": [
      "['data', 'labels']\n",
      "(1500, 2) (1500,)\n"
     ]
    }
   ],
   "source": [
    "import numpy as np\n",
    "import matplotlib.pyplot as plt\n",
    "data = np.load('banana.npz')\n",
    "print(data.keys())\n",
    "print(data['data'].shape,data['labels'].shape)"
   ]
  },
  {
   "cell_type": "markdown",
   "metadata": {
    "deletable": false,
    "editable": false,
    "nbgrader": {
     "checksum": "f3f1b3c546e2481c3bec801f5cbd9810",
     "grade": false,
     "grade_id": "cell-49346418ca6bdcbc",
     "locked": true,
     "schema_version": 1,
     "solution": false
    }
   },
   "source": [
    "## Zadanie\n",
    "\n",
    "1. Wybierz dane odpowiadające klasie z etykietą $1$ i zapisz do tablicy `X`\n",
    "2. Oblicz średnie: $m_1,m_2$ i odchylenia standardowe $\\sigma_1,\\sigma_2$ w klasie    $1$, dla każdego komponentu osobno.\n"
   ]
  },
  {
   "cell_type": "code",
   "execution_count": 9,
   "metadata": {
    "deletable": false,
    "nbgrader": {
     "checksum": "c3d66c52d65a1024185c9b7513ef3240",
     "grade": false,
     "grade_id": "cell-401aa56828a6954c",
     "locked": false,
     "schema_version": 1,
     "solution": true
    }
   },
   "outputs": [
    {
     "name": "stdout",
     "output_type": "stream",
     "text": [
      "[('data', array([[-0.68314151,  0.41909457],\n",
      "       [-1.4489846 , -0.04614105],\n",
      "       [ 0.74044566,  1.1953788 ],\n",
      "       ...,\n",
      "       [ 0.3074485 , -0.67820751],\n",
      "       [-0.74843792, -0.03399939],\n",
      "       [ 2.635207  ,  0.9656539 ]])), ('labels', array([2, 2, 2, ..., 1, 2, 2], dtype=uint8))]\n"
     ]
    }
   ],
   "source": []
  },
  {
   "cell_type": "code",
   "execution_count": null,
   "metadata": {
    "deletable": false,
    "editable": false,
    "nbgrader": {
     "checksum": "ed384647aa3206d79e7394c290b47b66",
     "grade": true,
     "grade_id": "cell-89b96843b90cb14c",
     "locked": true,
     "points": 1,
     "schema_version": 1,
     "solution": false
    }
   },
   "outputs": [],
   "source": [
    "np.testing.assert_allclose( X.shape, (815, 2) )\n",
    "np.testing.assert_allclose( X[123],[-0.11709165,1.4678306 ] )"
   ]
  },
  {
   "cell_type": "code",
   "execution_count": null,
   "metadata": {
    "deletable": false,
    "nbgrader": {
     "checksum": "bd1722e2b345c3f46c403c6d34b9b28b",
     "grade": false,
     "grade_id": "cell-5b23b939c6284b55",
     "locked": false,
     "schema_version": 1,
     "solution": true
    }
   },
   "outputs": [],
   "source": [
    "m1,m2 = None,None\n",
    "s1,s2 = None,None\n",
    "\n",
    "# YOUR CODE HERE\n",
    "raise NotImplementedError()"
   ]
  },
  {
   "cell_type": "code",
   "execution_count": null,
   "metadata": {
    "deletable": false,
    "editable": false,
    "nbgrader": {
     "checksum": "a32786d0278b07f8858b568e274e933d",
     "grade": true,
     "grade_id": "cell-6d6663ef51ac3ccf",
     "locked": true,
     "points": 1,
     "schema_version": 1,
     "solution": false
    }
   },
   "outputs": [],
   "source": [
    "np.testing.assert_allclose([m1,m2,s1,s2],\n",
    "                           [0.076560178,0.048988096, 0.9176412, 1.08681302],rtol=1e-3)"
   ]
  },
  {
   "cell_type": "markdown",
   "metadata": {
    "deletable": false,
    "editable": false,
    "nbgrader": {
     "checksum": "812505e8a4726372e5475a43d1c10178",
     "grade": false,
     "grade_id": "cell-3a41bae2ddf9a5b0",
     "locked": true,
     "schema_version": 1,
     "solution": false
    }
   },
   "source": [
    "## Narysuj \n",
    "\n",
    "Jeśli przybliżamy nasz zbiór rozkładem Gaussa, będącym iloczynem:\n",
    "\n",
    "$$P(x,y)  = P(x) P(y)$$\n",
    "\n",
    "to możemy wylosować łatwo próbkę (sample) używając generatora gausowskich liczb  losowych o średniej zero i wariancji jeden. Zauważmy, że należy przeskalować takie liczby samodzielnie, mnożąć je przed odchylenie standardowe i dodając wartość średnią.\n",
    "\n",
    "Porównajmy 1000 tak wygenerowanych danych z prawdziwymi danymi z pierwszej klasy."
   ]
  },
  {
   "cell_type": "code",
   "execution_count": null,
   "metadata": {
    "deletable": false,
    "editable": false,
    "nbgrader": {
     "checksum": "9762d36262ae44e347a37b92556d31f8",
     "grade": false,
     "grade_id": "cell-09d953b024f09002",
     "locked": true,
     "schema_version": 1,
     "solution": false
    }
   },
   "outputs": [],
   "source": [
    "plt.plot(X[:,0],X[:,1],'.')\n",
    "plt.plot(m1+s1*np.random.randn(1000),m2+s2*np.random.randn(1000),'.')"
   ]
  },
  {
   "cell_type": "code",
   "execution_count": null,
   "metadata": {},
   "outputs": [],
   "source": []
  }
 ],
 "metadata": {
  "kernelspec": {
   "display_name": "Python 3",
   "language": "python",
   "name": "python3"
  },
  "language_info": {
   "codemirror_mode": {
    "name": "ipython",
    "version": 3
   },
   "file_extension": ".py",
   "mimetype": "text/x-python",
   "name": "python",
   "nbconvert_exporter": "python",
   "pygments_lexer": "ipython3",
   "version": "3.5.5"
  }
 },
 "nbformat": 4,
 "nbformat_minor": 2
}
