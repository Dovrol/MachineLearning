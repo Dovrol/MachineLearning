{
 "cells": [
  {
   "cell_type": "markdown",
   "metadata": {},
   "source": [
    "# Podstawy Sztucznej Inteligencji 2018/2019\n",
    "\n"
   ]
  },
  {
   "cell_type": "markdown",
   "metadata": {},
   "source": [
    "Prosze uzupelnic kod tam gdzie znajduje napis `YOUR CODE HERE` lub 'YOUR ANSWER HERE'.\n",
    "\n",
    "Warto zresetowac 'kernel' i sprawdzic czy caly notatnik uruchamiany od poczatku nie daje bledow."
   ]
  },
  {
   "cell_type": "code",
   "execution_count": null,
   "metadata": {},
   "outputs": [],
   "source": []
  },
  {
   "cell_type": "markdown",
   "metadata": {},
   "source": [
    "---"
   ]
  },
  {
   "cell_type": "markdown",
   "metadata": {
    "deletable": false,
    "editable": false,
    "nbgrader": {
     "checksum": "cce36d374ced6c320b0c6eb754f2ea96",
     "grade": false,
     "grade_id": "cell-2e089b2ee0415971",
     "locked": true,
     "schema_version": 1,
     "solution": false
    }
   },
   "source": [
    "##  Rozpoznawanie pisma\n",
    "\n",
    " NIST jest  zbiorem ręcznie pisanych cyfr."
   ]
  },
  {
   "cell_type": "code",
   "execution_count": 1,
   "metadata": {
    "deletable": false,
    "editable": false,
    "nbgrader": {
     "checksum": "8cfecf3de50745362a06b0fd8d4e22f5",
     "grade": false,
     "grade_id": "cell-ea1f9d9d3b13d896",
     "locked": true,
     "schema_version": 1,
     "solution": false
    }
   },
   "outputs": [],
   "source": [
    "%matplotlib inline \n",
    "import matplotlib.pyplot as plt\n",
    "import numpy as np\n"
   ]
  },
  {
   "cell_type": "code",
   "execution_count": 2,
   "metadata": {
    "deletable": false,
    "editable": false,
    "nbgrader": {
     "checksum": "709ce553bb2ff89fa018f4c35b13282b",
     "grade": false,
     "grade_id": "cell-e517b930abf40b4a",
     "locked": true,
     "schema_version": 1,
     "solution": false
    }
   },
   "outputs": [],
   "source": [
    "from __future__ import print_function\n",
    "from sklearn.model_selection import train_test_split\n",
    "from sklearn.neighbors import KNeighborsClassifier\n",
    "from sklearn import datasets\n"
   ]
  },
  {
   "cell_type": "code",
   "execution_count": 3,
   "metadata": {},
   "outputs": [],
   "source": [
    "import warnings\n",
    "import math\n",
    "warnings.filterwarnings('ignore')"
   ]
  },
  {
   "cell_type": "markdown",
   "metadata": {
    "deletable": false,
    "editable": false,
    "nbgrader": {
     "checksum": "71525f5e5941e6a0dc0ede4db960a7e6",
     "grade": false,
     "grade_id": "cell-33bdab00fe7e4ddf",
     "locked": true,
     "schema_version": 1,
     "solution": false
    }
   },
   "source": [
    "### Wczytanie danych NIST\n",
    "\n"
   ]
  },
  {
   "cell_type": "code",
   "execution_count": 4,
   "metadata": {},
   "outputs": [],
   "source": [
    "from  sklearn import datasets\n",
    "nist = datasets.load_digits()\n",
    "# print(nist.DESCR)"
   ]
  },
  {
   "cell_type": "code",
   "execution_count": 5,
   "metadata": {},
   "outputs": [
    {
     "data": {
      "text/plain": [
       "<matplotlib.image.AxesImage at 0x7fe3168c32e8>"
      ]
     },
     "execution_count": 5,
     "metadata": {},
     "output_type": "execute_result"
    },
    {
     "data": {
      "image/png": "[encoded data removed]",
      "text/plain": [
       "<matplotlib.figure.Figure at 0x7fe31b84bc88>"
      ]
     },
     "metadata": {
      "needs_background": "light"
     },
     "output_type": "display_data"
    }
   ],
   "source": [
    "plt.imshow(nist.data[13].reshape(8,8))"
   ]
  },
  {
   "cell_type": "markdown",
   "metadata": {
    "deletable": false,
    "editable": false,
    "nbgrader": {
     "checksum": "5dd42bf4b7b77e48cc4f61bbd6ec8fb4",
     "grade": false,
     "grade_id": "cell-74f80bfef728e43d",
     "locked": true,
     "schema_version": 1,
     "solution": false
    }
   },
   "source": [
    "### Zadanie 1.\n",
    "\n",
    "Dokonaj podziału danych i etykiet na dwa zbiory - trenujący i testowy o rozmiarach w stosunkiu 1:5."
   ]
  },
  {
   "cell_type": "code",
   "execution_count": 6,
   "metadata": {
    "deletable": false,
    "nbgrader": {
     "checksum": "b112781931032af7e5487774950de615",
     "grade": false,
     "grade_id": "cell-cd77c5379e197eeb",
     "locked": false,
     "schema_version": 1,
     "solution": true
    }
   },
   "outputs": [],
   "source": [
    "train, test, train_labels, test_labels = train_test_split(np.float32(nist.data), nist.target, test_size = 0.2)"
   ]
  },
  {
   "cell_type": "code",
   "execution_count": null,
   "metadata": {},
   "outputs": [],
   "source": []
  },
  {
   "cell_type": "code",
   "execution_count": 7,
   "metadata": {
    "deletable": false,
    "editable": false,
    "nbgrader": {
     "checksum": "29ae46167cf376f9f17894b42c94889e",
     "grade": true,
     "grade_id": "cell-e5630b6e295fa2ab",
     "locked": true,
     "points": 2,
     "schema_version": 1,
     "solution": false
    }
   },
   "outputs": [],
   "source": [
    "assert train.shape == (1437, 64)\n",
    "assert test.shape ==  (360, 64)\n",
    "assert train_labels.shape == (1437,)\n",
    "assert test_labels.shape == (360,)\n",
    "assert train[123].dtype == np.float32\n",
    "assert train[123].shape == (64,)"
   ]
  },
  {
   "cell_type": "markdown",
   "metadata": {
    "deletable": false,
    "editable": false,
    "nbgrader": {
     "checksum": "efdebddfd4a91ecb7bc66efced82bfe8",
     "grade": false,
     "grade_id": "cell-74f80bfef728e43a",
     "locked": true,
     "schema_version": 1,
     "solution": false
    }
   },
   "source": [
    "### Zadanie 2.\n",
    "\n",
    "Wyświetl dla losowego przykładu etykietę oraz cyfrę. Zauważ, że cyfry są obrazkami `8x8`."
   ]
  },
  {
   "cell_type": "code",
   "execution_count": 8,
   "metadata": {
    "deletable": false,
    "nbgrader": {
     "checksum": "6aa93a24553fe3d07a1d0085a939440c",
     "grade": true,
     "grade_id": "cell-bdc38063dae2d5d4",
     "locked": false,
     "points": 1,
     "schema_version": 1,
     "solution": true
    }
   },
   "outputs": [
    {
     "name": "stdout",
     "output_type": "stream",
     "text": [
      "Index:  958\n",
      "Expected value: {1}\n"
     ]
    },
    {
     "data": {
      "image/png": "[encoded data removed]",
      "text/plain": [
       "<matplotlib.figure.Figure at 0x7fe3168ea128>"
      ]
     },
     "metadata": {
      "needs_background": "light"
     },
     "output_type": "display_data"
    }
   ],
   "source": [
    "import random\n",
    "random_number = random.randrange(0,len(nist.data))\n",
    "print('Index: ',random_number)\n",
    "plt.imshow(nist.data[random_number].reshape(8,8))\n",
    "print('Expected value:', {nist.target[random_number]})\n"
   ]
  },
  {
   "cell_type": "markdown",
   "metadata": {},
   "source": [
    "### Zadanie 3. Regresja logistyczna\n",
    "\n",
    "Wykorzystując `sklearn` zbadaj jaki wynik możną osiągnąć z użyciem regresji logistycznej."
   ]
  },
  {
   "cell_type": "code",
   "execution_count": 9,
   "metadata": {
    "deletable": false,
    "nbgrader": {
     "checksum": "387258b64877364581e8f4082573b189",
     "grade": false,
     "grade_id": "cell-7b003187047a4b4f",
     "locked": false,
     "schema_version": 1,
     "solution": true
    }
   },
   "outputs": [
    {
     "name": "stdout",
     "output_type": "stream",
     "text": [
      "0.9583333333333334\n"
     ]
    }
   ],
   "source": [
    "from sklearn.linear_model import LogisticRegression\n",
    "lr = LogisticRegression()\n",
    "lr.fit(train, train_labels)\n",
    "score = lr.score(test, test_labels)\n",
    "print(score)"
   ]
  },
  {
   "cell_type": "code",
   "execution_count": 10,
   "metadata": {
    "deletable": false,
    "editable": false,
    "nbgrader": {
     "checksum": "fd10c185c333bf523efe3dfa31a23ad6",
     "grade": true,
     "grade_id": "cell-819e39cd4134d840",
     "locked": true,
     "points": 1,
     "schema_version": 1,
     "solution": false
    }
   },
   "outputs": [],
   "source": [
    "assert score >= 0.95\n",
    "assert score <= 0.98"
   ]
  },
  {
   "cell_type": "markdown",
   "metadata": {
    "deletable": false,
    "editable": false,
    "nbgrader": {
     "checksum": "8196001b0bf68ed3c66d569f7a6f77ae",
     "grade": false,
     "grade_id": "cell-c3eb872ed5625b37",
     "locked": true,
     "schema_version": 1,
     "solution": false
    }
   },
   "source": [
    "### Zadanie 4. NIST z klasyfikatorem kNN\n",
    "\n",
    "Korzystając z pakietu `sklearn` poklasyfikuj dane MNIST.\n",
    "\n",
    "*UWAGA* -  testowanie klasyfikatora wymaga kilku sekund na 100 przykładów. Dlatego funkcje: `clf.score` i `clf.predict` należy wywoływać na podziorze danych testujących lub liczyć się z długim czasem działania. "
   ]
  },
  {
   "cell_type": "code",
   "execution_count": 11,
   "metadata": {
    "deletable": false,
    "nbgrader": {
     "checksum": "c38635a56d981ed0120ae9091aae9e1e",
     "grade": false,
     "grade_id": "cell-49a9b00dc1c1328e",
     "locked": false,
     "schema_version": 1,
     "solution": true
    }
   },
   "outputs": [
    {
     "name": "stdout",
     "output_type": "stream",
     "text": [
      "0.9861111111111112\n"
     ]
    }
   ],
   "source": [
    "from sklearn.neighbors import KNeighborsClassifier\n",
    "clf = KNeighborsClassifier(n_neighbors=3)\n",
    "clf.fit(train, train_labels)\n",
    "score = clf.score(test, test_labels)\n",
    "print(score)"
   ]
  },
  {
   "cell_type": "code",
   "execution_count": 12,
   "metadata": {
    "deletable": false,
    "editable": false,
    "nbgrader": {
     "checksum": "20d9a569601872ca95ef7fcc411f2169",
     "grade": true,
     "grade_id": "cell-0c7e3e858e3e8dd2",
     "locked": true,
     "points": 1,
     "schema_version": 1,
     "solution": false
    }
   },
   "outputs": [],
   "source": [
    "assert score > 0.98"
   ]
  },
  {
   "cell_type": "markdown",
   "metadata": {
    "deletable": false,
    "editable": false,
    "nbgrader": {
     "checksum": "7dfbb24ad2ea8f7b12d03643767f5196",
     "grade": false,
     "grade_id": "cell-6315fa167b48e848",
     "locked": true,
     "schema_version": 1,
     "solution": false
    }
   },
   "source": [
    "### Zadanie 5. Predykcja\n",
    "\n",
    "Znajdź przykłady (np. 10 sztuk) dla których klasyfikator się pomylił. Zastanów się czy człowiek też mógłby się pomylić w tych przypadkach."
   ]
  },
  {
   "cell_type": "code",
   "execution_count": 13,
   "metadata": {},
   "outputs": [
    {
     "data": {
      "text/plain": [
       "(355, 360)"
      ]
     },
     "execution_count": 13,
     "metadata": {},
     "output_type": "execute_result"
    }
   ],
   "source": [
    "np.sum(clf.predict(test) == test_labels),test_labels.shape[0]"
   ]
  },
  {
   "cell_type": "code",
   "execution_count": 14,
   "metadata": {
    "deletable": false,
    "nbgrader": {
     "checksum": "612d64425a72e70d3214c1bd0e95f8ef",
     "grade": true,
     "grade_id": "cell-013a31528dd6f980",
     "locked": false,
     "points": 2,
     "schema_version": 1,
     "solution": true
    }
   },
   "outputs": [
    {
     "data": {
      "image/png": "[encoded data removed]",
      "text/plain": [
       "<matplotlib.figure.Figure at 0x7fe311a99ef0>"
      ]
     },
     "metadata": {
      "needs_background": "light"
     },
     "output_type": "display_data"
    }
   ],
   "source": [
    "def show_wrong_predicions(clf, data, data_labels):\n",
    "    columns = math.ceil(len(data_labels[clf.predict(data) != data_labels]) / 3)+1\n",
    "    rows = math.ceil(len(data_labels[clf.predict(data) != data_labels]) / 3)+1\n",
    "    fig=plt.figure(figsize=(rows+10, columns+10))\n",
    "    ax = []\n",
    "    for i in range(1, len(data_labels[clf.predict(data) != data_labels])+1):\n",
    "        img = data[clf.predict(data) != data_labels][i-1].reshape(8,8)\n",
    "        ax.append( fig.add_subplot(rows, columns, i) )\n",
    "        ax[-1].set_title('Expected value: '+ str(data_labels[clf.predict(data) != data_labels][i-1]) + '     '+\n",
    "                        'Predicted Value: '+ str(clf.predict(data[clf.predict(data) != data_labels])[i-1]))\n",
    "        plt.imshow(img)\n",
    "    plt.show()\n",
    "    \n",
    "show_wrong_predicions(clf, test, test_labels)"
   ]
  },
  {
   "cell_type": "markdown",
   "metadata": {
    "deletable": false,
    "editable": false,
    "nbgrader": {
     "checksum": "d3d99ed5537b3af90990729e004f06dc",
     "grade": false,
     "grade_id": "cell-ec716e13a8d17619",
     "locked": true,
     "schema_version": 1,
     "solution": false
    }
   },
   "source": [
    "### Zadanie 6.  NIST z klasyfikatorem SVM\n",
    "\n",
    "Poklasyfikuj dane MNIST klasyfikatorem SVM, korzystając z implementacji `sklearn` \n",
    "\n",
    " - należy zastosować skalowanie danych (np. `preprocessing.StandardScaler`)\n"
   ]
  },
  {
   "cell_type": "code",
   "execution_count": 15,
   "metadata": {
    "deletable": false,
    "nbgrader": {
     "checksum": "6fe2632baae8cba2c1cd9e8dd95451fd",
     "grade": true,
     "grade_id": "cell-6dca083155843d30",
     "locked": false,
     "points": 2,
     "schema_version": 1,
     "solution": true
    }
   },
   "outputs": [
    {
     "name": "stdout",
     "output_type": "stream",
     "text": [
      "Predicted:  [8]\n",
      "Expected:  {8}\n",
      "Accuracy: 0.9805555555555555\n"
     ]
    }
   ],
   "source": [
    "from sklearn.preprocessing import StandardScaler\n",
    "from sklearn.svm import SVC\n",
    "scaler = StandardScaler()\n",
    "scaled_train = scaler.fit_transform(train)\n",
    "scaled_test = scaler.fit_transform(test)\n",
    "svc_clf = SVC()\n",
    "svc_clf.fit(scaled_train, train_labels)\n",
    "\n",
    "print('Predicted: ', svc_clf.predict([scaled_test[10]]))\n",
    "print('Expected: ', {test_labels[10]})\n",
    "print('Accuracy:', svc_clf.score(scaled_test, test_labels))"
   ]
  },
  {
   "cell_type": "code",
   "execution_count": 16,
   "metadata": {},
   "outputs": [
    {
     "data": {
      "text/plain": [
       "(353, 360)"
      ]
     },
     "execution_count": 16,
     "metadata": {},
     "output_type": "execute_result"
    }
   ],
   "source": [
    "np.sum(svc_clf.predict(scaler.transform(test)) == test_labels),test_labels.shape[0]"
   ]
  },
  {
   "cell_type": "markdown",
   "metadata": {
    "deletable": false,
    "editable": false,
    "nbgrader": {
     "checksum": "dc45f76db964b6e449df85fc64f3af24",
     "grade": false,
     "grade_id": "cell-e320328935d362e3",
     "locked": true,
     "schema_version": 1,
     "solution": false
    }
   },
   "source": [
    "### Zadanie 7. Perceptron - implementacja\n",
    "\n",
    "Zaimplementuj perceptron klasyfikujący zbiór cyfr.\n",
    "\n",
    "\n",
    "1. W pierwszej kolejności zaimplementuj pojedynczy perceptron który odróżnia  wybraną cyfrę od reszty. \n",
    "\n",
    "2. Następnie zastosuj strategię one-vs-rest - wytrenuj 10 perceptronów, a każdy z nich powinien decydować czy obraz jest daną cyfrą 0-9.\n",
    "\n",
    "\n",
    "Oszacuj za każdym razem liczbę błędów na zbiorze treningowym i testowym.\n",
    "\n",
    "\n"
   ]
  },
  {
   "cell_type": "code",
   "execution_count": 17,
   "metadata": {
    "deletable": false,
    "nbgrader": {
     "checksum": "4c0bf92e41ee062600c91ad7bb43fde7",
     "grade": true,
     "grade_id": "cell-29c9021d82ec8046",
     "locked": false,
     "points": 3,
     "schema_version": 1,
     "solution": true
    }
   },
   "outputs": [
    {
     "name": "stdout",
     "output_type": "stream",
     "text": [
      "Number:  0\n",
      "How many iterations need to train: 4\n",
      "Number of wrong classsified examples:  0\n",
      "Score:  100.0 %\n",
      "---------------------------------------------------------\n"
     ]
    }
   ],
   "source": [
    "import random\n",
    "def sign(x):\n",
    "    '''\n",
    "    Function that return 1 if value is grater than 0\n",
    "    and -1 in other case.\n",
    "    param: x: value\n",
    "    return: -1, 1\n",
    "    '''\n",
    "    if x >= 0:\n",
    "        return 1\n",
    "    else:\n",
    "        return -1\n",
    "    \n",
    "def prepare_data(number):\n",
    "    '''\n",
    "    Function that prepere data to classification.\n",
    "    param number: number to classify.\n",
    "    return: labels of training and test data.\n",
    "    '''\n",
    "    selected_label = number\n",
    "    y = np.ones_like(train_labels)\n",
    "    y[train_labels != selected_label] = -1\n",
    "    y_test = np.ones_like(test_labels)\n",
    "    y_test[test_labels != selected_label] = -1\n",
    "    return y, y_test\n",
    "\n",
    "\n",
    "class my_Percepron(object):\n",
    "    '''\n",
    "    Class that represent single perceptron.\n",
    "    '''\n",
    "    def __init__(self, lr = 0.1):\n",
    "        '''\n",
    "        param: lr: learning rate.\n",
    "        '''\n",
    "        self.lr = lr\n",
    "\n",
    "    def fit(self, train, target):\n",
    "        '''\n",
    "        Function that train data - search for best weights and bias.\n",
    "        param: train: training data.\n",
    "        param: target: labels of training data.\n",
    "        '''\n",
    "        self.W = np.random.rand(len(train[0])+1)         # Initialization random weights.\n",
    "        X = np.hstack((np.ones((len(train), 1)), train)) # Initialization bias as index 0 of training data.\n",
    "        misclasified = True\n",
    "        iterations = 0\n",
    "        while misclasified and iterations < 100:\n",
    "            iterations +=1\n",
    "            misclasified = False\n",
    "            for xi, yi in zip(X, target):   \n",
    "                value = sign(xi.dot(self.W))             # Dot product of X[i] and weights, closed in sign function, \n",
    "                error = yi - value                       # Error = desired - our_value, possible cases: 1 - 1 = 0,\n",
    "                if error != 0:\n",
    "                    misclasified = True\n",
    "                self.W += self.lr*error*xi               # 1 - (-1) = 2, -1 - 1 = -2, -1 - (-1) = 0\n",
    "                \n",
    "        return iterations\n",
    "                    \n",
    "    def predict(self, data):\n",
    "        '''\n",
    "        Function that predicts value of data.\n",
    "        param: data: data to predict.\n",
    "        return: weighted sum of data.\n",
    "        '''\n",
    "        data = np.insert(data, 0, 1)\n",
    "        value = data.dot(self.W)\n",
    "        return np.array(value)\n",
    "    \n",
    "    def score(self, test, labels):\n",
    "        '''\n",
    "        Function that return score of prediction.\n",
    "        param: test: test data.\n",
    "        param: labels: labels of test data.\n",
    "        return score of prediction.\n",
    "        '''\n",
    "        predicted = []\n",
    "        for i in test:\n",
    "            predicted.append(sign(self.predict(i)))\n",
    "#         print('Weights:', self.W[1:])\n",
    "#         print('Bias: ', self.W[0])\n",
    "        print('Number of wrong classsified examples: ', np.sum(predicted != labels))\n",
    "        return np.sum(predicted == labels) / len(predicted)\n",
    "    \n",
    "    def return_W_B(self):\n",
    "        '''\n",
    "        Function that return weights and bias.\n",
    "        '''\n",
    "        return self.W[1:], self.W[0]\n",
    "    \n",
    "\n",
    "#Score for number zero\n",
    "bp = my_Percepron()\n",
    "number = 0\n",
    "y, y_test = prepare_data(number)\n",
    "print('Number: ', number)\n",
    "print('How many iterations need to train:', bp.fit(train, y))\n",
    "print('Score: ', bp.score(train, y)*100, '%')\n",
    "print('---------------------------------------------------------')"
   ]
  },
  {
   "cell_type": "code",
   "execution_count": 18,
   "metadata": {},
   "outputs": [
    {
     "name": "stdout",
     "output_type": "stream",
     "text": [
      "Number:  0\n",
      "How many iterations need to train: 7\n",
      "Number of wrong classsified examples:  0\n",
      "Score:  100.0 %\n",
      "---------------------------------------------------------\n",
      "Number:  1\n",
      "How many iterations need to train: 100\n",
      "Number of wrong classsified examples:  24\n",
      "Score:  98.32985386221294 %\n",
      "---------------------------------------------------------\n",
      "Number:  2\n",
      "How many iterations need to train: 13\n",
      "Number of wrong classsified examples:  0\n",
      "Score:  100.0 %\n",
      "---------------------------------------------------------\n",
      "Number:  3\n",
      "How many iterations need to train: 100\n",
      "Number of wrong classsified examples:  12\n",
      "Score:  99.16492693110646 %\n",
      "---------------------------------------------------------\n",
      "Number:  4\n",
      "How many iterations need to train: 8\n",
      "Number of wrong classsified examples:  0\n",
      "Score:  100.0 %\n",
      "---------------------------------------------------------\n",
      "Number:  5\n",
      "How many iterations need to train: 100\n",
      "Number of wrong classsified examples:  0\n",
      "Score:  100.0 %\n",
      "---------------------------------------------------------\n",
      "Number:  6\n",
      "How many iterations need to train: 26\n",
      "Number of wrong classsified examples:  0\n",
      "Score:  100.0 %\n",
      "---------------------------------------------------------\n",
      "Number:  7\n",
      "How many iterations need to train: 13\n",
      "Number of wrong classsified examples:  0\n",
      "Score:  100.0 %\n",
      "---------------------------------------------------------\n",
      "Number:  8\n",
      "How many iterations need to train: 100\n",
      "Number of wrong classsified examples:  62\n",
      "Score:  95.68545581071677 %\n",
      "---------------------------------------------------------\n",
      "Number:  9\n",
      "How many iterations need to train: 100\n",
      "Number of wrong classsified examples:  36\n",
      "Score:  97.4947807933194 %\n",
      "---------------------------------------------------------\n"
     ]
    }
   ],
   "source": [
    "#Score for 0-9 numbers\n",
    "for i in range(10):\n",
    "    bp = my_Percepron()\n",
    "    number = i\n",
    "    y, y_test = prepare_data(number)\n",
    "    print('Number: ', number)\n",
    "    print('How many iterations need to train:', bp.fit(train, y))\n",
    "    print('Score: ', bp.score(train, y)*100, '%')\n",
    "    print('---------------------------------------------------------')\n"
   ]
  },
  {
   "cell_type": "code",
   "execution_count": 19,
   "metadata": {},
   "outputs": [],
   "source": [
    "class OVAClf():\n",
    "    '''\n",
    "    Class that represent 10 binary Perceptrons that recognizes hand written digits.\n",
    "    '''\n",
    "    def fit(self, train, labels):\n",
    "        '''\n",
    "        Function that train 10 single perceptron for every number.\n",
    "        param: train: training data.\n",
    "        param: labels: labels of training data\n",
    "        '''\n",
    "        self.perceptrons = [my_Percepron() for i in range(len(np.unique(labels)))]\n",
    "        for index, perceptron in enumerate(self.perceptrons):\n",
    "            y, y_test = prepare_data(index)\n",
    "            perceptron.fit(train, y)\n",
    "            \n",
    "    def predict(self, number):\n",
    "        '''\n",
    "        Function that predict label of data.\n",
    "        param: number: data to predict.\n",
    "        return: Array with propability of every number.\n",
    "        '''\n",
    "        propab = []\n",
    "        for perceptron in self.perceptrons:\n",
    "            guess_ = perceptron.predict(number)\n",
    "            propab.append(guess_)\n",
    "        propab = np.argmax(np.array(propab))\n",
    "        return propab\n",
    "    \n",
    "    def score(self, data, labels):\n",
    "        '''\n",
    "        Function that calculate score of good classified examples.\n",
    "        param: data: data to classify.\n",
    "        param: labels of data.\n",
    "        return: score of good classified examples.\n",
    "        '''\n",
    "        propab = []\n",
    "        for i in range(len(data)):\n",
    "            propab.append([])\n",
    "            for perceptron in self.perceptrons:\n",
    "                guess_ = perceptron.predict(data[i])\n",
    "                propab[i].append(guess_)\n",
    "            propab[i] = np.argmax(np.array(propab[i]))\n",
    "        print('Number of wrong classsified examples: ', np.sum(propab != labels))\n",
    "        return np.sum(propab == labels) / len(labels)\n",
    "       "
   ]
  },
  {
   "cell_type": "code",
   "execution_count": 20,
   "metadata": {},
   "outputs": [
    {
     "name": "stdout",
     "output_type": "stream",
     "text": [
      "Number of wrong classsified examples:  37\n"
     ]
    },
    {
     "data": {
      "text/plain": [
       "0.9742519137091162"
      ]
     },
     "execution_count": 20,
     "metadata": {},
     "output_type": "execute_result"
    }
   ],
   "source": [
    "#Score for train set\n",
    "Ovaclf = OVAClf()\n",
    "Ovaclf.fit(train, train_labels)\n",
    "Ovaclf.score(train, train_labels)"
   ]
  },
  {
   "cell_type": "code",
   "execution_count": 21,
   "metadata": {},
   "outputs": [
    {
     "name": "stdout",
     "output_type": "stream",
     "text": [
      "Number of wrong classsified examples:  25\n"
     ]
    },
    {
     "data": {
      "text/plain": [
       "0.9305555555555556"
      ]
     },
     "execution_count": 21,
     "metadata": {},
     "output_type": "execute_result"
    }
   ],
   "source": [
    "#Score for test set\n",
    "Ovaclf = OVAClf()\n",
    "Ovaclf.fit(train, train_labels)\n",
    "Ovaclf.score(test, test_labels)"
   ]
  },
  {
   "cell_type": "code",
   "execution_count": 22,
   "metadata": {},
   "outputs": [
    {
     "name": "stdout",
     "output_type": "stream",
     "text": [
      "Prediction:  8\n",
      "Expected:  8\n"
     ]
    }
   ],
   "source": [
    "print('Prediction: ', Ovaclf.predict(train[100]))\n",
    "print('Expected: ', train_labels[100])"
   ]
  },
  {
   "cell_type": "code",
   "execution_count": 23,
   "metadata": {},
   "outputs": [],
   "source": [
    "## Dla cyfry zero powinno się otrzymać bezbłędną klasyfikację na train i test\n",
    "\n",
    "# print(OK,np.sum(y*np.sign(np.dot(train,w) + b)!=1), np.sum(y_test*np.sign(np.dot(test,w) + b)!=1) )  \n"
   ]
  },
  {
   "cell_type": "code",
   "execution_count": null,
   "metadata": {
    "deletable": false,
    "nbgrader": {
     "checksum": "dbb8b7dabef9844f64f052d73d183f24",
     "grade": true,
     "grade_id": "cell-ad09fbf9b58fd765",
     "locked": false,
     "points": 5,
     "schema_version": 1,
     "solution": true
    }
   },
   "outputs": [],
   "source": [
    "\n"
   ]
  },
  {
   "cell_type": "code",
   "execution_count": null,
   "metadata": {},
   "outputs": [],
   "source": []
  },
  {
   "cell_type": "markdown",
   "metadata": {
    "deletable": false,
    "editable": false,
    "nbgrader": {
     "checksum": "047d71961f7cd798af859626536d62f2",
     "grade": false,
     "grade_id": "cell-2113c00a032c528d",
     "locked": true,
     "schema_version": 1,
     "solution": false
    }
   },
   "source": [
    " **Uwaga**\n",
    " \n",
    " Wyniki na zbiorach trenującym i testowym powinny być w granicach 97% i 92-96%, odpowiednio."
   ]
  },
  {
   "cell_type": "code",
   "execution_count": 24,
   "metadata": {
    "deletable": false,
    "editable": false,
    "nbgrader": {
     "checksum": "e9a046de1c6e8bd044334010bd824ff0",
     "grade": false,
     "grade_id": "cell-991c1f3809ff4f3f",
     "locked": true,
     "schema_version": 1,
     "solution": false
    }
   },
   "outputs": [
    {
     "ename": "NameError",
     "evalue": "name 'w' is not defined",
     "output_type": "error",
     "traceback": [
      "\u001b[0;31m---------------------------------------------------------------------------\u001b[0m",
      "\u001b[0;31mNameError\u001b[0m                                 Traceback (most recent call last)",
      "\u001b[0;32m<ipython-input-24-3449d84448cd>\u001b[0m in \u001b[0;36m<module>\u001b[0;34m()\u001b[0m\n\u001b[1;32m      1\u001b[0m \u001b[0;31m# score na zbiorze trenującym\u001b[0m\u001b[0;34m\u001b[0m\u001b[0;34m\u001b[0m\u001b[0m\n\u001b[0;32m----> 2\u001b[0;31m \u001b[0mnp\u001b[0m\u001b[0;34m.\u001b[0m\u001b[0msum\u001b[0m\u001b[0;34m(\u001b[0m\u001b[0mnp\u001b[0m\u001b[0;34m.\u001b[0m\u001b[0margmax\u001b[0m\u001b[0;34m(\u001b[0m\u001b[0;34m(\u001b[0m\u001b[0mnp\u001b[0m\u001b[0;34m.\u001b[0m\u001b[0mdot\u001b[0m\u001b[0;34m(\u001b[0m\u001b[0mtrain\u001b[0m\u001b[0;34m,\u001b[0m\u001b[0mw\u001b[0m\u001b[0;34m.\u001b[0m\u001b[0mT\u001b[0m\u001b[0;34m)\u001b[0m \u001b[0;34m+\u001b[0m \u001b[0mb\u001b[0m\u001b[0;34m)\u001b[0m\u001b[0;34m,\u001b[0m\u001b[0maxis\u001b[0m\u001b[0;34m=\u001b[0m\u001b[0;34m-\u001b[0m\u001b[0;36m1\u001b[0m\u001b[0;34m)\u001b[0m\u001b[0;34m==\u001b[0m\u001b[0mtrain_labels\u001b[0m\u001b[0;34m)\u001b[0m\u001b[0;34m/\u001b[0m\u001b[0mtrain_labels\u001b[0m\u001b[0;34m.\u001b[0m\u001b[0mshape\u001b[0m\u001b[0;34m[\u001b[0m\u001b[0;36m0\u001b[0m\u001b[0;34m]\u001b[0m\u001b[0;34m\u001b[0m\u001b[0m\n\u001b[0m",
      "\u001b[0;31mNameError\u001b[0m: name 'w' is not defined"
     ]
    }
   ],
   "source": [
    "# score na zbiorze trenującym\n",
    "np.sum(np.argmax((np.dot(train,w.T) + b),axis=-1)==train_labels)/train_labels.shape[0]"
   ]
  },
  {
   "cell_type": "code",
   "execution_count": null,
   "metadata": {
    "deletable": false,
    "editable": false,
    "nbgrader": {
     "checksum": "03fdc6fff51d8065f427f393ff069edd",
     "grade": false,
     "grade_id": "cell-9f15d98d7562982f",
     "locked": true,
     "schema_version": 1,
     "solution": false
    }
   },
   "outputs": [],
   "source": [
    "# score na zbiorze testowym\n",
    "\n",
    "np.sum(np.argmax((np.dot(test,w.T) + b),axis=-1)==test_labels)/test_labels.shape[0]"
   ]
  },
  {
   "cell_type": "markdown",
   "metadata": {},
   "source": [
    "### Zadanie 8. Perceptron\n",
    "\n",
    "Wykorzystaj implementację Perceptron z `sklearn`"
   ]
  },
  {
   "cell_type": "code",
   "execution_count": 32,
   "metadata": {
    "deletable": false,
    "nbgrader": {
     "checksum": "570e4e3f0583b4217f52e9ffd78da82e",
     "grade": false,
     "grade_id": "cell-7d5462a1a2587a17",
     "locked": false,
     "schema_version": 1,
     "solution": true
    }
   },
   "outputs": [
    {
     "data": {
      "text/plain": [
       "0.9416666666666667"
      ]
     },
     "execution_count": 32,
     "metadata": {},
     "output_type": "execute_result"
    }
   ],
   "source": [
    "from sklearn.linear_model import Perceptron\n",
    "\n",
    "clf = Perceptron()\n",
    "clf.fit(train, train_labels)\n",
    "clf.score(test, test_labels)"
   ]
  },
  {
   "cell_type": "code",
   "execution_count": 33,
   "metadata": {
    "deletable": false,
    "editable": false,
    "nbgrader": {
     "checksum": "8f83e92f090894d32e82822b91e48d68",
     "grade": true,
     "grade_id": "cell-7144cc61e25769a9",
     "locked": true,
     "points": 1,
     "schema_version": 1,
     "solution": false
    }
   },
   "outputs": [],
   "source": [
    "assert clf.score(test,test_labels) > 0.94\n",
    "assert clf.score(test,test_labels) < 0.99"
   ]
  },
  {
   "cell_type": "markdown",
   "metadata": {
    "deletable": false,
    "editable": false,
    "nbgrader": {
     "checksum": "cf32bc02f8d18e5c1633290f051cbb96",
     "grade": false,
     "grade_id": "cell-7cc61f788ed44d87",
     "locked": true,
     "schema_version": 1,
     "solution": false
    }
   },
   "source": [
    "### Zadanie 9.  Macierz pomyłek \n",
    "\n",
    "Oblicz macierz pomyłek dla dowolnego klasyfikatora wykorzystując swój kod oparty na `numpy`."
   ]
  },
  {
   "cell_type": "code",
   "execution_count": 34,
   "metadata": {
    "deletable": false,
    "editable": false,
    "nbgrader": {
     "checksum": "95472340949b5da4853a68dc81023289",
     "grade": false,
     "grade_id": "cell-13f692f5150d56f8",
     "locked": true,
     "schema_version": 1,
     "solution": false
    }
   },
   "outputs": [],
   "source": [
    "from sklearn.metrics import confusion_matrix"
   ]
  },
  {
   "cell_type": "code",
   "execution_count": 35,
   "metadata": {
    "deletable": false,
    "nbgrader": {
     "checksum": "f971335d5493cc01d9e9e8e82880fdcb",
     "grade": false,
     "grade_id": "cell-94482d6c9045c741",
     "locked": false,
     "schema_version": 1,
     "solution": true
    }
   },
   "outputs": [],
   "source": [
    "def my_confusion(actual, predicted):\n",
    "    cols_rows = len(np.unique(actual))\n",
    "    cf_martix = []\n",
    "    for i in range(cols_rows):\n",
    "        cf_martix.append([])\n",
    "        for k in range(cols_rows):\n",
    "            cf_martix[i].append(np.sum(predicted[actual == i] == np.unique(actual)[k]))\n",
    "    return np.array(cf_martix)\n",
    "    "
   ]
  },
  {
   "cell_type": "code",
   "execution_count": 36,
   "metadata": {},
   "outputs": [
    {
     "data": {
      "text/plain": [
       "array([[37,  0,  0,  0,  0,  1,  0,  0,  0,  0],\n",
       "       [ 0, 38,  0,  0,  1,  0,  0,  0,  0,  0],\n",
       "       [ 0,  0, 20,  0,  0,  0,  0,  0,  0,  0],\n",
       "       [ 0,  0,  0, 36,  0,  1,  0,  1,  1,  1],\n",
       "       [ 0,  0,  0,  0, 33,  0,  0,  1,  0,  2],\n",
       "       [ 0,  0,  0,  0,  0, 29,  1,  0,  0,  1],\n",
       "       [ 0,  0,  0,  0,  1,  1, 35,  0,  0,  0],\n",
       "       [ 0,  0,  0,  0,  0,  0,  0, 35,  0,  1],\n",
       "       [ 0,  2,  0,  1,  0,  0,  1,  0, 29,  2],\n",
       "       [ 0,  1,  0,  0,  0,  0,  0,  0,  0, 47]])"
      ]
     },
     "execution_count": 36,
     "metadata": {},
     "output_type": "execute_result"
    }
   ],
   "source": [
    "my_confusion(test_labels, clf.predict(test))"
   ]
  },
  {
   "cell_type": "code",
   "execution_count": 37,
   "metadata": {
    "deletable": false,
    "editable": false,
    "nbgrader": {
     "checksum": "abb26712e433da9c6b89667b0d3fb6c5",
     "grade": true,
     "grade_id": "cell-7698625ed572909e",
     "locked": true,
     "points": 4,
     "schema_version": 1,
     "solution": false
    }
   },
   "outputs": [],
   "source": [
    "predicted = clf.predict(test)\n",
    "actual  = test_labels\n",
    "np.testing.assert_array_equal(my_confusion(actual,predicted), confusion_matrix(actual,predicted) )"
   ]
  },
  {
   "cell_type": "code",
   "execution_count": null,
   "metadata": {},
   "outputs": [],
   "source": []
  },
  {
   "cell_type": "code",
   "execution_count": null,
   "metadata": {},
   "outputs": [],
   "source": []
  },
  {
   "cell_type": "code",
   "execution_count": null,
   "metadata": {},
   "outputs": [],
   "source": []
  }
 ],
 "metadata": {
  "kernelspec": {
   "display_name": "Python 3",
   "language": "python",
   "name": "python3"
  },
  "language_info": {
   "codemirror_mode": {
    "name": "ipython",
    "version": 3
   },
   "file_extension": ".py",
   "mimetype": "text/x-python",
   "name": "python",
   "nbconvert_exporter": "python",
   "pygments_lexer": "ipython3",
   "version": "3.5.5"
  }
 },
 "nbformat": 4,
 "nbformat_minor": 2
}
