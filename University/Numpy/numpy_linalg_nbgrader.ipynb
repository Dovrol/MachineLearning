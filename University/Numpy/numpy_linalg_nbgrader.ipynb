{
 "cells": [
  {
   "cell_type": "markdown",
   "metadata": {},
   "source": [
    "# Podstawy Sztucznej Inteligencji 2018/2019\n",
    "\n"
   ]
  },
  {
   "cell_type": "markdown",
   "metadata": {},
   "source": [
    "Prosze uzupelnic kod tam gdzie znajduje napis `YOUR CODE HERE` lub 'YOUR ANSWER HERE'.\n",
    "\n",
    "Warto zresetowac 'kernel' i sprawdzic czy caly notatnik uruchamiany od poczatku nie daje bledow."
   ]
  },
  {
   "cell_type": "code",
   "execution_count": null,
   "metadata": {},
   "outputs": [],
   "source": []
  },
  {
   "cell_type": "markdown",
   "metadata": {},
   "source": [
    "---"
   ]
  },
  {
   "cell_type": "markdown",
   "metadata": {
    "deletable": false,
    "editable": false,
    "nbgrader": {
     "checksum": "fc0feaaf295c6b0a9d6872ac1336190f",
     "grade": false,
     "grade_id": "cell-6c1f2751cafbd1c1",
     "locked": true,
     "schema_version": 1,
     "solution": false
    }
   },
   "source": [
    "## Iloczyn skalarny\n",
    "\n",
    "Mając wektory $n$-elementowe $\\mathbf{a}$ i $\\mathbf{b}$ napisać funkcję obliczającą ich iloczyn skalarny:\n",
    "\n",
    "$$s =\\mathbf{a}\\cdot \\mathbf{b} =  \\sum_{i=1}^{n} a_i b_i $$ \n",
    "\n",
    " - za pomocą iteracji po elementach\n",
    " - używając funkcjonalności `numpy`"
   ]
  },
  {
   "cell_type": "code",
   "execution_count": 289,
   "metadata": {},
   "outputs": [],
   "source": [
    "import numpy as np"
   ]
  },
  {
   "cell_type": "code",
   "execution_count": 317,
   "metadata": {
    "deletable": false,
    "nbgrader": {
     "checksum": "2f16d78dfd7298be2c5a66046c277555",
     "grade": false,
     "grade_id": "cell-06e5e3a8f5681458",
     "locked": false,
     "schema_version": 1,
     "solution": true
    }
   },
   "outputs": [],
   "source": [
    "def s1(a,b):\n",
    "    '''\n",
    "    Funkcja oblicająca iloczyn skalarny dwóch wektorów.\n",
    "    '''\n",
    "    if len(a) != len(b):\n",
    "        raise ValueError\n",
    "    summ = 0\n",
    "    for i in range(len(a)):\n",
    "        summ += a[i] * b[i]\n",
    "    return summ\n",
    "def s2(a,b):\n",
    "    '''\n",
    "    Funkcja obliczająca iloczn skalarny dwóch wektorów za pomocą funkcji wbudowanej.\n",
    "    '''\n",
    "    return np.dot(a,b)"
   ]
  },
  {
   "cell_type": "code",
   "execution_count": 340,
   "metadata": {},
   "outputs": [],
   "source": [
    "#Tests\n",
    "for i in range(1000):\n",
    "    a = np.random.randint(1,100, size = 10)\n",
    "    b = np.random.randint(1,100, size = 10)\n",
    "    if s1(a, b) != s2(a, b):\n",
    "        print('blad')"
   ]
  },
  {
   "cell_type": "code",
   "execution_count": 291,
   "metadata": {
    "deletable": false,
    "editable": false,
    "nbgrader": {
     "checksum": "1f0005210fd6598cc8b86f3d96e7b5d5",
     "grade": true,
     "grade_id": "cell-96f566befa6dfa4f",
     "locked": true,
     "points": 4,
     "schema_version": 1,
     "solution": false
    }
   },
   "outputs": [],
   "source": [
    "assert s1([1,1,1,1],[1,1,1,1]) == 4 \n",
    "assert s2([1,1,1,1],[1,1,1,1]) == 4\n",
    "assert np.isscalar(s2([1,1,1,1],[1,1,1,1]))\n",
    "assert np.isscalar(s1([1,1,1,1],[1,1,1,1]))\n",
    "assert s2([7,7,7],[7,7,7]) == 147\n",
    "assert s1([7,7,7],[7,7,7]) == 147\n"
   ]
  },
  {
   "cell_type": "markdown",
   "metadata": {
    "deletable": false,
    "editable": false,
    "nbgrader": {
     "checksum": "e15c2c66070c865a2c7f41948bb4fa63",
     "grade": false,
     "grade_id": "cell-2b11edc1df47f26a",
     "locked": true,
     "schema_version": 1,
     "solution": false
    }
   },
   "source": [
    "## Mnożenie macierzy przez wektor:\n",
    "\n",
    "Mając wektor $n$-elementowy $\\mathbf{x}$ oraz macierz $\\mathbf{A}$ o wymiarach $m\\times n$ napisać funkcję obliczającą ich iloczyn:\n",
    "\n",
    "$$\\mathbf{y}= \\mathbf{A}\\mathbf{x}.$$\n",
    "\n",
    "Każdy element wektora $\\mathbf{y}$ jest dany przez:\n",
    "\n",
    "$$y_i = \\sum_{j=1}^{n} a_{ij} x_j $$ \n",
    "\n",
    " - za pomocą iteracji po elementach (podwójna pętla)\n",
    " - korzystając z faktu, że\n",
    " każdy element wektora $y_i$ jest iloczynem skalarnym $i$-tego rzędu macierzy $\\mathbf A$ oraz wektora $\\mathbf{x}$ (pojedyncza pętla)\n",
    " - używając funkcji:  `np.dot` lub `np.tensordot` (bez pętli)\n"
   ]
  },
  {
   "cell_type": "code",
   "execution_count": 363,
   "metadata": {
    "deletable": false,
    "nbgrader": {
     "checksum": "3a3bd58bb0a6790a618531df19e48030",
     "grade": false,
     "grade_id": "cell-fb522d133295441a",
     "locked": false,
     "schema_version": 1,
     "solution": true
    }
   },
   "outputs": [],
   "source": [
    "def y1(A,x):\n",
    "    '''\n",
    "    Funkcja mnożąca macierz przez wektor używająca 2 pętli.\n",
    "    '''\n",
    "    if len(A[0]) != len(x):\n",
    "        raise ValueError    # Gdy liczba elementów wektora jest większa od ilości kolumn macierzy.\n",
    "    a = []\n",
    "    for i in range(len(A)):\n",
    "        summ = 0\n",
    "        for k in range(len(A[i])):\n",
    "            summ += A[i][k] * x[k]\n",
    "        a.append(summ)\n",
    "    return np.array(a)\n",
    "\n",
    "def y2(A,x):\n",
    "    '''\n",
    "    Funkcja mnożąca macierz przez wektor używając 2 pętli.\n",
    "    '''\n",
    "    if len(A[0]) != len(x):\n",
    "        raise ValueError    # Gdy liczba elementów wektora jest większa od ilości kolumn macierzy.\n",
    "    a = []\n",
    "    for i in range(len(A)):\n",
    "        a.append(s1(A[i], x))\n",
    "    return np.array(a)\n",
    "    \n",
    "def y3(A,x):\n",
    "    '''\n",
    "    Funkcja mnożąca macierz przez wektor używając funkcji wbudowanej.\n",
    "    '''\n",
    "    return np.dot(A,x)"
   ]
  },
  {
   "cell_type": "code",
   "execution_count": 364,
   "metadata": {},
   "outputs": [],
   "source": [
    "#Tests\n",
    "for i in range(1000):\n",
    "    a = np.random.randint(5, size = (2,4)) # Random Matrix\n",
    "    b = np.random.randint(1,100, size = 4) # Random wektor\n",
    "    if not np.array_equal(y1(a,b), y3(a,b)) or not np.array_equal(y2(a,b), y3(a,b)):\n",
    "        print('blad')"
   ]
  },
  {
   "cell_type": "code",
   "execution_count": 365,
   "metadata": {
    "deletable": false,
    "editable": false,
    "nbgrader": {
     "checksum": "c57bacd4023f608bc5e5d99f5829f18c",
     "grade": true,
     "grade_id": "cell-eff8a1c20f8fb28f",
     "locked": true,
     "points": 6,
     "schema_version": 1,
     "solution": false
    }
   },
   "outputs": [],
   "source": [
    "A = np.arange(9).reshape(3,3)\n",
    "x = np.arange(3)\n",
    "np.testing.assert_almost_equal(y1(A,x),np.array([ 5, 14, 23]))\n",
    "np.testing.assert_almost_equal(y2(A,x),np.array([ 5, 14, 23]))\n",
    "np.testing.assert_almost_equal(y3(A,x),np.array([ 5, 14, 23]))\n"
   ]
  },
  {
   "cell_type": "code",
   "execution_count": 366,
   "metadata": {
    "deletable": false,
    "editable": false,
    "nbgrader": {
     "checksum": "be481014a09ef3b6ac045cfe8786bd0d",
     "grade": true,
     "grade_id": "cell-982fed0f9cd60244",
     "locked": true,
     "points": 1,
     "schema_version": 1,
     "solution": false
    }
   },
   "outputs": [],
   "source": [
    "try:\n",
    "    y1(np.arange(9).reshape(3,3),np.array([1,1]))\n",
    "except ValueError:\n",
    "    pass\n",
    "else:\n",
    "    raise AssertionError(\"Second dimension of matrix should be the same as dimension of vector!.\")"
   ]
  },
  {
   "cell_type": "markdown",
   "metadata": {
    "deletable": false,
    "editable": false,
    "nbgrader": {
     "checksum": "bc98bdbc0600b6cc9dcd835ae8e7f69e",
     "grade": false,
     "grade_id": "cell-09f1ed20d38df5bd",
     "locked": true,
     "schema_version": 1,
     "solution": false
    }
   },
   "source": [
    "## Mnożenie macierzy\n",
    "\n",
    "Mamy dwie macierze $\\mathbf{A}_{m\\times n}$ i $\\mathbf{B}_{n\\times k}$. Napisać funkcję obliczającą ich iloczyn:\n",
    "\n",
    "$$\\mathbf{C}= \\mathbf{A}\\mathbf{B}$$.\n",
    "\n",
    "Każdy element macierzy  $\\mathbf{C}$ jest dany przez:\n",
    "\n",
    "$$c_{ij} = \\sum_{k=1}^{n} a_{ik} b_{kj} $$ \n",
    "\n",
    " - za pomocą iteracji po elementach (potrójna pętla)\n",
    " - korzystając z faktu, że każdy element macierzy $c_{ij}$ jest iloczynem skalarnym $i$-tego rzędu macierzy $\\mathbf A$ oraz  $j$-tego rzędu macierzy $\\mathbf B$ (podwójna pętla)\n",
    " - używając funkcji:  `np.dot` lub `np.tensordot` (bez pętli)\n",
    " "
   ]
  },
  {
   "cell_type": "code",
   "execution_count": 373,
   "metadata": {
    "deletable": false,
    "nbgrader": {
     "checksum": "fb3cc25440d694e7d04f1f6f536dba71",
     "grade": false,
     "grade_id": "cell-bc5bc5d32ae48f5f",
     "locked": false,
     "schema_version": 1,
     "solution": true
    }
   },
   "outputs": [],
   "source": [
    "def C1(A,B):\n",
    "    '''\n",
    "    Funkcja mnożąca macierz przez macierz używająć 3 pętli.\n",
    "    '''\n",
    "    if len(A[0]) != len(B):\n",
    "        raise ValueError    # Sprawdzenie czy macierz A ma tyle kolumn co macierz B wierszy.\n",
    "    a = []\n",
    "    for i in range(len(A)):\n",
    "        a.append([])\n",
    "        for l in range(len(B[i])):\n",
    "            summ = 0 \n",
    "            for k in range(len(A[i])):\n",
    "                summ += (A[i][k] * B[k][l])\n",
    "            a[i].append(summ)\n",
    "    return np.array(a)\n",
    "    \n",
    "def C2(A,B):\n",
    "    '''\n",
    "    Funkcja mnożąca macierz przez macierz używająć 2 pętli oraz funkcji obliczającej iloczyn skalarny 2 wektorów\n",
    "    zaimplementowanej wcześniej.\n",
    "    '''\n",
    "    a = []\n",
    "    for i in range(len(A)):\n",
    "        a.append([])\n",
    "        for k in range(len(B[i])):\n",
    "            a[i].append(s1(A[i], B[:,k]))\n",
    "    return np.array(a)\n",
    "def C3(A,B):\n",
    "    '''\n",
    "    Funkcja mnożąca macierz przez macierz używając funkcji wbudowanej.\n",
    "    '''\n",
    "    return np.dot(A,B)"
   ]
  },
  {
   "cell_type": "code",
   "execution_count": 377,
   "metadata": {},
   "outputs": [],
   "source": [
    "#Tests\n",
    "for i in range(1000):\n",
    "    a = np.random.randint(15, size = (7,8)) # Random Matrix\n",
    "    b = np.random.randint(15, size = (8,9)) # Random Matrix\n",
    "    if not np.array_equal(C1(a,b), C3(a,b)) or not np.array_equal(C2(a,b), C3(a,b)):\n",
    "        print('blad')"
   ]
  },
  {
   "cell_type": "code",
   "execution_count": 378,
   "metadata": {
    "deletable": false,
    "editable": false,
    "nbgrader": {
     "checksum": "d332df767fc94f122e46e44a9529a956",
     "grade": true,
     "grade_id": "cell-fdb6f13441a02162",
     "locked": true,
     "points": 6,
     "schema_version": 1,
     "solution": false
    }
   },
   "outputs": [],
   "source": [
    "m = np.arange(9).reshape(3,3)\n",
    "assert np.prod(C1(np.eye(3),m) == m)\n",
    "assert np.prod(C1(m,m) == C3(m,m))\n",
    "assert np.prod(C2(m,m) == C3(m,m))"
   ]
  },
  {
   "cell_type": "code",
   "execution_count": 379,
   "metadata": {
    "deletable": false,
    "editable": false,
    "nbgrader": {
     "checksum": "afeb3f794745ca029d450ce78004e538",
     "grade": true,
     "grade_id": "cell-f8df427efe4ce6de",
     "locked": true,
     "points": 1,
     "schema_version": 1,
     "solution": false
    }
   },
   "outputs": [],
   "source": [
    "try:\n",
    "    C1(np.arange(9).reshape(3,3),np.ones((2,3)))\n",
    "except ValueError:\n",
    "    pass\n",
    "else:\n",
    "    raise AssertionError(\"Second dimension of matrix should be the same as dimension of vector!.\")"
   ]
  },
  {
   "cell_type": "markdown",
   "metadata": {
    "deletable": false,
    "editable": false,
    "nbgrader": {
     "checksum": "1e29b5a636231f44d1e13f56de78e24c",
     "grade": false,
     "grade_id": "cell-f05ced306d8aac81",
     "locked": true,
     "schema_version": 1,
     "solution": false
    }
   },
   "source": [
    "## Ślad macierzy\n",
    "\n",
    "Obliczyć ślad macierzy $n\\times n$:\n",
    "\n",
    "$$ Tr(A) = \\sum_{i=1}^{n} a_{ii}$$"
   ]
  },
  {
   "cell_type": "code",
   "execution_count": 314,
   "metadata": {
    "deletable": false,
    "nbgrader": {
     "checksum": "e062ca353e0e2cfffd61d698be3b6697",
     "grade": false,
     "grade_id": "cell-6cfbc4d0c3f5e8a4",
     "locked": false,
     "schema_version": 1,
     "solution": true
    }
   },
   "outputs": [],
   "source": [
    "def Tr(A):\n",
    "    n = len(A)\n",
    "    if n != len(A[0]):\n",
    "        raise ValueError\n",
    "    summ = 0\n",
    "    for i in range(len(A)):\n",
    "        summ += A[i][i]\n",
    "    return summ"
   ]
  },
  {
   "cell_type": "code",
   "execution_count": 393,
   "metadata": {},
   "outputs": [],
   "source": [
    "#Tests\n",
    "for i in range(10):\n",
    "    a = np.random.randint(15, size = (8,8)) # Random Matrix\n",
    "    if Tr(a) != np.matrix.trace(a):\n",
    "        print('blad')"
   ]
  },
  {
   "cell_type": "code",
   "execution_count": 394,
   "metadata": {
    "deletable": false,
    "editable": false,
    "nbgrader": {
     "checksum": "e8dbf5a790e4aec1a8e24e5e82c28fec",
     "grade": true,
     "grade_id": "cell-6fcc4a8c88b8f364",
     "locked": true,
     "points": 2,
     "schema_version": 1,
     "solution": false
    }
   },
   "outputs": [],
   "source": [
    "assert Tr(np.diag([1,2,3,4])) == 10"
   ]
  },
  {
   "cell_type": "code",
   "execution_count": 395,
   "metadata": {
    "deletable": false,
    "editable": false,
    "nbgrader": {
     "checksum": "c580540de23dbaef7e47fafc8f072ebc",
     "grade": true,
     "grade_id": "cell-3a491937c81d5cfd",
     "locked": true,
     "points": 1,
     "schema_version": 1,
     "solution": false
    }
   },
   "outputs": [],
   "source": [
    "try:\n",
    "    Tr(np.ones((2,3)))\n",
    "except ValueError:\n",
    "    pass\n",
    "else:\n",
    "    raise AssertionError(\"The matrix should be square matrix!.\")"
   ]
  },
  {
   "cell_type": "markdown",
   "metadata": {
    "deletable": false,
    "editable": false,
    "nbgrader": {
     "checksum": "ec2840645adad87fde71b56e15995d82",
     "grade": false,
     "grade_id": "cell-66c1029b120699b7",
     "locked": true,
     "schema_version": 1,
     "solution": false
    }
   },
   "source": [
    "## Wyznacznik macierzy\n",
    "\n",
    "Obliczyć wyznacznik macierzy korzystając z rozwinięcia [Laplace'a](https://pl.wikipedia.org/wiki/Rozwini%C4%99cie_Laplace%E2%80%99a)\n"
   ]
  },
  {
   "cell_type": "code",
   "execution_count": 301,
   "metadata": {
    "deletable": false,
    "editable": false,
    "nbgrader": {
     "checksum": "655eae17b8e2fec9aca8a7e654f93a0c",
     "grade": false,
     "grade_id": "cell-7456ee5b5864dafa",
     "locked": true,
     "schema_version": 1,
     "solution": false
    }
   },
   "outputs": [],
   "source": [
    "import numpy as np\n",
    "A = np.random.randint(4,size=(4,4)).astype(np.float)\n",
    "x = np.random.randint(4,size=4)"
   ]
  },
  {
   "cell_type": "code",
   "execution_count": 406,
   "metadata": {
    "deletable": false,
    "nbgrader": {
     "checksum": "b4104b4157b83d63f161ae49abbc90ec",
     "grade": false,
     "grade_id": "cell-a6b07fe35339bafe",
     "locked": false,
     "schema_version": 1,
     "solution": true
    }
   },
   "outputs": [],
   "source": [
    "def Le(A):\n",
    "    '''\n",
    "    Funkcja wyznaczająca wyznacznik maciarzy kwadratowej A.\n",
    "    '''\n",
    "    if len(A) == 1:\n",
    "        return A[0][0]\n",
    "    else:\n",
    "        suma = 0\n",
    "        for i in range(len(A[0])):\n",
    "            suma += ((-1)**(i)) * A[0][i] * Le(np.delete(np.delete(A,0,0), i, 1))\n",
    "    return suma"
   ]
  },
  {
   "cell_type": "code",
   "execution_count": 411,
   "metadata": {},
   "outputs": [],
   "source": [
    "#Tests\n",
    "for i in range(100):\n",
    "    a = np.random.randint(15, size = (4,4)) # Random Matrix\n",
    "    if Le(a) != round(np.linalg.det(a)):\n",
    "        print('blad')"
   ]
  },
  {
   "cell_type": "code",
   "execution_count": 412,
   "metadata": {
    "deletable": false,
    "editable": false,
    "nbgrader": {
     "checksum": "398778bc811cf3a139e8fa0548a5a0dc",
     "grade": true,
     "grade_id": "cell-dac69a3e1b14c456",
     "locked": true,
     "points": 10,
     "schema_version": 1,
     "solution": false
    }
   },
   "outputs": [],
   "source": [
    "A = np.array([[ 1.,  3.,  0.,  0.],[ 3.,  2.,  3.,  2.],[ 1.,  2.,  2.,  2.],[ 1.,  0.,  0.,  3.]])\n",
    "np.testing.assert_allclose( Le(A), np.linalg.det(A) )"
   ]
  },
  {
   "cell_type": "code",
   "execution_count": null,
   "metadata": {},
   "outputs": [],
   "source": []
  }
 ],
 "metadata": {
  "kernelspec": {
   "display_name": "Python 3",
   "language": "python",
   "name": "python3"
  },
  "language_info": {
   "codemirror_mode": {
    "name": "ipython",
    "version": 3
   },
   "file_extension": ".py",
   "mimetype": "text/x-python",
   "name": "python",
   "nbconvert_exporter": "python",
   "pygments_lexer": "ipython3",
   "version": "3.5.5"
  }
 },
 "nbformat": 4,
 "nbformat_minor": 2
}
