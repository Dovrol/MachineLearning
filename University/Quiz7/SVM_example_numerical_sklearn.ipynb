{
 "cells": [
  {
   "cell_type": "markdown",
   "metadata": {},
   "source": [
    "# Podstawy Sztucznej Inteligencji 2018/2019\n",
    "\n"
   ]
  },
  {
   "cell_type": "markdown",
   "metadata": {},
   "source": [
    "Prosze uzupelnic kod tam gdzie znajduje napis `YOUR CODE HERE` lub 'YOUR ANSWER HERE'.\n",
    "\n",
    "Warto zresetowac 'kernel' i sprawdzic czy caly notatnik uruchamiany od poczatku nie daje bledow."
   ]
  },
  {
   "cell_type": "code",
   "execution_count": null,
   "metadata": {},
   "outputs": [],
   "source": []
  },
  {
   "cell_type": "markdown",
   "metadata": {},
   "source": [
    "---"
   ]
  },
  {
   "cell_type": "markdown",
   "metadata": {
    "deletable": false,
    "editable": false,
    "nbgrader": {
     "checksum": "04e4ca889ed1db8188a4a3e40d873a36",
     "grade": false,
     "grade_id": "cell-19096060a94d5885",
     "locked": true,
     "schema_version": 1,
     "solution": false
    }
   },
   "source": [
    "## SVM in sklearn\n",
    "\n",
    "Rozważmy ten sam przykład, tym razem rozwiązemy numerycznie problem optymalizacyjny."
   ]
  },
  {
   "cell_type": "code",
   "execution_count": 1,
   "metadata": {
    "deletable": false,
    "editable": false,
    "nbgrader": {
     "checksum": "84b171eeb48af98750f27335e99edf4c",
     "grade": false,
     "grade_id": "cell-f842d4aef8576864",
     "locked": true,
     "schema_version": 1,
     "solution": false
    }
   },
   "outputs": [],
   "source": [
    "import numpy as np\n",
    "import matplotlib.pyplot as plt\n",
    "from sklearn.svm import SVC\n",
    "\n",
    "X = np.array([[1,2],[-1,2],[-1,-2],[3,1]])\n",
    "y = np.array([-1,-1,1,1])"
   ]
  },
  {
   "cell_type": "code",
   "execution_count": 2,
   "metadata": {},
   "outputs": [
    {
     "data": {
      "text/plain": [
       "(array([[ 1,  2],\n",
       "        [-1,  2],\n",
       "        [-1, -2],\n",
       "        [ 3,  1]]), array([-1, -1,  1,  1]))"
      ]
     },
     "execution_count": 2,
     "metadata": {},
     "output_type": "execute_result"
    }
   ],
   "source": [
    "X,y"
   ]
  },
  {
   "cell_type": "code",
   "execution_count": 3,
   "metadata": {
    "deletable": false,
    "editable": false,
    "nbgrader": {
     "checksum": "9c101c2f100c7f038c0b94480e4b5676",
     "grade": false,
     "grade_id": "cell-ff125f1e531cb49d",
     "locked": true,
     "schema_version": 1,
     "solution": false
    }
   },
   "outputs": [
    {
     "data": {
      "text/plain": [
       "SVC(C=1, cache_size=200, class_weight=None, coef0=0.0,\n",
       "  decision_function_shape='ovr', degree=3, gamma='auto_deprecated',\n",
       "  kernel='linear', max_iter=-1, probability=False, random_state=None,\n",
       "  shrinking=True, tol=0.001, verbose=False)"
      ]
     },
     "execution_count": 3,
     "metadata": {},
     "output_type": "execute_result"
    }
   ],
   "source": [
    "svm = SVC(kernel=\"linear\", C=1)\n",
    "svm.fit(X,y)"
   ]
  },
  {
   "cell_type": "code",
   "execution_count": 4,
   "metadata": {},
   "outputs": [
    {
     "data": {
      "image/png": "[encoded data removed]",
      "text/plain": [
       "<matplotlib.figure.Figure at 0x7fb7a319d588>"
      ]
     },
     "metadata": {
      "needs_background": "light"
     },
     "output_type": "display_data"
    }
   ],
   "source": [
    "plt.scatter(X[y==-1,0],X[y==-1,1],c='b')\n",
    "plt.scatter(X[y==1,0],X[y==1,1],c='r')\n",
    "plt.show()"
   ]
  },
  {
   "cell_type": "code",
   "execution_count": 5,
   "metadata": {},
   "outputs": [],
   "source": [
    "x_min, x_max = -3.3,3.3\n",
    "xx, yy = np.meshgrid(*(2*(np.linspace(x_min, x_max, 90), )))\n",
    "xy = np.stack([xx.ravel(),yy.ravel()]).T"
   ]
  },
  {
   "cell_type": "code",
   "execution_count": 6,
   "metadata": {},
   "outputs": [
    {
     "data": {
      "text/plain": [
       "<matplotlib.collections.PathCollection at 0x7fb7a01acf60>"
      ]
     },
     "execution_count": 6,
     "metadata": {},
     "output_type": "execute_result"
    },
    {
     "data": {
      "image/png": "[encoded data removed]",
      "text/plain": [
       "<matplotlib.figure.Figure at 0x7fb7a319d358>"
      ]
     },
     "metadata": {
      "needs_background": "light"
     },
     "output_type": "display_data"
    }
   ],
   "source": [
    "z = svm.predict(xy).reshape(90,90)\n",
    "plt.imshow(z,extent=[x_min, x_max,x_min, x_max],origin='lower')\n",
    "plt.scatter(X[y==-1,0], X[y==-1,1],c='b')\n",
    "plt.scatter(X[y==1,0], X[y==1,1],c='r')"
   ]
  },
  {
   "cell_type": "code",
   "execution_count": 7,
   "metadata": {},
   "outputs": [
    {
     "data": {
      "text/plain": [
       "<matplotlib.collections.PathCollection at 0x7fb79babdef0>"
      ]
     },
     "execution_count": 7,
     "metadata": {},
     "output_type": "execute_result"
    },
    {
     "data": {
      "image/png": "[encoded data removed]",
      "text/plain": [
       "<matplotlib.figure.Figure at 0x7fb7a0202320>"
      ]
     },
     "metadata": {
      "needs_background": "light"
     },
     "output_type": "display_data"
    }
   ],
   "source": [
    "z = svm.decision_function(xy).reshape(90,90)\n",
    "z[z>1] = 1\n",
    "z[z<-1] = -1\n",
    "z[(z>-1)&(z<1)] = 0\n",
    "plt.imshow(z,extent=[x_min, x_max,x_min, x_max],origin='lower')\n",
    "plt.scatter(X[y==-1,0], X[y==-1,1],c='b')\n",
    "plt.scatter(X[y==1,0], X[y==1,1],c='r')"
   ]
  },
  {
   "cell_type": "code",
   "execution_count": 12,
   "metadata": {
    "deletable": false,
    "nbgrader": {
     "checksum": "190d3174a18e39df9b099bd12a9044c9",
     "grade": false,
     "grade_id": "cell-9f2e250ee9091a6c",
     "locked": false,
     "schema_version": 1,
     "solution": true
    }
   },
   "outputs": [],
   "source": [
    "w = svm.coef_[0]\n",
    "t = svm.intercept_[0]"
   ]
  },
  {
   "cell_type": "code",
   "execution_count": 13,
   "metadata": {
    "deletable": false,
    "editable": false,
    "nbgrader": {
     "checksum": "971db4d73d05ef35265e4950d2d0ae1e",
     "grade": true,
     "grade_id": "cell-5a37c4f56365f8d1",
     "locked": true,
     "points": 2,
     "schema_version": 1,
     "solution": false
    }
   },
   "outputs": [],
   "source": [
    "np.testing.assert_allclose(w,(3/5, -4/5),atol=1e-4)\n",
    "np.testing.assert_allclose(t,0.0,atol=1e-4)\n"
   ]
  },
  {
   "cell_type": "code",
   "execution_count": null,
   "metadata": {},
   "outputs": [],
   "source": []
  },
  {
   "cell_type": "markdown",
   "metadata": {},
   "source": [
    "## Zależność dopasowania od $C$"
   ]
  },
  {
   "cell_type": "code",
   "execution_count": 14,
   "metadata": {},
   "outputs": [],
   "source": [
    "from ipywidgets import FloatSlider,interact\n",
    "from IPython.display import clear_output"
   ]
  },
  {
   "cell_type": "code",
   "execution_count": 15,
   "metadata": {},
   "outputs": [
    {
     "data": {
      "application/vnd.jupyter.widget-view+json": {
       "model_id": "1c5205158fd4432490bc1b5c8e995551",
       "version_major": 2,
       "version_minor": 0
      },
      "text/plain": [
       "interactive(children=(FloatSlider(value=1.0, description='C_', max=1.0, min=0.01, step=0.01), Output()), _dom_…"
      ]
     },
     "metadata": {},
     "output_type": "display_data"
    }
   ],
   "source": [
    "@interact(C_ = FloatSlider(min=0.01,max=1,step=0.01,value=1))\n",
    "def __(C_):\n",
    "    svm = SVC(kernel=\"linear\", C=C_)\n",
    "    svm.fit(X,y)\n",
    "    \n",
    "    z = svm.decision_function(xy).reshape(90,90)\n",
    "    z[z>1] = 1\n",
    "    z[z<-1] = -1\n",
    "    z[(z>-1)&(z<1)] = 0\n",
    "    \n",
    "    plt.imshow(z,extent=[x_min, x_max,x_min, x_max],origin='lower')\n",
    "    plt.scatter(X[y==-1,0], X[y==-1,1],c='b',s=120)\n",
    "    plt.scatter(X[y==1,0], X[y==1,1],c='r',s=120)\n",
    "    plt.scatter(*(svm.support_vectors_.T),c='k')\n",
    "    clear_output(wait=True)\n",
    "    print(svm.dual_coef_)\n",
    "    plt.show()"
   ]
  },
  {
   "cell_type": "code",
   "execution_count": null,
   "metadata": {},
   "outputs": [],
   "source": []
  },
  {
   "cell_type": "code",
   "execution_count": null,
   "metadata": {},
   "outputs": [],
   "source": []
  },
  {
   "cell_type": "code",
   "execution_count": null,
   "metadata": {},
   "outputs": [],
   "source": []
  },
  {
   "cell_type": "code",
   "execution_count": null,
   "metadata": {},
   "outputs": [],
   "source": []
  },
  {
   "cell_type": "code",
   "execution_count": null,
   "metadata": {},
   "outputs": [],
   "source": []
  }
 ],
 "metadata": {
  "kernelspec": {
   "display_name": "Python 3",
   "language": "python",
   "name": "python3"
  },
  "language_info": {
   "codemirror_mode": {
    "name": "ipython",
    "version": 3
   },
   "file_extension": ".py",
   "mimetype": "text/x-python",
   "name": "python",
   "nbconvert_exporter": "python",
   "pygments_lexer": "ipython3",
   "version": "3.5.5"
  },
  "nbTranslate": {
   "displayLangs": [
    "en",
    "pl"
   ],
   "hotkey": "alt-t",
   "langInMainMenu": true,
   "sourceLang": "pl",
   "targetLang": "en",
   "useGoogleTranslate": true
  }
 },
 "nbformat": 4,
 "nbformat_minor": 2
}
