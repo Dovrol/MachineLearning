{
 "cells": [
  {
   "cell_type": "markdown",
   "metadata": {},
   "source": [
    "# Podstawy Sztucznej Inteligencji 2018/2019\n",
    "\n"
   ]
  },
  {
   "cell_type": "markdown",
   "metadata": {},
   "source": [
    "Prosze uzupelnic kod tam gdzie znajduje napis `YOUR CODE HERE` lub 'YOUR ANSWER HERE'.\n",
    "\n",
    "Warto zresetowac 'kernel' i sprawdzic czy caly notatnik uruchamiany od poczatku nie daje bledow."
   ]
  },
  {
   "cell_type": "code",
   "execution_count": null,
   "metadata": {},
   "outputs": [],
   "source": []
  },
  {
   "cell_type": "markdown",
   "metadata": {},
   "source": [
    "---"
   ]
  },
  {
   "cell_type": "markdown",
   "metadata": {
    "deletable": false,
    "editable": false,
    "nbgrader": {
     "checksum": "53b0400969441ab490a13777c04dbc30",
     "grade": false,
     "grade_id": "cell-c6807741c0de771a",
     "locked": true,
     "schema_version": 1,
     "solution": false
    }
   },
   "source": [
    "## Regresja liniowa wielu zmiennych\n",
    "\n"
   ]
  },
  {
   "cell_type": "code",
   "execution_count": null,
   "metadata": {
    "deletable": false,
    "editable": false,
    "nbgrader": {
     "checksum": "4ccb794441dffcfc023d7b0963d7d064",
     "grade": false,
     "grade_id": "cell-0ea66fab73cc3d33",
     "locked": true,
     "schema_version": 1,
     "solution": false
    }
   },
   "outputs": [],
   "source": [
    "%matplotlib notebook \n",
    "import numpy as np \n",
    "from time import sleep\n",
    "import matplotlib.pyplot as plt\n",
    "\n",
    "\n",
    "x = np.array([-2.29399323, -1.43363036, -0.52468804])\n",
    "y = np.array([-7.77733551, -2.70740336, -2.41251556,])\n",
    "m = x.shape[0]\n"
   ]
  },
  {
   "cell_type": "code",
   "execution_count": null,
   "metadata": {
    "deletable": false,
    "editable": false,
    "nbgrader": {
     "checksum": "3e53de33f9f48ad29bd55499abd2b46d",
     "grade": false,
     "grade_id": "cell-f4746d5caa5399c0",
     "locked": true,
     "schema_version": 1,
     "solution": false
    }
   },
   "outputs": [],
   "source": []
  },
  {
   "cell_type": "markdown",
   "metadata": {
    "deletable": false,
    "editable": false,
    "nbgrader": {
     "checksum": "c0e0f84be3de1b2930ce59f362a4ddaa",
     "grade": false,
     "grade_id": "cell-90ba3def1b18d569",
     "locked": true,
     "schema_version": 1,
     "solution": false
    }
   },
   "source": [
    "Tworzymy  z potęg $x$ sztuczne cechy $x^2,x^3,...$. \n",
    "\n",
    "Chcemy rozwiązać problem regresji liniowej wielu zmiennych - czyli dopasowania funkcji liniowej wielu zmiennych do danych.\n",
    "\n",
    "$$y_i = \\sum_j w_j x_{ij} + b$$\n",
    "\n",
    "\n",
    " - $N$ to wymiar przestrzeni cech\n",
    " - $m$ - liczba przykładów"
   ]
  },
  {
   "cell_type": "code",
   "execution_count": null,
   "metadata": {},
   "outputs": [],
   "source": [
    "N = 2\n",
    "X = np.stack([x**i for i in range(1,N+1)]).T\n",
    "X_orig = X.copy()\n",
    "y_orig = y.copy()\n",
    "X.shape"
   ]
  },
  {
   "cell_type": "code",
   "execution_count": null,
   "metadata": {
    "deletable": false,
    "editable": false,
    "nbgrader": {
     "checksum": "e8c23cd60fdce846eec7cc7e4fbab5b7",
     "grade": false,
     "grade_id": "cell-c17f3b391351b636",
     "locked": true,
     "schema_version": 1,
     "solution": false
    }
   },
   "outputs": [],
   "source": [
    "w, b = np.ones(N), 0.1\n",
    "w"
   ]
  },
  {
   "cell_type": "code",
   "execution_count": null,
   "metadata": {},
   "outputs": [],
   "source": []
  },
  {
   "cell_type": "markdown",
   "metadata": {},
   "source": [
    "## Funkcja straty\n",
    "\n",
    "Funkcją straty będzie suma kwadratów odchyleń przewidywania modelu od rzeczywistej wartości:\n",
    "\n",
    "$$ L = \\frac{1}{2m} \\sum_{i=0}^{m-1} ( \\sum_{j=0}^{N-1} w_j x_{ij} +b - y_i)^2$$\n",
    "\n",
    "### Zadanie 1:  zaimplementuj powyższą funkcję straty"
   ]
  },
  {
   "cell_type": "code",
   "execution_count": null,
   "metadata": {
    "deletable": false,
    "nbgrader": {
     "checksum": "6d5e6243f3facb0feb36ceea120381d5",
     "grade": false,
     "grade_id": "cell-9d769269946a18db",
     "locked": false,
     "schema_version": 1,
     "solution": true
    }
   },
   "outputs": [],
   "source": [
    "L = None\n",
    "\n",
    "L = lambda w,b: 0.5/m*np.sum((np.dot(X, w)+b - y)**2)\n",
    "\n"
   ]
  },
  {
   "cell_type": "code",
   "execution_count": null,
   "metadata": {
    "deletable": false,
    "editable": false,
    "nbgrader": {
     "checksum": "929ad271e4a045d86d85c418952131bf",
     "grade": true,
     "grade_id": "cell-793e6605ffd2e7e1",
     "locked": true,
     "points": 1,
     "schema_version": 1,
     "solution": false
    }
   },
   "outputs": [],
   "source": [
    "np.testing.assert_approx_equal(L(np.array([1,2]),3),76.863,significant=3)"
   ]
  },
  {
   "cell_type": "markdown",
   "metadata": {
    "deletable": false,
    "editable": false,
    "nbgrader": {
     "checksum": "8ade1f5535dc632010785c7deb0350a1",
     "grade": false,
     "grade_id": "cell-f8bd98ef0ec8b7a4",
     "locked": true,
     "schema_version": 1,
     "solution": false
    }
   },
   "source": [
    "### Zadanie 2\n",
    "\n",
    "Zaimplementuj gradienty\n",
    "\n",
    "$$\\frac{\\partial L}{\\partial w_j} = \\frac{\\partial  \\frac{1}{2m} \\sum_{i=0}^{m-1} (w\\cdot x_i+b - y_i)^2}{\\partial w_j}  = \n",
    "\\frac{1}{m} \\sum_{i=0}^{m-1} (w \\cdot x_i+b - y_i)  x_{ij}\n",
    "$$\n",
    "\n",
    "$$\\frac{\\partial L}{\\partial b} = \\frac{\\partial  \\frac{1}{2} \\sum_{i=0}^{m-1} (w\\cdot x_i+b - y_i)^2}{\\partial b}  = \n",
    "\\frac{1}{m} \\sum_{i=0}^{m-1} (w\\cdot x_i+b - y_i)  \n",
    "$$\n",
    "\n",
    "- $w\\cdot x_i $ oznacza iloczyn skalarny wag i cech dla $i$-tego przykładu\n",
    "\n"
   ]
  },
  {
   "cell_type": "code",
   "execution_count": null,
   "metadata": {
    "deletable": false,
    "nbgrader": {
     "checksum": "403b5109b9bfe4c4055d644d2d8ed98b",
     "grade": false,
     "grade_id": "cell-efaae9a2256d0f4c",
     "locked": false,
     "schema_version": 1,
     "solution": true
    }
   },
   "outputs": [],
   "source": [
    "w, b = np.ones(N), 0.1\n",
    "\n",
    "dw = 1/m*((np.dot(X, w)+b-y).dot(X))\n",
    "db = 1/m*np.sum(np.dot(X,w)+b-y)\n",
    "dw,db"
   ]
  },
  {
   "cell_type": "code",
   "execution_count": null,
   "metadata": {
    "deletable": false,
    "editable": false,
    "nbgrader": {
     "checksum": "e14d3b9df0fc32e2eac06614dd214bbc",
     "grade": true,
     "grade_id": "cell-32a631f720536d30",
     "locked": true,
     "points": 2,
     "schema_version": 1,
     "solution": false
    }
   },
   "outputs": [],
   "source": [
    "np.testing.assert_approx_equal(db,5.5126470959062,significant=4)\n",
    "np.testing.assert_allclose(dw,np.array([-10.32784093,21.58183278]))"
   ]
  },
  {
   "cell_type": "code",
   "execution_count": null,
   "metadata": {},
   "outputs": [],
   "source": [
    "alpha = 0.1\n",
    "w, b = np.ones(N), 0.1\n",
    "\n",
    "plt.plot(X[:,0],y,'b.')\n",
    "xlin = np.linspace(-3,0,55)\n",
    "Xlin = np.stack([xlin**i for i in range(1,N+1)]).T\n",
    "l = plt.plot(xlin,np.dot(Xlin,w)+b,'r-')[0]\n",
    "ax = plt.gca()\n",
    "fig = plt.gcf()\n",
    "ax.set_ylim(-15,3)"
   ]
  },
  {
   "cell_type": "code",
   "execution_count": null,
   "metadata": {
    "deletable": false,
    "nbgrader": {
     "checksum": "188c6aef01dd6975ba8bcb6f038b0129",
     "grade": false,
     "grade_id": "cell-6ec1ed32b1a7bf1d",
     "locked": false,
     "schema_version": 1,
     "solution": true
    }
   },
   "outputs": [],
   "source": [
    "n = m # m all, n subset\n",
    "alpha = .02\n",
    "w, b = np.ones(N), 0.1\n",
    "for i in range(20000):    \n",
    "    ith = np.random.choice(m,n,replace=False)\n",
    "\n",
    "    X = X_orig[ith,:]\n",
    "    y = y_orig[ith]\n",
    "    dw,db = None,None\n",
    "# YOUR CODE HERE\n",
    "raise NotImplementedError()\n",
    "\n",
    "    w = w - alpha*dw\n",
    "    b = b - alpha*db\n",
    "    \n",
    "    if i%100==0:\n",
    "        l.set_data(xlin,np.dot(Xlin,w)+b)\n",
    "        fig.canvas.draw()\n",
    "        print(np.sum(w**2),b,L(w,b),end='\\r')\n",
    "    #sleep(0.1)"
   ]
  },
  {
   "cell_type": "markdown",
   "metadata": {},
   "source": [
    "### Rozwiązanie dokładne"
   ]
  },
  {
   "cell_type": "code",
   "execution_count": null,
   "metadata": {},
   "outputs": [],
   "source": [
    "X = X_orig[:,:]\n",
    "y = y_orig[:]\n",
    "\n",
    "A = np.stack([x**i for i in range(N+1)]).T\n",
    "A.shape,y.shape"
   ]
  },
  {
   "cell_type": "code",
   "execution_count": null,
   "metadata": {},
   "outputs": [],
   "source": [
    "sol = np.linalg.solve(A.T.dot(A),A.T.dot(y))"
   ]
  },
  {
   "cell_type": "code",
   "execution_count": null,
   "metadata": {},
   "outputs": [],
   "source": [
    "A.shape,N"
   ]
  },
  {
   "cell_type": "code",
   "execution_count": null,
   "metadata": {},
   "outputs": [],
   "source": [
    "sol,b,w"
   ]
  },
  {
   "cell_type": "code",
   "execution_count": null,
   "metadata": {},
   "outputs": [],
   "source": [
    "#plt.figure()\n",
    "plt.plot(xlin,np.stack([xlin**i for i in range(N+1)]).T.dot(sol))\n",
    "#plt.plot(x,y,'o')"
   ]
  },
  {
   "cell_type": "code",
   "execution_count": null,
   "metadata": {},
   "outputs": [],
   "source": [
    "A.T.dot(A).shape,(A.T).dot(y).shape,"
   ]
  },
  {
   "cell_type": "code",
   "execution_count": null,
   "metadata": {},
   "outputs": [],
   "source": [
    "np.dot(Xlin,w).shape,Xlin.shape,w.shape"
   ]
  },
  {
   "cell_type": "code",
   "execution_count": null,
   "metadata": {},
   "outputs": [],
   "source": []
  }
 ],
 "metadata": {
  "kernelspec": {
   "display_name": "Python 3",
   "language": "python",
   "name": "python3"
  },
  "language_info": {
   "codemirror_mode": {
    "name": "ipython",
    "version": 3
   },
   "file_extension": ".py",
   "mimetype": "text/x-python",
   "name": "python",
   "nbconvert_exporter": "python",
   "pygments_lexer": "ipython3",
   "version": "3.5.5"
  }
 },
 "nbformat": 4,
 "nbformat_minor": 2
}
