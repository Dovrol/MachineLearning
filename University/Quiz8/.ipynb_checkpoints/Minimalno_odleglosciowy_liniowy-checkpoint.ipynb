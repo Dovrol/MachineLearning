{
 "cells": [
  {
   "cell_type": "markdown",
   "metadata": {},
   "source": [
    "# Podstawy Sztucznej Inteligencji 2018/2019\n",
    "\n"
   ]
  },
  {
   "cell_type": "markdown",
   "metadata": {},
   "source": [
    "Prosze uzupelnic kod tam gdzie znajduje napis `YOUR CODE HERE` lub 'YOUR ANSWER HERE'.\n",
    "\n",
    "Warto zresetowac 'kernel' i sprawdzic czy caly notatnik uruchamiany od poczatku nie daje bledow."
   ]
  },
  {
   "cell_type": "code",
   "execution_count": null,
   "metadata": {},
   "outputs": [],
   "source": []
  },
  {
   "cell_type": "markdown",
   "metadata": {},
   "source": [
    "---"
   ]
  },
  {
   "cell_type": "markdown",
   "metadata": {
    "deletable": false,
    "editable": false,
    "nbgrader": {
     "checksum": "20bffa495958476ebc2c7b75a54a6dc7",
     "grade": false,
     "grade_id": "cell-460bf5fed768602a",
     "locked": true,
     "schema_version": 1,
     "solution": false
    }
   },
   "source": [
    "## Klasyfikator minimalno-odległościowy jako klasyfikator liniowy\n",
    "\n"
   ]
  },
  {
   "cell_type": "code",
   "execution_count": 1,
   "metadata": {},
   "outputs": [],
   "source": [
    "%matplotlib inline\n",
    "import numpy as np \n",
    "import matplotlib.pyplot as plt\n"
   ]
  },
  {
   "cell_type": "code",
   "execution_count": 2,
   "metadata": {
    "deletable": false,
    "editable": false,
    "nbgrader": {
     "checksum": "68c7ab4ad6b73fe8d09b39082150d015",
     "grade": false,
     "grade_id": "cell-510f060a73c6ee86",
     "locked": true,
     "schema_version": 1,
     "solution": false
    }
   },
   "outputs": [],
   "source": [
    "from sklearn.datasets import make_blobs\n",
    "\n",
    "blobs_data = None\n",
    "blobs_target = None\n",
    "\n",
    "train, train_labels = make_blobs(n_samples = 500, n_features=2, centers=2, random_state=1234)\n",
    "\n",
    "a = 10\n",
    "xx, yy = np.meshgrid(np.linspace(-a,a,60), np.linspace(-a,a,60))"
   ]
  },
  {
   "cell_type": "markdown",
   "metadata": {
    "deletable": false,
    "editable": false,
    "nbgrader": {
     "checksum": "c8f51f4792e34806106fab4f3ab71ed6",
     "grade": false,
     "grade_id": "cell-a293973ab920eb71",
     "locked": true,
     "schema_version": 1,
     "solution": false
    }
   },
   "source": [
    "### Zadanie 1.\n",
    "\n",
    "Oblicz środki klas."
   ]
  },
  {
   "cell_type": "code",
   "execution_count": null,
   "metadata": {
    "deletable": false,
    "nbgrader": {
     "checksum": "15946b54ce3220f5ebe13b06b8252b2f",
     "grade": false,
     "grade_id": "cell-200e13b0a0330856",
     "locked": false,
     "schema_version": 1,
     "solution": true
    }
   },
   "outputs": [],
   "source": [
    "class_means = np.array([[-3,  2],[-.19,  3]])\n",
    "# YOUR CODE HERE\n",
    "raise NotImplementedError()"
   ]
  },
  {
   "cell_type": "code",
   "execution_count": null,
   "metadata": {
    "deletable": false,
    "editable": false,
    "nbgrader": {
     "checksum": "79a754470dd9bd6f9d7a7bd76e3c0fbd",
     "grade": true,
     "grade_id": "cell-74bb022ed2153e76",
     "locked": true,
     "points": 1,
     "schema_version": 1,
     "solution": false
    }
   },
   "outputs": [],
   "source": [
    "np.testing.assert_allclose(class_means,[[-6.11,  2.40],[-1.19,  5.67]],rtol=1e-2)\n",
    "assert class_means.shape == (2, 2)"
   ]
  },
  {
   "cell_type": "markdown",
   "metadata": {},
   "source": [
    "Zweryfikujmy wizualnie wynik:"
   ]
  },
  {
   "cell_type": "code",
   "execution_count": null,
   "metadata": {},
   "outputs": [],
   "source": [
    "plt.scatter(train[:,0], train[:,1],c= np.ravel(train_labels))\n",
    "plt.plot(class_means[0,0], class_means[0,1], 'bo',markersize=10)\n",
    "plt.plot(class_means[1,0], class_means[1,1], 'ro',markersize=10)\n"
   ]
  },
  {
   "cell_type": "markdown",
   "metadata": {
    "deletable": false,
    "editable": false,
    "nbgrader": {
     "checksum": "80193a2a3eb4aeea41640f0ba5ab3548",
     "grade": false,
     "grade_id": "cell-13b496ae6fbd4e03",
     "locked": true,
     "schema_version": 1,
     "solution": false
    }
   },
   "source": [
    "Obszary decyzyjne dla klasyfikatora minimalno odległościowego, zaimplementowane z definicji:"
   ]
  },
  {
   "cell_type": "code",
   "execution_count": null,
   "metadata": {
    "deletable": false,
    "editable": false,
    "nbgrader": {
     "checksum": "db7e1169a5879ff99fb35196e7e0ad3f",
     "grade": false,
     "grade_id": "cell-3012c034ed5b31b4",
     "locked": true,
     "schema_version": 1,
     "solution": false
    }
   },
   "outputs": [],
   "source": [
    "xm,ym = class_means[:,0],  class_means[:,1]\n",
    "d = np.argmin((xx[...,np.newaxis]-xm[np.newaxis,np.newaxis,:])**2+\\\n",
    "          (yy[...,np.newaxis]-ym[np.newaxis,np.newaxis,:])**2,axis=-1)"
   ]
  },
  {
   "cell_type": "markdown",
   "metadata": {
    "deletable": false,
    "editable": false,
    "nbgrader": {
     "checksum": "3482b6f52a34de3d01f923e822ca425b",
     "grade": false,
     "grade_id": "cell-3d9d6ae218cc485b",
     "locked": true,
     "schema_version": 1,
     "solution": false
    }
   },
   "source": [
    "Wykres tych obszarów:"
   ]
  },
  {
   "cell_type": "code",
   "execution_count": null,
   "metadata": {},
   "outputs": [],
   "source": [
    "plt.imshow(d,origin='lower',extent=[-a,a,-a,a])\n",
    "plt.colorbar()\n",
    "plt.scatter(train[:,0], train[:,1],marker='.',c= -np.ravel(train_labels))\n",
    "plt.plot(class_means[0,0], class_means[0,1], 'bo',markersize=10)\n",
    "plt.plot(class_means[1,0], class_means[1,1], 'ro',markersize=10)\n",
    "\n"
   ]
  },
  {
   "cell_type": "code",
   "execution_count": null,
   "metadata": {},
   "outputs": [],
   "source": []
  },
  {
   "cell_type": "markdown",
   "metadata": {
    "deletable": false,
    "editable": false,
    "nbgrader": {
     "checksum": "037799649e6296d8e179f7ed665cc77e",
     "grade": false,
     "grade_id": "cell-34871406739b4c2f",
     "locked": true,
     "schema_version": 1,
     "solution": false
    }
   },
   "source": [
    "### Klasyfikator minimalno odległościowy jako klasyfikator liniowy\n",
    "\n",
    "$$ \\mathbf{w}\\cdot\\mathbf{x} = t$$\n",
    "\n",
    "Wektor $\\mathbf{w}$ jest równoległy do wektora $\\mathbf{cm_1} - \\mathbf{cm_0}$, gdzie $\\mathbf{cm_1}$ i $\\mathbf{cm_0}$ to środki geometryczne poszczególnych klas. \n",
    "\n",
    "Możemy przyjąć $\\mathbf{w}=\\mathbf{cm_1} - \\mathbf{cm_0}$. Pozostaje ustalić wartość stałej $t$ (bias). Jendym z wyborów będzie takie $t$ by funkcja dyscryminacyjna znikała na środku odcinka  $(\\mathbf{cm_0}, \\mathbf{cm_1})$.\n",
    "Warunek ten przyjmuje taką postać:\n",
    "\n",
    "$$ \\mathbf{w}\\cdot\\mathbf{x_{m}} - t = 0,$$\n",
    "\n",
    "gdzie $\\mathbf{x_{m}}$ to środek odcinka $(\\mathbf{cm_0}, \\mathbf{cm_1})$. \n",
    "\n",
    "\n",
    "\n",
    "\n",
    "\n",
    "\n"
   ]
  },
  {
   "cell_type": "code",
   "execution_count": null,
   "metadata": {},
   "outputs": [],
   "source": []
  },
  {
   "cell_type": "markdown",
   "metadata": {
    "deletable": false,
    "editable": false,
    "nbgrader": {
     "checksum": "905e24b230c1fb38d538a246de3c5980",
     "grade": false,
     "grade_id": "cell-cfcdf79223bd2c57",
     "locked": true,
     "schema_version": 1,
     "solution": false
    }
   },
   "source": [
    "### Zadanie 2\n",
    "\n",
    "Oblicz wagi $\\mathbf{w}$ i bias $t$ dla przykładowych danych i zweryfikuj wizualnie obszary decyzyjne\n",
    "\n",
    "Obszary te  dane są wzorem:\n",
    "\n",
    "$$ \\mathbf{w}\\cdot\\mathbf{x} - t > 0$$ \n",
    "\n",
    "( `True` to klasa 1 a `False` to klasa 0 )\n"
   ]
  },
  {
   "cell_type": "code",
   "execution_count": null,
   "metadata": {
    "deletable": false,
    "nbgrader": {
     "checksum": "4cc42391b435544e677928a2e051b606",
     "grade": false,
     "grade_id": "cell-d963e34b1cfe4e5d",
     "locked": false,
     "schema_version": 1,
     "solution": true
    }
   },
   "outputs": [],
   "source": [
    "t = 0\n",
    "w = np.array([0,1])\n",
    "d_lin = np.zeros_like(xx)\n",
    "# YOUR CODE HERE\n",
    "raise NotImplementedError()"
   ]
  },
  {
   "cell_type": "code",
   "execution_count": null,
   "metadata": {
    "deletable": false,
    "editable": false,
    "nbgrader": {
     "checksum": "c87eabb3603a7bc665be7d5f6268a93e",
     "grade": true,
     "grade_id": "cell-02881f5f81982987",
     "locked": true,
     "points": 2,
     "schema_version": 1,
     "solution": false
    }
   },
   "outputs": [],
   "source": [
    "np.testing.assert_allclose(w,[4.92, 3.261],rtol=1e-2)\n"
   ]
  },
  {
   "cell_type": "code",
   "execution_count": null,
   "metadata": {
    "deletable": false,
    "editable": false,
    "nbgrader": {
     "checksum": "fe80fffb6d42efc6e3fdd4a044dd425f",
     "grade": true,
     "grade_id": "cell-51fd83ba9e13b636",
     "locked": true,
     "points": 2,
     "schema_version": 1,
     "solution": false
    }
   },
   "outputs": [],
   "source": [
    "np.testing.assert_allclose(t,-4.80,rtol=1e-2)\n"
   ]
  },
  {
   "cell_type": "code",
   "execution_count": null,
   "metadata": {
    "deletable": false,
    "editable": false,
    "nbgrader": {
     "checksum": "d8d12299f4a106b9db08e4a42ef43f6f",
     "grade": true,
     "grade_id": "cell-43cb19ed995f4bd2",
     "locked": true,
     "points": 1,
     "schema_version": 1,
     "solution": false
    }
   },
   "outputs": [],
   "source": [
    "assert d_lin[2,3] ==  False\n",
    "assert d_lin[44,43] ==  True"
   ]
  },
  {
   "cell_type": "markdown",
   "metadata": {
    "deletable": false,
    "editable": false,
    "nbgrader": {
     "checksum": "e3f2f21618a44ac6ca04b71853a818dd",
     "grade": false,
     "grade_id": "cell-2781a0ada25ff22b",
     "locked": true,
     "schema_version": 1,
     "solution": false
    }
   },
   "source": [
    "Wykonaj wykres obszarów decyzyjnych:"
   ]
  },
  {
   "cell_type": "code",
   "execution_count": null,
   "metadata": {},
   "outputs": [],
   "source": [
    "plt.imshow(d_lin.astype(np.float), origin='lower',extent=[-a,a,-a,a])\n",
    "plt.colorbar()\n",
    "plt.scatter(train[:,0], train[:,1],marker='.',c= -np.ravel(train_labels))\n",
    "plt.plot(class_means[0,0], class_means[0,1], 'bo',markersize=10)\n",
    "plt.plot(class_means[1,0], class_means[1,1], 'ro',markersize=10)\n"
   ]
  },
  {
   "cell_type": "code",
   "execution_count": null,
   "metadata": {},
   "outputs": [],
   "source": []
  }
 ],
 "metadata": {
  "kernelspec": {
   "display_name": "Python 3",
   "language": "python",
   "name": "python3"
  },
  "language_info": {
   "codemirror_mode": {
    "name": "ipython",
    "version": 3
   },
   "file_extension": ".py",
   "mimetype": "text/x-python",
   "name": "python",
   "nbconvert_exporter": "python",
   "pygments_lexer": "ipython3",
   "version": "3.5.5"
  },
  "nbTranslate": {
   "displayLangs": [
    "en",
    "pl"
   ],
   "hotkey": "alt-t",
   "langInMainMenu": true,
   "sourceLang": "pl",
   "targetLang": "en",
   "useGoogleTranslate": true
  }
 },
 "nbformat": 4,
 "nbformat_minor": 2
}
