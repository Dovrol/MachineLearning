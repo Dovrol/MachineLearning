{
 "cells": [
  {
   "cell_type": "markdown",
   "metadata": {},
   "source": [
    "# Podstawy Sztucznej Inteligencji 2018/2019\n",
    "\n"
   ]
  },
  {
   "cell_type": "markdown",
   "metadata": {},
   "source": [
    "Prosze uzupelnic kod tam gdzie znajduje napis `YOUR CODE HERE` lub 'YOUR ANSWER HERE'.\n",
    "\n",
    "Warto zresetowac 'kernel' i sprawdzic czy caly notatnik uruchamiany od poczatku nie daje bledow."
   ]
  },
  {
   "cell_type": "code",
   "execution_count": null,
   "metadata": {},
   "outputs": [],
   "source": []
  },
  {
   "cell_type": "markdown",
   "metadata": {},
   "source": [
    "---"
   ]
  },
  {
   "cell_type": "code",
   "execution_count": 1,
   "metadata": {
    "deletable": false,
    "editable": false,
    "nbgrader": {
     "checksum": "2f88dbe82430f202639f9d3852f79507",
     "grade": false,
     "grade_id": "cell-9f26ea61fc3a09ac",
     "locked": true,
     "schema_version": 1,
     "solution": false
    }
   },
   "outputs": [],
   "source": [
    "import numpy as np"
   ]
  },
  {
   "cell_type": "markdown",
   "metadata": {
    "deletable": false,
    "editable": false,
    "nbgrader": {
     "checksum": "cf814487ea10a2dcfcdbd32e4781717f",
     "grade": false,
     "grade_id": "cell-8d08dc13fb0c1109",
     "locked": true,
     "schema_version": 1,
     "solution": false
    }
   },
   "source": [
    "#### 1. Wczytać zbiór danych iris. Podać liczbę próbek w tym zbiorze oraz ilość atrybutów opisujących każdą z nich."
   ]
  },
  {
   "cell_type": "code",
   "execution_count": 2,
   "metadata": {
    "deletable": false,
    "nbgrader": {
     "checksum": "efd56a3152d54b040068b22c94b5a8d9",
     "grade": false,
     "grade_id": "cell-887c17fbcb883607",
     "locked": false,
     "schema_version": 1,
     "solution": true
    }
   },
   "outputs": [],
   "source": [
    "from sklearn import datasets\n",
    "load_iris = datasets.load_iris\n",
    "iris_data = load_iris()\n",
    "iris_labels = load_iris().target_names\n",
    "probki = len(iris_data.data)\n",
    "atrybuty = len(iris_data.data[0])"
   ]
  },
  {
   "cell_type": "code",
   "execution_count": null,
   "metadata": {},
   "outputs": [],
   "source": []
  },
  {
   "cell_type": "code",
   "execution_count": 3,
   "metadata": {
    "deletable": false,
    "editable": false,
    "nbgrader": {
     "checksum": "fb2969b49c9e031b18ee43324bfcb3b4",
     "grade": true,
     "grade_id": "cell-77528a313521017e",
     "locked": true,
     "points": 1,
     "schema_version": 1,
     "solution": false
    }
   },
   "outputs": [],
   "source": [
    "from inspect import isfunction, getsource\n",
    "\n",
    "assert probki,atrybuty == (150,4)\n",
    "assert isfunction(load_iris)\n",
    "assert \"'setosa', 'versicolor', 'virginica'\" in (getsource(load_iris))"
   ]
  },
  {
   "cell_type": "markdown",
   "metadata": {
    "deletable": false,
    "editable": false,
    "nbgrader": {
     "checksum": "6434f179656a00f35e7af1db38d6e3f3",
     "grade": false,
     "grade_id": "cell-8ade95d1b1a1702e",
     "locked": true,
     "schema_version": 1,
     "solution": false
    }
   },
   "source": [
    "#### 2. Odczytać wartości atrybutów dla próbek o numerach 10 i 75. Obliczyć ich odległość euklidesową."
   ]
  },
  {
   "cell_type": "code",
   "execution_count": 4,
   "metadata": {
    "deletable": false,
    "nbgrader": {
     "checksum": "b14f476ea83f353f6eae45f2cc02df51",
     "grade": false,
     "grade_id": "cell-3191299a3adc9963",
     "locked": false,
     "schema_version": 1,
     "solution": true
    }
   },
   "outputs": [],
   "source": [
    "nr_10, nr_75 = iris_data.data[10], iris_data.data[75]\n",
    "oe = np.sqrt((np.sum((nr_10-nr_75)**2)))"
   ]
  },
  {
   "cell_type": "code",
   "execution_count": 5,
   "metadata": {},
   "outputs": [
    {
     "data": {
      "text/plain": [
       "3.4322004603461025"
      ]
     },
     "execution_count": 5,
     "metadata": {},
     "output_type": "execute_result"
    }
   ],
   "source": [
    "oe"
   ]
  },
  {
   "cell_type": "code",
   "execution_count": 6,
   "metadata": {
    "deletable": false,
    "editable": false,
    "nbgrader": {
     "checksum": "a8bb6d47f8e7ee4214d88934d2df32d9",
     "grade": true,
     "grade_id": "cell-9465e8644aa78308",
     "locked": true,
     "points": 2,
     "schema_version": 1,
     "solution": false
    }
   },
   "outputs": [],
   "source": [
    "np.testing.assert_almost_equal(oe,3.4322004603461025)"
   ]
  },
  {
   "cell_type": "markdown",
   "metadata": {
    "deletable": false,
    "editable": false,
    "nbgrader": {
     "checksum": "cc34ab82e100ce9c9ac492a80d994bee",
     "grade": false,
     "grade_id": "cell-351c704707fde5a9",
     "locked": true,
     "schema_version": 1,
     "solution": false
    }
   },
   "source": [
    "#### 3. Podać wartości minimalne, maksymalne, średnie i odchylenia standardowe dla każdego z atrybutów"
   ]
  },
  {
   "cell_type": "code",
   "execution_count": 7,
   "metadata": {
    "deletable": false,
    "nbgrader": {
     "checksum": "36d944446d330b897bb3fe7bd309de70",
     "grade": false,
     "grade_id": "cell-d7d0f7632cb681f2",
     "locked": false,
     "schema_version": 1,
     "solution": true
    }
   },
   "outputs": [],
   "source": [
    "l = [np.min(iris_data.data, axis = 0), \n",
    "     np.max(iris_data.data, axis = 0), \n",
    "     np.mean(iris_data.data, axis = 0), \n",
    "     np.std(iris_data.data, axis = 0)]\n",
    "l = np.array(l).T"
   ]
  },
  {
   "cell_type": "code",
   "execution_count": 10,
   "metadata": {
    "deletable": false,
    "editable": false,
    "nbgrader": {
     "checksum": "e9f16b8c4e22e3da9b49fc57e0b513f3",
     "grade": true,
     "grade_id": "cell-6cb6f479c04c0a60",
     "locked": true,
     "points": 2,
     "schema_version": 1,
     "solution": false
    }
   },
   "outputs": [],
   "source": [
    "tl  = np.array([[ 4.3 ,  7.9 ,  5.84,  0.83],\n",
    "       [ 2.  ,  4.4 ,  3.05,  0.43],\n",
    "       [ 1.  ,  6.9 ,  3.76,  1.76],\n",
    "       [ 0.1 ,  2.5 ,  1.2 ,  0.76]])\n",
    "np.testing.assert_array_almost_equal(l,tl,2)"
   ]
  },
  {
   "cell_type": "markdown",
   "metadata": {
    "deletable": false,
    "editable": false,
    "nbgrader": {
     "checksum": "285e4b3a8230e4da624c2ce8df63f16b",
     "grade": false,
     "grade_id": "cell-c48143ef2833da06",
     "locked": true,
     "schema_version": 1,
     "solution": false
    }
   },
   "source": [
    "#### 4. Dokonać wizualizacji zbioru iris w przestrzeni złożonej z dwóch pierwszych atrybutów."
   ]
  },
  {
   "cell_type": "code",
   "execution_count": 11,
   "metadata": {
    "deletable": false,
    "nbgrader": {
     "checksum": "55a138748a482cc3b8ba3de3652565c4",
     "grade": true,
     "grade_id": "cell-8d9e7f53dc733025",
     "locked": false,
     "points": 2,
     "schema_version": 1,
     "solution": true
    }
   },
   "outputs": [
    {
     "data": {
      "image/png": "[encoded data removed]",
      "text/plain": [
       "<matplotlib.figure.Figure at 0x7faa8ec01978>"
      ]
     },
     "metadata": {
      "needs_background": "light"
     },
     "output_type": "display_data"
    }
   ],
   "source": [
    "import matplotlib.pyplot as plt\n",
    "first = iris_data.data[:,0]\n",
    "second = iris_data.data[:,1]\n",
    "plt.plot(first, second, 'ro')\n",
    "plt.show()"
   ]
  },
  {
   "cell_type": "markdown",
   "metadata": {
    "deletable": false,
    "editable": false,
    "nbgrader": {
     "checksum": "99ab4584977bdadf68d37a978333b2b9",
     "grade": false,
     "grade_id": "cell-b5b83859e3a4e58b",
     "locked": true,
     "schema_version": 1,
     "solution": false
    }
   },
   "source": [
    "#### 5. Dokonać wizualizacji zbioru iris w przestrzeni złożonej z atrybutów 1 oraz 3 przy czym elementy każdej z klas zaznaczyć innym kolorem."
   ]
  },
  {
   "cell_type": "code",
   "execution_count": 12,
   "metadata": {
    "deletable": false,
    "nbgrader": {
     "checksum": "d097d01eff4ee4d09e5170ede297f000",
     "grade": true,
     "grade_id": "cell-84e10cd46253ea1f",
     "locked": false,
     "points": 1,
     "schema_version": 1,
     "solution": true
    }
   },
   "outputs": [
    {
     "data": {
      "image/png": "[encoded data removed]",
      "text/plain": [
       "<matplotlib.figure.Figure at 0x7fa9fc531be0>"
      ]
     },
     "metadata": {
      "needs_background": "light"
     },
     "output_type": "display_data"
    }
   ],
   "source": [
    "colors = ['ro','bo','go']\n",
    "y = load_iris().target\n",
    "for i in range(3):\n",
    "    classes = []\n",
    "    for l in range(0,3,2):\n",
    "        class_ = iris_data.data[y == i][:,l]\n",
    "        classes.append(class_)\n",
    "    plt.plot(classes[0],classes[1], colors[i], label = '{0}'.format(iris_labels[i]))\n",
    "    plt.legend()\n",
    "plt.xlabel('Attribiute 1')\n",
    "plt.ylabel('Attribiute 3')\n",
    "plt.show()"
   ]
  },
  {
   "cell_type": "markdown",
   "metadata": {
    "deletable": false,
    "editable": false,
    "nbgrader": {
     "checksum": "42348a45aa388c23bd83c36fbbaa9ed1",
     "grade": false,
     "grade_id": "cell-26f96122e1c87b46",
     "locked": true,
     "schema_version": 1,
     "solution": false
    }
   },
   "source": [
    "#### 6. Podać średnią wartość zmierzonych atrybutów dla próbek z klasy setosa oraz versicolor."
   ]
  },
  {
   "cell_type": "code",
   "execution_count": 13,
   "metadata": {
    "deletable": false,
    "nbgrader": {
     "checksum": "6e7a409c820d1c4541355a13f87f95cd",
     "grade": false,
     "grade_id": "cell-fe42f7e97f05dd6e",
     "locked": false,
     "schema_version": 1,
     "solution": true
    }
   },
   "outputs": [],
   "source": [
    "setosa = iris_data.data[y == 0]\n",
    "versicolor = iris_data.data[y == 1]\n",
    "mean_setosa = np.mean(setosa, axis = 0)\n",
    "mean_versicolor = np.mean(versicolor, axis = 0)"
   ]
  },
  {
   "cell_type": "code",
   "execution_count": 14,
   "metadata": {
    "deletable": false,
    "editable": false,
    "nbgrader": {
     "checksum": "1797e0f10ea02f8193c040e4de19034b",
     "grade": true,
     "grade_id": "cell-650927481674135c",
     "locked": true,
     "points": 2,
     "schema_version": 1,
     "solution": false
    }
   },
   "outputs": [],
   "source": [
    "np.testing.assert_almost_equal(np.sum(mean_setosa), 10.132)\n",
    "np.testing.assert_almost_equal(np.sum(mean_versicolor),14.292)"
   ]
  },
  {
   "cell_type": "markdown",
   "metadata": {
    "deletable": false,
    "editable": false,
    "nbgrader": {
     "checksum": "8bd7e892644bf0a30162c2e90a4627f7",
     "grade": false,
     "grade_id": "cell-917779fc4b963179",
     "locked": true,
     "schema_version": 1,
     "solution": false
    }
   },
   "source": [
    "#### 7. Dane poddać normalizacji i po dokonaniu tej operacji obliczyć ponownie wartości minimalne, maksymalne, średnie i odchylenia standardowe dla każdego z atrybutów.\n",
    "\n",
    "Formuła normalizacyjna:\n",
    "$$\\begin{split}x_i^N=\\left[\\begin{array}{lll}\n",
    "\\frac{x_{i1}-\\bar{x}_1}{s_1}, & \\ldots, & \\frac{x_{ip}-\\bar{x}_p}{s_p}\n",
    "\\end{array}\\right]\\!,\\end{split}$$\n",
    "\n",
    "gdzie:\n",
    "$$\\bar{x}_j=\\frac{1}{n}\\sum_{i=1}^nx_{ij} \\qquad s_j=\\frac{1}{n}\\sum_{i=1}^n\\sqrt{\\left(x_{ij}-\\bar{x}_j\\right)^2}.$$"
   ]
  },
  {
   "cell_type": "code",
   "execution_count": 15,
   "metadata": {
    "deletable": false,
    "nbgrader": {
     "checksum": "2c68f832bb697d49ae7d6fb5854bc09b",
     "grade": false,
     "grade_id": "cell-c49e366cbd53d32f",
     "locked": false,
     "schema_version": 1,
     "solution": true
    }
   },
   "outputs": [],
   "source": [
    "v = []\n",
    "xn = []\n",
    "for i in range(4):\n",
    "    v.append([])\n",
    "    attribute = iris_data.data[:,i]\n",
    "    attribute_mean = np.mean(iris_data.data[:,i])\n",
    "    s = np.mean(np.sqrt((attribute - attribute_mean)**2))\n",
    "    normalized = (attribute - attribute_mean) / s\n",
    "    xn.append(normalized)\n",
    "    v[i].append(np.min(normalized))\n",
    "    v[i].append(np.max(normalized))\n",
    "    v[i].append(np.mean(normalized))\n",
    "    v[i].append(np.std(normalized))\n",
    "xn = np.array(xn).T\n",
    "v = np.array(v)"
   ]
  },
  {
   "cell_type": "code",
   "execution_count": 16,
   "metadata": {
    "deletable": false,
    "editable": false,
    "nbgrader": {
     "checksum": "c9155c5a819c1f16aafe507099c8c6da",
     "grade": true,
     "grade_id": "cell-d300250235897a6c",
     "locked": true,
     "points": 3,
     "schema_version": 1,
     "solution": false
    }
   },
   "outputs": [],
   "source": [
    "ar = np.array([[-2.,  3., -0.,  1.],\n",
    "       [-3.,  4., -0.,  1.],\n",
    "       [-2.,  2., -0.,  1.],\n",
    "       [-2.,  2., -0.,  1.]])\n",
    "np.testing.assert_array_almost_equal(np.round(v), ar)\n",
    "\n",
    "\n",
    "from sklearn import preprocessing\n",
    "np.testing.assert_almost_equal(np.mean(preprocessing.scale(iris_data.data)[:,0]),np.mean(xn[:,0]))\n",
    "np.testing.assert_almost_equal(np.mean(preprocessing.scale(iris_data.data)[:,1]),np.mean(xn[:,1]))"
   ]
  },
  {
   "cell_type": "code",
   "execution_count": null,
   "metadata": {},
   "outputs": [],
   "source": []
  },
  {
   "cell_type": "code",
   "execution_count": null,
   "metadata": {},
   "outputs": [],
   "source": []
  },
  {
   "cell_type": "code",
   "execution_count": null,
   "metadata": {},
   "outputs": [],
   "source": []
  }
 ],
 "metadata": {
  "kernelspec": {
   "display_name": "Python 3",
   "language": "python",
   "name": "python3"
  },
  "language_info": {
   "codemirror_mode": {
    "name": "ipython",
    "version": 3
   },
   "file_extension": ".py",
   "mimetype": "text/x-python",
   "name": "python",
   "nbconvert_exporter": "python",
   "pygments_lexer": "ipython3",
   "version": "3.5.5"
  }
 },
 "nbformat": 4,
 "nbformat_minor": 2
}
