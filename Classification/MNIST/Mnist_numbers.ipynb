{
 "cells": [
  {
   "cell_type": "code",
   "execution_count": 1,
   "metadata": {},
   "outputs": [],
   "source": [
    "import warnings\n",
    "warnings.filterwarnings('ignore')\n",
    "import numpy as np\n",
    "import gzip\n",
    "import matplotlib\n",
    "import matplotlib.pyplot as plt\n",
    "import struct as st"
   ]
  },
  {
   "cell_type": "code",
   "execution_count": 2,
   "metadata": {},
   "outputs": [],
   "source": [
    "def fetch_mnist_data(data):\n",
    "    '''\n",
    "    Function that convert mnist gz file to numpy array.\n",
    "    Param: data: Can be: 'Train', 'Train_labels', 'Test', 'Test_labels'\n",
    "    Return: numpy array with data from file.\n",
    "    '''\n",
    "    \n",
    "    filenames = {'Train':'train-images-idx3-ubyte.gz', 'Train_labels': 'train-labels-idx1-ubyte.gz',\n",
    "                'Test': 't10k-images-idx3-ubyte.gz', 'Test_labels': 't10k-labels-idx1-ubyte.gz'}\n",
    "    \n",
    "    if data == 'Train' or data == 'Test':\n",
    "        Data = gzip.open(filenames[data])\n",
    "        Data.seek(0)\n",
    "        magic = st.unpack('>I',Data.read(4))[0] # magic number\n",
    "        quantity = st.unpack('>I',Data.read(4))[0] # number of items\n",
    "        nR = st.unpack('>I',Data.read(4))[0] # rows\n",
    "        nC = st.unpack('>I',Data.read(4))[0] # cols\n",
    "        total = quantity * nR * nC\n",
    "\n",
    "        Img_data = np.array(st.unpack(f'>{total}B', Data.read(total))).reshape((quantity, nR*nC))\n",
    "        return Img_data\n",
    "    \n",
    "    elif data == 'Train_labels' or data == 'Test_labels':\n",
    "        Data = gzip.open(filenames[data])\n",
    "        Data.seek(0)\n",
    "        magic = st.unpack('>I',Data.read(4))[0] # magic number\n",
    "        quantity = st.unpack('>I',Data.read(4))[0] # number of items\n",
    "        \n",
    "        Img_labels = np.array(st.unpack(f'>{quantity}B', Data.read(quantity)))\n",
    "        return Img_labels\n",
    "    \n",
    "    else:\n",
    "        raise ValueError(\"Wrong data\")"
   ]
  },
  {
   "cell_type": "code",
   "execution_count": 3,
   "metadata": {},
   "outputs": [],
   "source": [
    "Train = fetch_mnist_data('Train')\n",
    "Train_labels = fetch_mnist_data('Train_labels')\n",
    "Test = fetch_mnist_data('Test')\n",
    "Test_labels = fetch_mnist_data('Test_labels')\n",
    "\n",
    "#Shuffle data\n",
    "shuffle_index = np.random.permutation(60000)\n",
    "Train, Train_labels = Train[shuffle_index], Train_labels[shuffle_index]"
   ]
  },
  {
   "cell_type": "code",
   "execution_count": 4,
   "metadata": {},
   "outputs": [],
   "source": [
    "digit = Train[36000].reshape(28,28)"
   ]
  },
  {
   "cell_type": "code",
   "execution_count": 5,
   "metadata": {},
   "outputs": [
    {
     "name": "stdout",
     "output_type": "stream",
     "text": [
      "Expected value: 9\n"
     ]
    },
    {
     "data": {
      "image/png": "[encoded data removed]",
      "text/plain": [
       "<Figure size 432x288 with 1 Axes>"
      ]
     },
     "metadata": {},
     "output_type": "display_data"
    }
   ],
   "source": [
    "print(f'Expected value: {Train_labels[36000]}')\n",
    "plt.imshow(digit)\n",
    "plt.axis('off')\n",
    "plt.show()"
   ]
  },
  {
   "cell_type": "code",
   "execution_count": 6,
   "metadata": {},
   "outputs": [],
   "source": [
    "from sklearn.linear_model.stochastic_gradient import SGDClassifier"
   ]
  },
  {
   "cell_type": "code",
   "execution_count": 7,
   "metadata": {},
   "outputs": [
    {
     "data": {
      "text/plain": [
       "array([False], dtype=bool)"
      ]
     },
     "execution_count": 7,
     "metadata": {},
     "output_type": "execute_result"
    }
   ],
   "source": [
    "train_labels_digit = Train_labels == Train_labels[36000]\n",
    "sgd = SGDClassifier()\n",
    "sgd.fit(Train, train_labels_digit)\n",
    "sgd.predict([Train[36000]])"
   ]
  },
  {
   "cell_type": "code",
   "execution_count": 8,
   "metadata": {},
   "outputs": [
    {
     "data": {
      "text/plain": [
       "0.94010000000000005"
      ]
     },
     "execution_count": 8,
     "metadata": {},
     "output_type": "execute_result"
    }
   ],
   "source": [
    "z = sgd.predict(Test)\n",
    "actual = Test_labels == Train_labels[36000]\n",
    "np.sum(z == actual) / len(z)"
   ]
  },
  {
   "cell_type": "code",
   "execution_count": 9,
   "metadata": {},
   "outputs": [
    {
     "data": {
      "text/plain": [
       "array([ 0.92935,  0.9476 ,  0.9532 ])"
      ]
     },
     "execution_count": 9,
     "metadata": {},
     "output_type": "execute_result"
    }
   ],
   "source": [
    "from sklearn.model_selection import cross_val_score\n",
    "cross_val_score(sgd, Train, train_labels_digit, cv = 3, scoring = 'accuracy')"
   ]
  },
  {
   "cell_type": "code",
   "execution_count": 10,
   "metadata": {},
   "outputs": [
    {
     "data": {
      "text/plain": [
       "array([ 0.95285,  0.9451 ,  0.9479 ])"
      ]
     },
     "execution_count": 10,
     "metadata": {},
     "output_type": "execute_result"
    }
   ],
   "source": [
    "#Implementation of cross valid score\n",
    "\n",
    "from sklearn.model_selection import StratifiedKFold\n",
    "\n",
    "def Cross_valid_score(Train, train_labels_digit):\n",
    "    skfolds = StratifiedKFold(n_splits= 3)\n",
    "    scores = []\n",
    "    for train_index, test_index in skfolds.split(Train, train_labels_digit):\n",
    "        train_folds = Train[train_index]\n",
    "        train_labels_folds = train_labels_digit[train_index]\n",
    "\n",
    "        test_folds = Train[test_index]\n",
    "        test_labels_folds = train_labels_digit[test_index]\n",
    "\n",
    "        sgd.fit(train_folds, train_labels_folds)\n",
    "        predict = sgd.predict(test_folds)\n",
    "        scores.append(np.sum(predict == test_labels_folds) / len(predict))\n",
    "    return np.array(scores)\n",
    "\n",
    "Cross_valid_score(Train, train_labels_digit)"
   ]
  },
  {
   "cell_type": "code",
   "execution_count": 11,
   "metadata": {},
   "outputs": [],
   "source": [
    "from sklearn.model_selection import cross_val_predict\n",
    "\n",
    "train_predict = cross_val_predict(sgd, Train, train_labels_digit, cv = 3)"
   ]
  },
  {
   "cell_type": "code",
   "execution_count": 12,
   "metadata": {},
   "outputs": [
    {
     "data": {
      "text/plain": [
       "array([ True, False, False, ..., False, False, False], dtype=bool)"
      ]
     },
     "execution_count": 12,
     "metadata": {},
     "output_type": "execute_result"
    }
   ],
   "source": [
    "train_predict"
   ]
  },
  {
   "cell_type": "code",
   "execution_count": 13,
   "metadata": {},
   "outputs": [
    {
     "name": "stdout",
     "output_type": "stream",
     "text": [
      "Precision: 0.6603805354436774\n",
      "Recall: 0.6592704656244747\n",
      "F1 score: 0.6598250336473754\n"
     ]
    }
   ],
   "source": [
    "from sklearn.metrics import confusion_matrix\n",
    "\n",
    "conf_matrix = confusion_matrix(train_labels_digit, train_predict)\n",
    "PN = conf_matrix[0][0] # Prawdziwe negatywne\n",
    "FP = conf_matrix[0][1] # Fałszywe pozytywne\n",
    "FN = conf_matrix[1][0] # Fałszywe Negatywne\n",
    "PP = conf_matrix[1][1] # Prawdziwe Pozytywne\n",
    "\n",
    "Precision = PP / (PP + FP) # Precyzja klasyfikatora\n",
    "Recall = PP / (PP + FN) # Pełność klasyfikatora\n",
    "F1_score = 2*(Precision*Recall / (Precision + Recall))\n",
    "print(f'Precision: {Precision}')\n",
    "print(f'Recall: {Recall}')\n",
    "print(f'F1 score: {F1_score}')"
   ]
  },
  {
   "cell_type": "code",
   "execution_count": 14,
   "metadata": {},
   "outputs": [
    {
     "name": "stdout",
     "output_type": "stream",
     "text": [
      "0.660380535444\n",
      "0.659270465624\n",
      "0.659825033647\n"
     ]
    }
   ],
   "source": [
    "from sklearn.metrics import precision_score, recall_score, f1_score\n",
    "\n",
    "print(precision_score(train_labels_digit, train_predict))\n",
    "print(recall_score(train_labels_digit, train_predict))\n",
    "print(f1_score(train_labels_digit, train_predict))"
   ]
  },
  {
   "cell_type": "code",
   "execution_count": 15,
   "metadata": {},
   "outputs": [
    {
     "data": {
      "text/plain": [
       "array([ 120827.68755874, -428973.05771858, -231781.52940252, ...,\n",
       "       -330698.71477038, -148361.29020608,   62870.15870661])"
      ]
     },
     "execution_count": 15,
     "metadata": {},
     "output_type": "execute_result"
    }
   ],
   "source": [
    "y_scores = cross_val_predict(sgd, Train, train_labels_digit, cv=3, method = 'decision_function')\n",
    "y_scores"
   ]
  },
  {
   "cell_type": "code",
   "execution_count": 16,
   "metadata": {},
   "outputs": [],
   "source": [
    "from sklearn.metrics import precision_recall_curve\n",
    "\n",
    "precisions, recalls, thresholds = precision_recall_curve(train_labels_digit, y_scores)"
   ]
  },
  {
   "cell_type": "code",
   "execution_count": 17,
   "metadata": {},
   "outputs": [],
   "source": [
    "def precision_recall_threholds(precisions, recalls, threholds):\n",
    "    plt.plot(thresholds, precisions[:-1], 'r--', label = 'Precision')\n",
    "    plt.plot(thresholds, recalls[:-1], label = 'Recall')\n",
    "    plt.xlabel(\"Threshold\")\n",
    "    plt.legend(loc = 'center left')\n",
    "    plt.show()"
   ]
  },
  {
   "cell_type": "code",
   "execution_count": 18,
   "metadata": {},
   "outputs": [
    {
     "data": {
      "image/png": "[encoded data removed]",
      "text/plain": [
       "<Figure size 432x288 with 1 Axes>"
      ]
     },
     "metadata": {},
     "output_type": "display_data"
    }
   ],
   "source": [
    "precision_recall_threholds(precisions, recalls, thresholds)"
   ]
  },
  {
   "cell_type": "code",
   "execution_count": 19,
   "metadata": {},
   "outputs": [],
   "source": [
    "def precision_recall_plot(precisions, recalls):\n",
    "    plt.plot(recalls, precisions)\n",
    "    plt.ylabel('Precision')\n",
    "    plt.xlabel('Recall')\n",
    "    plt.show()"
   ]
  },
  {
   "cell_type": "code",
   "execution_count": 20,
   "metadata": {},
   "outputs": [
    {
     "data": {
      "image/png": "[encoded data removed]",
      "text/plain": [
       "<Figure size 432x288 with 1 Axes>"
      ]
     },
     "metadata": {},
     "output_type": "display_data"
    }
   ],
   "source": [
    "precision_recall_plot(precisions, recalls)"
   ]
  },
  {
   "cell_type": "code",
   "execution_count": 21,
   "metadata": {},
   "outputs": [],
   "source": [
    "#ROC plot\n",
    "from sklearn.metrics import roc_curve\n",
    "rPP, rFP, thresholds = roc_curve(train_labels_digit, y_scores)"
   ]
  },
  {
   "cell_type": "code",
   "execution_count": 22,
   "metadata": {},
   "outputs": [],
   "source": [
    "def ROC_curve(rPP, rFP):\n",
    "    plt.plot(rPP, rFP)\n",
    "    plt.xlabel(\"Prawdziwie Pozytywne\")\n",
    "    plt.ylabel(\"Fałszywie Pozytywne\")\n",
    "    plt.show()"
   ]
  },
  {
   "cell_type": "code",
   "execution_count": 23,
   "metadata": {},
   "outputs": [
    {
     "data": {
      "image/png": "[encoded data removed]",
      "text/plain": [
       "<Figure size 432x288 with 1 Axes>"
      ]
     },
     "metadata": {},
     "output_type": "display_data"
    }
   ],
   "source": [
    "ROC_curve(rPP, rFP)"
   ]
  },
  {
   "cell_type": "code",
   "execution_count": 24,
   "metadata": {},
   "outputs": [],
   "source": [
    "from sklearn.ensemble import RandomForestClassifier\n",
    "\n",
    "forest = RandomForestClassifier(random_state=42)\n",
    "probas_forest = cross_val_predict(forest, Train, train_labels_digit, cv = 3, method = 'predict_proba')"
   ]
  },
  {
   "cell_type": "code",
   "execution_count": 25,
   "metadata": {},
   "outputs": [],
   "source": [
    "frPP, frFP, thresholds = roc_curve(train_labels_digit, probas_forest[:,1])"
   ]
  },
  {
   "cell_type": "code",
   "execution_count": 26,
   "metadata": {},
   "outputs": [
    {
     "data": {
      "image/png": "[encoded data removed]",
      "text/plain": [
       "<Figure size 432x288 with 1 Axes>"
      ]
     },
     "metadata": {},
     "output_type": "display_data"
    }
   ],
   "source": [
    "plt.plot(rPP, rFP)\n",
    "plt.plot(frPP, frFP)\n",
    "plt.xlabel(\"Prawdziwie Pozytywne\")\n",
    "plt.ylabel(\"Fałszywie Pozytywne\")\n",
    "plt.show()"
   ]
  },
  {
   "cell_type": "code",
   "execution_count": 27,
   "metadata": {},
   "outputs": [
    {
     "data": {
      "text/plain": [
       "SGDClassifier(alpha=0.0001, average=False, class_weight=None, epsilon=0.1,\n",
       "       eta0=0.0, fit_intercept=True, l1_ratio=0.15,\n",
       "       learning_rate='optimal', loss='hinge', max_iter=None, n_iter=None,\n",
       "       n_jobs=1, penalty='l2', power_t=0.5, random_state=None,\n",
       "       shuffle=True, tol=None, verbose=0, warm_start=False)"
      ]
     },
     "execution_count": 27,
     "metadata": {},
     "output_type": "execute_result"
    }
   ],
   "source": [
    "sgd.fit(Train, Train_labels)"
   ]
  },
  {
   "cell_type": "code",
   "execution_count": 28,
   "metadata": {},
   "outputs": [
    {
     "data": {
      "text/plain": [
       "array([9])"
      ]
     },
     "execution_count": 28,
     "metadata": {},
     "output_type": "execute_result"
    }
   ],
   "source": [
    "sgd.predict([Train[36000]])"
   ]
  },
  {
   "cell_type": "code",
   "execution_count": 29,
   "metadata": {},
   "outputs": [],
   "source": [
    "some_digits_score = sgd.decision_function([Train[36000]])"
   ]
  },
  {
   "cell_type": "code",
   "execution_count": 30,
   "metadata": {},
   "outputs": [
    {
     "data": {
      "text/plain": [
       "array([[-846075.29738971, -590686.91368807, -487941.05072658,\n",
       "        -651660.71678664, -245204.75674866, -473707.91958788,\n",
       "        -421317.04697892, -107898.77277594, -157598.24001032,\n",
       "           6592.44959611]])"
      ]
     },
     "execution_count": 30,
     "metadata": {},
     "output_type": "execute_result"
    }
   ],
   "source": [
    "some_digits_score"
   ]
  },
  {
   "cell_type": "code",
   "execution_count": 36,
   "metadata": {},
   "outputs": [
    {
     "data": {
      "text/plain": [
       "array([0, 1, 2, 3, 4, 5, 6, 7, 8, 9])"
      ]
     },
     "execution_count": 36,
     "metadata": {},
     "output_type": "execute_result"
    }
   ],
   "source": [
    "sgd.classes_"
   ]
  },
  {
   "cell_type": "code",
   "execution_count": null,
   "metadata": {},
   "outputs": [],
   "source": []
  }
 ],
 "metadata": {
  "kernelspec": {
   "display_name": "Python 3",
   "language": "python",
   "name": "python3"
  },
  "language_info": {
   "codemirror_mode": {
    "name": "ipython",
    "version": 3
   },
   "file_extension": ".py",
   "mimetype": "text/x-python",
   "name": "python",
   "nbconvert_exporter": "python",
   "pygments_lexer": "ipython3",
   "version": "3.6.3"
  }
 },
 "nbformat": 4,
 "nbformat_minor": 2
}
