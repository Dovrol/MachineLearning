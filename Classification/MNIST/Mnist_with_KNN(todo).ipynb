{
 "cells": [
  {
   "cell_type": "code",
   "execution_count": 1,
   "metadata": {},
   "outputs": [],
   "source": [
    "import warnings\n",
    "warnings.filterwarnings('ignore')\n",
    "import numpy as np\n",
    "import gzip\n",
    "import matplotlib\n",
    "import matplotlib.pyplot as plt\n",
    "import struct as st\n",
    "import random\n",
    "\n",
    "def fetch_mnist_data(data):\n",
    "    '''\n",
    "    Function that convert mnist gz file to numpy array.\n",
    "    Param: data: Can be: 'Train', 'Train_labels', 'Test', 'Test_labels'\n",
    "    Return: numpy array with data from file.\n",
    "    '''\n",
    "    \n",
    "    filenames = {'Train':'train-images-idx3-ubyte.gz', 'Train_labels': 'train-labels-idx1-ubyte.gz',\n",
    "                'Test': 't10k-images-idx3-ubyte.gz', 'Test_labels': 't10k-labels-idx1-ubyte.gz'}\n",
    "    \n",
    "    if data == 'Train' or data == 'Test':\n",
    "        Data = gzip.open(filenames[data])\n",
    "        Data.seek(0)\n",
    "        magic = st.unpack('>I',Data.read(4))[0] # magic number\n",
    "        quantity = st.unpack('>I',Data.read(4))[0] # number of items\n",
    "        nR = st.unpack('>I',Data.read(4))[0] # rows\n",
    "        nC = st.unpack('>I',Data.read(4))[0] # cols\n",
    "        total = quantity * nR * nC\n",
    "\n",
    "        Img_data = np.array(st.unpack(f'>{total}B', Data.read(total))).reshape((quantity, nR*nC))\n",
    "        return Img_data\n",
    "    \n",
    "    elif data == 'Train_labels' or data == 'Test_labels':\n",
    "        Data = gzip.open(filenames[data])\n",
    "        Data.seek(0)\n",
    "        magic = st.unpack('>I',Data.read(4))[0] # magic number\n",
    "        quantity = st.unpack('>I',Data.read(4))[0] # number of items\n",
    "        \n",
    "        Img_labels = np.array(st.unpack(f'>{quantity}B', Data.read(quantity)))\n",
    "        return Img_labels\n",
    "    \n",
    "    else:\n",
    "        raise ValueError(\"Wrong data\")"
   ]
  },
  {
   "cell_type": "code",
   "execution_count": 2,
   "metadata": {},
   "outputs": [],
   "source": [
    "Train = fetch_mnist_data('Train')\n",
    "Train_labels = fetch_mnist_data('Train_labels')\n",
    "Test = fetch_mnist_data('Test')\n",
    "Test_labels = fetch_mnist_data('Test_labels')\n",
    "\n",
    "#Shuffle data\n",
    "shuffle_index = np.random.permutation(60000)\n",
    "Train, Train_labels = Train[shuffle_index], Train_labels[shuffle_index]"
   ]
  },
  {
   "cell_type": "code",
   "execution_count": 3,
   "metadata": {},
   "outputs": [],
   "source": [
    "from sklearn.metrics import pairwise_distances\n",
    "\n",
    "class knn_classyfier():\n",
    "    def __init__(self, n_neighbors):\n",
    "        self.n_neighbors = n_neighbors\n",
    "        \n",
    "    def fit(self, train, train_target):\n",
    "        self.train = train\n",
    "        self.train_target = train_target\n",
    "        \n",
    "    def distances(self, test_data):\n",
    "        return pairwise_distances(test_data, self.train)\n",
    "    \n",
    "    def classify(self, data):\n",
    "        distance = self.distances(data)\n",
    "        classes = []\n",
    "        for i in range(len(distance)):\n",
    "            classes.append([])\n",
    "            sorted_distances = sorted(distance[i])\n",
    "            for k in range(1, self.n_neighbors+1):\n",
    "                classes[i].append(self.train_target[np.where(sorted_distances[k] == distance[i])[0][0]])\n",
    "        print(classes)\n",
    "        return classes\n",
    "    \n",
    "    def predict(self, data):\n",
    "        classes = self.classify(data)\n",
    "        class_ = []\n",
    "        for i in range(len(classes)):\n",
    "            counts = np.bincount(classes[i])\n",
    "            class_.append(np.argmax(counts))\n",
    "        return np.array(class_)\n",
    "    \n",
    "    def score(self, test, labels):\n",
    "        Z = self.predict(test)\n",
    "        score = np.sum(Z == labels) / len(Z)\n",
    "        return score\n",
    "        "
   ]
  },
  {
   "cell_type": "code",
   "execution_count": 4,
   "metadata": {},
   "outputs": [],
   "source": [
    "# knn_clf = knn_classyfier(3)\n",
    "# knn_clf.fit(Train, Train_labels)\n",
    "# number = random.randint(0,1000)\n",
    "# knn_clf.score(Train, Train_labels)\n",
    "# print(Train_labels[number])\n"
   ]
  },
  {
   "cell_type": "code",
   "execution_count": 5,
   "metadata": {},
   "outputs": [
    {
     "data": {
      "text/plain": [
       "0.0"
      ]
     },
     "execution_count": 5,
     "metadata": {},
     "output_type": "execute_result"
    }
   ],
   "source": [
    "np.min(pairwise_distances([Train[300]], Train))"
   ]
  },
  {
   "cell_type": "code",
   "execution_count": 6,
   "metadata": {},
   "outputs": [],
   "source": [
    "from sklearn.neighbors import KNeighborsClassifier"
   ]
  },
  {
   "cell_type": "code",
   "execution_count": null,
   "metadata": {},
   "outputs": [],
   "source": [
    "knn = KNeighborsClassifier()\n",
    "knn.fit(Train, Train_labels)\n",
    "knn.score(Train, Train_labels)"
   ]
  },
  {
   "cell_type": "code",
   "execution_count": null,
   "metadata": {},
   "outputs": [],
   "source": []
  }
 ],
 "metadata": {
  "kernelspec": {
   "display_name": "Python 3",
   "language": "python",
   "name": "python3"
  },
  "language_info": {
   "codemirror_mode": {
    "name": "ipython",
    "version": 3
   },
   "file_extension": ".py",
   "mimetype": "text/x-python",
   "name": "python",
   "nbconvert_exporter": "python",
   "pygments_lexer": "ipython3",
   "version": "3.6.3"
  }
 },
 "nbformat": 4,
 "nbformat_minor": 2
}
