{
 "cells": [
  {
   "cell_type": "code",
   "execution_count": 1,
   "metadata": {},
   "outputs": [],
   "source": [
    "import numpy as np\n",
    "import matplotlib.pyplot as plt\n",
    "import sympy"
   ]
  },
  {
   "cell_type": "code",
   "execution_count": 2,
   "metadata": {},
   "outputs": [],
   "source": [
    "#Data\n",
    "# tips = np.array([1.4, 1.9, 3.2])\n",
    "# meal_cost = np.array([0.5, 2.3, 2.9])\n",
    "tips = np.array([5,17,11,8,14,5])\n",
    "meal_cost = np.array([34,108,64,88,99,51])"
   ]
  },
  {
   "cell_type": "code",
   "execution_count": 3,
   "metadata": {},
   "outputs": [],
   "source": [
    "#Fitting line\n",
    "def line(a, b):\n",
    "    '''\n",
    "    Function that calculate y - values for x-axis depends on a and b param.\n",
    "    y = ax + b\n",
    "    '''\n",
    "    loss_function = lambda x: a*x + b\n",
    "    fitting_line = [loss_function(i) for i in meal_cost]\n",
    "    return fitting_line\n",
    "\n",
    "fitting_line = line(0.1, 0)"
   ]
  },
  {
   "cell_type": "code",
   "execution_count": 4,
   "metadata": {},
   "outputs": [
    {
     "data": {
      "image/png": "[encoded data removed]",
      "text/plain": [
       "<Figure size 432x288 with 1 Axes>"
      ]
     },
     "metadata": {},
     "output_type": "display_data"
    }
   ],
   "source": [
    "plt.scatter(meal_cost, tips)\n",
    "plt.plot(meal_cost, fitting_line, 'r')\n",
    "plt.show()"
   ]
  },
  {
   "cell_type": "markdown",
   "metadata": {},
   "source": [
    "Plot for random values a = 0.1 and b = 0"
   ]
  },
  {
   "cell_type": "code",
   "execution_count": 5,
   "metadata": {},
   "outputs": [],
   "source": [
    "def ssr(actual, predicted):# Sum of the squered residuals\n",
    "    ssr_ = 0\n",
    "    for i in range(len(actual)):\n",
    "        ssr_ += (actual[i] - predicted[i]) ** 2\n",
    "    return ssr_"
   ]
  },
  {
   "cell_type": "code",
   "execution_count": 6,
   "metadata": {},
   "outputs": [
    {
     "data": {
      "text/plain": [
       "79.61999999999999"
      ]
     },
     "execution_count": 6,
     "metadata": {},
     "output_type": "execute_result"
    }
   ],
   "source": [
    "ssr(tips, fitting_line)"
   ]
  },
  {
   "cell_type": "markdown",
   "metadata": {},
   "source": [
    "SSE for this values is: 79"
   ]
  },
  {
   "cell_type": "code",
   "execution_count": 7,
   "metadata": {},
   "outputs": [],
   "source": [
    "def ssr_to_intercept(a, b, step):\n",
    "    '''\n",
    "    Function that show how ssr changes in depend on intercept.\n",
    "    Param: a: slope.\n",
    "    Param: b: intercept.\n",
    "    Param step: next step.\n",
    "    return plot x-axis - intercept, y-axis - ssr\n",
    "    '''\n",
    "    loss_function = lambda x: a*x + b\n",
    "    ssr_table = []\n",
    "    b_table = []\n",
    "    for i in range(50):\n",
    "        b_table.append(b)\n",
    "        fitting_line = [loss_function(i) for i in meal_cost]\n",
    "        ssr_table.append(ssr(tips, fitting_line))\n",
    "        b += step\n",
    "    print(f'Best intercept value: {b_table[ssr_table.index(min(ssr_table))]}')\n",
    "    return plt.plot(b_table, ssr_table)"
   ]
  },
  {
   "cell_type": "code",
   "execution_count": 8,
   "metadata": {},
   "outputs": [
    {
     "name": "stdout",
     "output_type": "stream",
     "text": [
      "Best intercept value: 2.64\n"
     ]
    },
    {
     "data": {
      "text/plain": [
       "[<matplotlib.lines.Line2D at 0x7fe7e2b78518>]"
      ]
     },
     "execution_count": 8,
     "metadata": {},
     "output_type": "execute_result"
    },
    {
     "data": {
      "image/png": "[encoded data removed]",
      "text/plain": [
       "<Figure size 432x288 with 1 Axes>"
      ]
     },
     "metadata": {},
     "output_type": "display_data"
    }
   ],
   "source": [
    "ssr_to_intercept(0.1, 0, 0.11)"
   ]
  },
  {
   "cell_type": "code",
   "execution_count": 9,
   "metadata": {},
   "outputs": [
    {
     "data": {
      "text/plain": [
       "(0.13652063740851753, -0.010663213729232981)"
      ]
     },
     "execution_count": 9,
     "metadata": {},
     "output_type": "execute_result"
    }
   ],
   "source": [
    "def Gradient_descent(a, b, lr):\n",
    "    '''\n",
    "    Function that calcuate best values of slope and intercept for best fitting line (linear regression).\n",
    "    '''\n",
    "    for i in range(1000):\n",
    "        db = np.sum(-2*(tips - line(a, b)))\n",
    "        da = np.sum(-2*meal_cost * (tips - line(a, b)))\n",
    "        step_size_db = db * lr\n",
    "        step_size_da = da * lr\n",
    "        if abs(step_size_db) < lr*0.01 or abs(step_size_da) < lr * 0.01:\n",
    "            break\n",
    "        b = b - step_size_db\n",
    "        a = a - step_size_da\n",
    "    return a, b\n",
    "\n",
    "Gradient_descent(0.1, 0, 0.00001)"
   ]
  },
  {
   "cell_type": "code",
   "execution_count": 10,
   "metadata": {},
   "outputs": [
    {
     "data": {
      "image/png": "[encoded data removed]",
      "text/plain": [
       "<Figure size 432x288 with 1 Axes>"
      ]
     },
     "metadata": {},
     "output_type": "display_data"
    }
   ],
   "source": [
    "a, b = Gradient_descent(0.1, 0, 0.00001)\n",
    "fitting_line = line(a, b)\n",
    "\n",
    " \n",
    "plt.scatter(meal_cost, tips)\n",
    "plt.plot(meal_cost, fitting_line, 'r')\n",
    "plt.show()"
   ]
  },
  {
   "cell_type": "code",
   "execution_count": 127,
   "metadata": {},
   "outputs": [
    {
     "data": {
      "text/plain": [
       "30.521191852370684"
      ]
     },
     "execution_count": 127,
     "metadata": {},
     "output_type": "execute_result"
    }
   ],
   "source": [
    "ssr(tips, fitting_line)"
   ]
  },
  {
   "cell_type": "markdown",
   "metadata": {},
   "source": [
    "SSE after Calculating slope and intercept with gradient descent"
   ]
  },
  {
   "cell_type": "code",
   "execution_count": null,
   "metadata": {},
   "outputs": [],
   "source": []
  }
 ],
 "metadata": {
  "kernelspec": {
   "display_name": "Python 3",
   "language": "python",
   "name": "python3"
  },
  "language_info": {
   "codemirror_mode": {
    "name": "ipython",
    "version": 3
   },
   "file_extension": ".py",
   "mimetype": "text/x-python",
   "name": "python",
   "nbconvert_exporter": "python",
   "pygments_lexer": "ipython3",
   "version": "3.6.3"
  }
 },
 "nbformat": 4,
 "nbformat_minor": 2
}
