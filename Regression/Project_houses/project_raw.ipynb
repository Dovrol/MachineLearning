{
 "cells": [
  {
   "cell_type": "code",
   "execution_count": 2,
   "metadata": {},
   "outputs": [],
   "source": [
    "import numpy as np\n",
    "import pandas as pd\n",
    "import matplotlib as plt"
   ]
  },
  {
   "cell_type": "code",
   "execution_count": 3,
   "metadata": {},
   "outputs": [],
   "source": [
    "import os, urllib\n",
    "import tarfile\n",
    "download_root = 'https://raw.githubusercontent.com/ageron/handson-ml/master/'\n",
    "housing_path = os.path.join('zestwy danych', 'mieszkania')\n",
    "housing_url = download_root + 'datasets/housing/housing.tgz'"
   ]
  },
  {
   "cell_type": "code",
   "execution_count": 4,
   "metadata": {},
   "outputs": [],
   "source": [
    "def fetch_housing_data(url = housing_url, path = housing_path):\n",
    "    if not os.path.isdir(path):\n",
    "        os.makedirs(path)\n",
    "    tgzpath = os.path.join(path, 'housing.tgz')\n",
    "    urllib.request.urlretrieve(url, tgzpath)\n",
    "    housing_tgz = tarfile.open(tgzpath)\n",
    "    housing_tgz.extractall(path = path)\n",
    "    housing_tgz.close()\n",
    "\n",
    "fetch_housing_data()"
   ]
  },
  {
   "cell_type": "code",
   "execution_count": 5,
   "metadata": {},
   "outputs": [
    {
     "name": "stdout",
     "output_type": "stream",
     "text": [
      "20640\n"
     ]
    }
   ],
   "source": [
    "#Loading data\n",
    "def load_housing_data(path = housing_path):\n",
    "    csv_path = os.path.join(path, 'housing.csv')\n",
    "    return pd.read_csv(csv_path)\n",
    "\n",
    "houses = load_housing_data()\n",
    "print(len(houses))"
   ]
  },
  {
   "cell_type": "code",
   "execution_count": 6,
   "metadata": {},
   "outputs": [],
   "source": [
    "#Split median income into 5 categories.\n",
    "houses['income_cat'] = np.ceil(houses['median_income'] / 1.5)\n",
    "houses['income_cat'].where(houses['income_cat'] < 5, 5.0, inplace = True)"
   ]
  },
  {
   "cell_type": "code",
   "execution_count": 7,
   "metadata": {},
   "outputs": [],
   "source": [
    "from sklearn.model_selection import StratifiedShuffleSplit\n",
    "split = StratifiedShuffleSplit(n_splits=1, test_size=0.2, random_state=42)\n",
    "\n",
    "#Spliting test and train data based on added column income_cat\n",
    "for train_index, test_index in split.split(houses, houses['income_cat']):\n",
    "    strat_train_set = houses.loc[train_index]\n",
    "    strat_test_set = houses.loc[test_index]\n",
    "    \n",
    "for set_ in (strat_train_set, strat_test_set):\n",
    "    set_.drop(\"income_cat\", axis = 1, inplace = True)"
   ]
  },
  {
   "cell_type": "code",
   "execution_count": 8,
   "metadata": {},
   "outputs": [],
   "source": [
    "housing = strat_train_set.drop('median_house_value', axis = 1)\n",
    "housing_labels = strat_train_set['median_house_value'].copy()"
   ]
  },
  {
   "cell_type": "code",
   "execution_count": 9,
   "metadata": {},
   "outputs": [],
   "source": [
    "from sklearn.preprocessing import LabelBinarizer\n",
    "encoder = LabelBinarizer()\n",
    "houses_cat = housing['ocean_proximity']\n",
    "ocean_encoded = encoder.fit_transform(houses_cat)"
   ]
  },
  {
   "cell_type": "code",
   "execution_count": 10,
   "metadata": {},
   "outputs": [],
   "source": [
    "#Creating cumstom transforming functin\n",
    "from sklearn.base import BaseEstimator, TransformerMixin\n",
    "class CombinedAttributesAdder(BaseEstimator, TransformerMixin):\n",
    "    def __init__(self, add_bedrooms_per_room = True):\n",
    "        self.add_bedrooms_per_room = add_bedrooms_per_room    \n",
    "        \n",
    "    def fit(self, X, y = None):\n",
    "        return self\n",
    "    \n",
    "    def transform(self, X, y = None):\n",
    "        rooms_per_family = X[:, 3] / X[:, 6]\n",
    "        population_per_family = X[:, 5] / X[:, 6]\n",
    "        if self.add_bedrooms_per_room:\n",
    "            bedrooms_per_room = X[:, 4] / X[:, 3]\n",
    "            return np.c_[X, rooms_per_family, population_per_family, bedrooms_per_room]\n",
    "        else:\n",
    "            return np.c_[X, rooms_per_family, population_per_family]\n",
    "        \n",
    "class DataFrameSelector(BaseEstimator, TransformerMixin):\n",
    "    def __init__(self, attribute_names):\n",
    "        self.attribute_names = attribute_names\n",
    "    def fit(self, X, y = None):\n",
    "        return self\n",
    "    def transform(self, X, y= None):\n",
    "        return X[self.attribute_names].values\n",
    "    \n",
    "class CategoricalEncoder(BaseEstimator, TransformerMixin):        \n",
    "    def fit(self, X, y =None):\n",
    "        return self\n",
    "    \n",
    "    def transform(self, X, y = None):\n",
    "        encoder = LabelBinarizer()\n",
    "        encoded = encoder.fit_transform(X)\n",
    "        if len(encoded[0]) != 5:\n",
    "            zeros = [[0]]*len(encoded)\n",
    "            for i in range(5 - len(encoded[0])):\n",
    "                encoded = np.append(encoded, zeros, axis = 1)\n",
    "        return encoded"
   ]
  },
  {
   "cell_type": "code",
   "execution_count": 11,
   "metadata": {},
   "outputs": [],
   "source": [
    "from sklearn.pipeline import Pipeline\n",
    "from sklearn.preprocessing import StandardScaler\n",
    "from sklearn.preprocessing import Imputer\n",
    "from sklearn.pipeline import FeatureUnion\n",
    "\n",
    "houses_num = housing.drop('ocean_proximity', axis = 1)\n",
    "num_attibs = list(houses_num)\n",
    "cat_attibs = ['ocean_proximity']\n",
    "\n",
    "num_Pipeline = Pipeline([\n",
    "    ('selector', DataFrameSelector(num_attibs)),\n",
    "    ('imputer', Imputer(strategy = 'median')),\n",
    "    ('attrribs_adder', CombinedAttributesAdder()),\n",
    "    ('std_scaler', StandardScaler())\n",
    "])\n",
    "\n",
    "cat_Pipeline = Pipeline([\n",
    "    ('selector', DataFrameSelector(cat_attibs)),\n",
    "    ('cat_pipeline', CategoricalEncoder()),\n",
    "])\n",
    "\n",
    "full_pipeline = FeatureUnion(transformer_list = [\n",
    "    ('num_pipeline', num_Pipeline),\n",
    "    ('cat_pipeline', cat_Pipeline),\n",
    "])"
   ]
  },
  {
   "cell_type": "code",
   "execution_count": 12,
   "metadata": {},
   "outputs": [
    {
     "name": "stdout",
     "output_type": "stream",
     "text": [
      "Predicted data: [ 215615.06923226  346732.1858831   353727.53040633   62616.76604913\n",
      "  206972.49365904]\n",
      "Actual data: [286600.0, 340600.0, 196900.0, 46300.0, 254500.0]\n",
      "Root squered mean error: 68628.19819848922\n"
     ]
    }
   ],
   "source": [
    "#Learning Model using Linear Regression\n",
    "\n",
    "from sklearn.linear_model import LinearRegression\n",
    "housing_prepered = full_pipeline.fit_transform(housing)\n",
    "lin_reg = LinearRegression()\n",
    "lin_reg.fit(housing_prepered, housing_labels)\n",
    "\n",
    "\n",
    "some_data = housing[:5]\n",
    "some_labels = housing_labels.iloc[:5]\n",
    "some_data_prepered = full_pipeline.fit_transform(some_data)\n",
    "\n",
    "print(f'Predicted data: {lin_reg.predict(some_data_prepered)}')\n",
    "print(f'Actual data: {list(some_labels)}')\n",
    "\n",
    "#Checking root mean squered error \n",
    "\n",
    "from sklearn.metrics import mean_squared_error\n",
    "housing_predictions = lin_reg.predict(housing_prepered)\n",
    "lin_mse = mean_squared_error(housing_labels, housing_predictions)\n",
    "lin_rmse = np.sqrt(lin_mse)\n",
    "print(f'Root squered mean error: {lin_rmse}')"
   ]
  },
  {
   "cell_type": "code",
   "execution_count": 13,
   "metadata": {},
   "outputs": [
    {
     "name": "stdout",
     "output_type": "stream",
     "text": [
      "Root squered mean error: 0.0 (Overfitting!!)\n"
     ]
    }
   ],
   "source": [
    "#Learning Model using DecissionTreeRegression\n",
    "\n",
    "from sklearn.tree import DecisionTreeRegressor\n",
    "tree_reg = DecisionTreeRegressor()\n",
    "tree_reg.fit(housing_prepered, housing_labels)\n",
    "\n",
    "housing_predictions = tree_reg.predict(housing_prepered)\n",
    "tree_mse = mean_squared_error(housing_labels, housing_predictions)\n",
    "tree_rmse = np.sqrt(tree_mse)\n",
    "print(f'Root squered mean error: {tree_rmse} (Overfitting!!)')"
   ]
  },
  {
   "cell_type": "code",
   "execution_count": 16,
   "metadata": {},
   "outputs": [
    {
     "name": "stdout",
     "output_type": "stream",
     "text": [
      "Wyniki:  [ 70981.31040062  68208.31470103  71737.82020923  69075.25666533\n",
      "  71580.32965997  75340.79652727  69516.25682158  71480.72185148\n",
      "  77286.75549282  70990.98924519]\n",
      "Średnia:  71619.8551575\n",
      "Odchylenie standardowe:  2633.1716172\n"
     ]
    }
   ],
   "source": [
    "# Cross Validation tests for DecissionTreeRegression\n",
    "\n",
    "from sklearn.model_selection import cross_val_score\n",
    "scores = cross_val_score(tree_reg, housing_prepered, housing_labels, scoring = 'neg_mean_squared_error', cv = 10)\n",
    "tree_rmse_scores = np.sqrt(-scores)\n",
    "\n",
    "def display_scores(scores):\n",
    "    print('Wyniki: ', scores)\n",
    "    print('Średnia: ', scores.mean())\n",
    "    print('Odchylenie standardowe: ', scores.std())\n",
    "    \n",
    "display_scores(tree_rmse_scores)"
   ]
  },
  {
   "cell_type": "code",
   "execution_count": 17,
   "metadata": {},
   "outputs": [
    {
     "name": "stdout",
     "output_type": "stream",
     "text": [
      "Wyniki:  [ 66782.73843989  66960.118071    70347.95244419  74739.57052552\n",
      "  68031.13388938  71193.84183426  64969.63056405  68281.61137997\n",
      "  71552.91566558  67665.10082067]\n",
      "Średnia:  69052.4613635\n",
      "Odchylenie standardowe:  2731.6740018\n"
     ]
    }
   ],
   "source": [
    "# Cross Validation tests for linear regression\n",
    "\n",
    "from sklearn.model_selection import cross_val_score\n",
    "scores = cross_val_score(lin_reg, housing_prepered, housing_labels, scoring = 'neg_mean_squared_error', cv = 10)\n",
    "tree_rmse_scores = np.sqrt(-scores)\n",
    "\n",
    "def display_scores(scores):\n",
    "    print('Wyniki: ', scores)\n",
    "    print('Średnia: ', scores.mean())\n",
    "    print('Odchylenie standardowe: ', scores.std())\n",
    "    \n",
    "display_scores(tree_rmse_scores)\n"
   ]
  },
  {
   "cell_type": "code",
   "execution_count": null,
   "metadata": {},
   "outputs": [],
   "source": []
  }
 ],
 "metadata": {
  "kernelspec": {
   "display_name": "Python 3",
   "language": "python",
   "name": "python3"
  },
  "language_info": {
   "codemirror_mode": {
    "name": "ipython",
    "version": 3
   },
   "file_extension": ".py",
   "mimetype": "text/x-python",
   "name": "python",
   "nbconvert_exporter": "python",
   "pygments_lexer": "ipython3",
   "version": "3.6.3"
  }
 },
 "nbformat": 4,
 "nbformat_minor": 2
}
