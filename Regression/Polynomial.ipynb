{
 "cells": [
  {
   "cell_type": "code",
   "execution_count": 50,
   "metadata": {},
   "outputs": [],
   "source": [
    "import numpy as np\n",
    "import matplotlib.pyplot as plt\n",
    "m = 100\n",
    "X = np.random.randn(m, 1)\n",
    "y = 0.5* X**2 + X + 2 + np.random.randn(m, 1)"
   ]
  },
  {
   "cell_type": "code",
   "execution_count": null,
   "metadata": {},
   "outputs": [],
   "source": []
  },
  {
   "cell_type": "code",
   "execution_count": 51,
   "metadata": {},
   "outputs": [
    {
     "data": {
      "text/plain": [
       "[<matplotlib.lines.Line2D at 0x7fa7db62bd68>]"
      ]
     },
     "execution_count": 51,
     "metadata": {},
     "output_type": "execute_result"
    },
    {
     "data": {
      "image/png": "[encoded data removed]",
      "text/plain": [
       "<Figure size 432x288 with 1 Axes>"
      ]
     },
     "metadata": {},
     "output_type": "display_data"
    }
   ],
   "source": [
    "plt.plot(X, y, 'b.')"
   ]
  },
  {
   "cell_type": "code",
   "execution_count": 61,
   "metadata": {},
   "outputs": [
    {
     "name": "stdout",
     "output_type": "stream",
     "text": [
      "[[ 1.22196804]\n",
      " [ 0.49214771]\n",
      " [ 0.79999585]]\n"
     ]
    }
   ],
   "source": [
    "class Poly_reg():\n",
    "    '''\n",
    "    Class that finding vector a in equation:\n",
    "    an*x**n + an*x**n-1 + ...+ a2*x**2 + a1*x**1 + a0\n",
    "    '''\n",
    "    def __init__(self, N = 2, lr = 0.1, alpha = 1, include_bias = True, max_iter = 1000):\n",
    "        '''\n",
    "        X - Data\n",
    "        N - Poly degree\n",
    "        lr - Learning Rate\n",
    "        include_bias - fit bias or not.\n",
    "        '''\n",
    "        self.N = N\n",
    "        self.lr = lr\n",
    "        self.alpha = alpha\n",
    "        self.max_iter = max_iter\n",
    "        self.include_bias = include_bias\n",
    "        self.A = np.identity(N+1)\n",
    "            \n",
    "    def add_poly_features(self, X):\n",
    "        if self.include_bias:\n",
    "            X = np.hstack((np.ones((len(X), 1)), X))\n",
    "            \n",
    "        for i in range(2, self.N+1):\n",
    "            degree = (X[:,1]**i).reshape(len(X), 1)\n",
    "            X = np.hstack(( X ,degree))\n",
    "        return X\n",
    "    \n",
    "    def fit(self, X, y):\n",
    "        self.X_B = self.add_poly_features(X)\n",
    "        self.theta = np.random.uniform(-1,1, (self.N+1, 1))\n",
    "        self.m = len(X)\n",
    "        \n",
    "#         Calculating Gradients once every step\n",
    "\n",
    "#         for i in range(self.max_iter):\n",
    "#             gradients = 2/self.m * self.X_B.T.dot(self.X_B.dot(self.theta) - y)\n",
    "#             self.theta -= self.lr * gradients\n",
    "\n",
    "#         CLOSED FORM SOLUTION\n",
    "#         self.theta = np.linalg.inv(self.X_B.T.dot(self.X_B)).dot(self.X_B.T).dot(y)\n",
    "        \n",
    "        self.theta = np.linalg.inv(self.X_B.T.dot(self.X_B)+self.alpha*self.A).dot(self.X_B.T).dot(y)\n",
    "        \n",
    "    \n",
    "    def predict(self, X):\n",
    "        X = self.add_poly_features(X)\n",
    "        \n",
    "        return X.dot(self.theta)\n",
    "               \n",
    "    \n",
    "pr = Poly_reg(2, alpha = 50)\n",
    "pr.fit(X, y)\n",
    "print(pr.theta)\n",
    "predicted = pr.predict(X)"
   ]
  },
  {
   "cell_type": "code",
   "execution_count": 62,
   "metadata": {},
   "outputs": [
    {
     "data": {
      "text/plain": [
       "[<matplotlib.lines.Line2D at 0x7fa7db3af9e8>]"
      ]
     },
     "execution_count": 62,
     "metadata": {},
     "output_type": "execute_result"
    },
    {
     "data": {
      "image/png": "[encoded data removed]",
      "text/plain": [
       "<Figure size 432x288 with 1 Axes>"
      ]
     },
     "metadata": {},
     "output_type": "display_data"
    }
   ],
   "source": [
    "plt.plot(X, y, 'b.')\n",
    "plt.plot(X, predicted,'r.')"
   ]
  },
  {
   "cell_type": "markdown",
   "metadata": {},
   "source": [
    "<h1>Polynomial regression with sklearn</h1>"
   ]
  },
  {
   "cell_type": "code",
   "execution_count": 16,
   "metadata": {},
   "outputs": [],
   "source": [
    "from sklearn.preprocessing import PolynomialFeatures\n",
    "Pf = PolynomialFeatures(degree=7, include_bias=False)\n",
    "X_poly = Pf.fit_transform(X)\n",
    "new = [[-3],\n",
    "       [3]]\n",
    "new_poly = Pf.fit_transform(new)"
   ]
  },
  {
   "cell_type": "code",
   "execution_count": 17,
   "metadata": {},
   "outputs": [],
   "source": [
    "from sklearn.linear_model import LinearRegression"
   ]
  },
  {
   "cell_type": "code",
   "execution_count": 18,
   "metadata": {},
   "outputs": [],
   "source": [
    "lr = LinearRegression()\n",
    "lr.fit(X_poly, y)\n",
    "predicted = lr.predict(X_poly)"
   ]
  },
  {
   "cell_type": "code",
   "execution_count": 19,
   "metadata": {},
   "outputs": [
    {
     "data": {
      "text/plain": [
       "(array([ 1.90795886]),\n",
       " array([[ 1.01566639,  0.44790871,  0.29010701,  0.14783818, -0.18761224,\n",
       "         -0.02152595,  0.02219496]]))"
      ]
     },
     "execution_count": 19,
     "metadata": {},
     "output_type": "execute_result"
    }
   ],
   "source": [
    "lr.intercept_, lr.coef_"
   ]
  },
  {
   "cell_type": "code",
   "execution_count": 20,
   "metadata": {},
   "outputs": [
    {
     "data": {
      "text/plain": [
       "[<matplotlib.lines.Line2D at 0x7fc3f60c2dd8>]"
      ]
     },
     "execution_count": 20,
     "metadata": {},
     "output_type": "execute_result"
    },
    {
     "data": {
      "image/png": "[encoded data removed]",
      "text/plain": [
       "<Figure size 432x288 with 1 Axes>"
      ]
     },
     "metadata": {},
     "output_type": "display_data"
    }
   ],
   "source": [
    "plt.plot(X, y, 'b.')\n",
    "plt.plot(X, predicted,'r.')"
   ]
  },
  {
   "cell_type": "code",
   "execution_count": 30,
   "metadata": {},
   "outputs": [],
   "source": [
    "from sklearn.metrics import mean_squared_error\n",
    "from sklearn.model_selection import train_test_split\n",
    "\n",
    "def plot_learning_curves(model, X, y):\n",
    "    train, test, y, y_test = train_test_split(X, y, test_size = 0.2, random_state = 10)\n",
    "    train_errors, test_errors = [], []\n",
    "    for m in range(1, len(train)):\n",
    "        model.fit(train[:m], y[:m])\n",
    "        train_predict = model.predict(train[:m])\n",
    "        test_predict = model.predict(test)\n",
    "        train_errors.append(mean_squared_error(train_predict, y[:m]))\n",
    "        test_errors.append(mean_squared_error(test_predict, y_test))\n",
    "    plt.plot(np.sqrt(train_errors), 'r-+', label = 'Train')\n",
    "    plt.plot(np.sqrt(test_errors), 'b-', label = 'Test')\n",
    "    plt.xlabel('Size of training')\n",
    "    plt.ylabel('RMSE')\n",
    "    plt.legend()\n",
    "    plt.ylim([0,2])\n",
    "    plt.show()"
   ]
  },
  {
   "cell_type": "code",
   "execution_count": 31,
   "metadata": {},
   "outputs": [
    {
     "data": {
      "image/png": "[encoded data removed]",
      "text/plain": [
       "<Figure size 432x288 with 1 Axes>"
      ]
     },
     "metadata": {},
     "output_type": "display_data"
    }
   ],
   "source": [
    "plot_learning_curves(lr, X, y)"
   ]
  },
  {
   "cell_type": "code",
   "execution_count": 33,
   "metadata": {},
   "outputs": [],
   "source": [
    "from sklearn.pipeline import Pipeline\n",
    "\n",
    "polynomial_regression = Pipeline([\n",
    "    ('poly_features', PolynomialFeatures(degree=7, include_bias = False)),\n",
    "    ('linear_reg', LinearRegression()),\n",
    "])"
   ]
  },
  {
   "cell_type": "code",
   "execution_count": 34,
   "metadata": {},
   "outputs": [
    {
     "data": {
      "image/png": "[encoded data removed]",
      "text/plain": [
       "<Figure size 432x288 with 1 Axes>"
      ]
     },
     "metadata": {},
     "output_type": "display_data"
    }
   ],
   "source": [
    "plot_learning_curves(polynomial_regression, X, y)"
   ]
  },
  {
   "cell_type": "code",
   "execution_count": null,
   "metadata": {},
   "outputs": [],
   "source": []
  }
 ],
 "metadata": {
  "kernelspec": {
   "display_name": "Python 3",
   "language": "python",
   "name": "python3"
  },
  "language_info": {
   "codemirror_mode": {
    "name": "ipython",
    "version": 3
   },
   "file_extension": ".py",
   "mimetype": "text/x-python",
   "name": "python",
   "nbconvert_exporter": "python",
   "pygments_lexer": "ipython3",
   "version": "3.6.3"
  }
 },
 "nbformat": 4,
 "nbformat_minor": 2
}
