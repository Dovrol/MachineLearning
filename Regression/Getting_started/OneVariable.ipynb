{
 "cells": [
  {
   "cell_type": "code",
   "execution_count": 1,
   "metadata": {},
   "outputs": [],
   "source": [
    "import matplotlib.pyplot as plt"
   ]
  },
  {
   "cell_type": "code",
   "execution_count": 24,
   "metadata": {},
   "outputs": [],
   "source": [
    "tips = [14,17,2,7,10]\n",
    "meal = [1,2,3,4,5]\n",
    "tips_mean = [sum(tips) / len(tips)] * len(meal)"
   ]
  },
  {
   "cell_type": "code",
   "execution_count": 35,
   "metadata": {},
   "outputs": [
    {
     "data": {
      "image/png": "[encoded data removed]",
      "text/plain": [
       "<Figure size 432x288 with 1 Axes>"
      ]
     },
     "metadata": {},
     "output_type": "display_data"
    }
   ],
   "source": [
    "plt.plot(meal, tips, 'ro', meal, tips_mean, 'b')\n",
    "plt.ylabel('Tip $')\n",
    "plt.xlabel('Meal')\n",
    "plt.show()"
   ]
  },
  {
   "cell_type": "code",
   "execution_count": 41,
   "metadata": {},
   "outputs": [
    {
     "name": "stdout",
     "output_type": "stream",
     "text": [
      "Squered errors: [16.0, 49.0, 64.0, 9.0, 0.0]\n",
      "Summ of errors: 138.0\n"
     ]
    }
   ],
   "source": [
    "#Errors / Residual\n",
    "mean = sum(tips) / len(tips)\n",
    "errors = []\n",
    "for i in tips:\n",
    "    errors.append((i - mean)**2)\n",
    "print(f'Squered errors: {errors}')\n",
    "print(f'Summ of errors: {sum(errors)}')"
   ]
  },
  {
   "cell_type": "markdown",
   "metadata": {},
   "source": [
    "Best case we can do with one variable is mean of set of data.  \n",
    "Talking about Simple linear reggression we talk about comparasion between basic case with one variable and other with multiple variables"
   ]
  },
  {
   "cell_type": "code",
   "execution_count": null,
   "metadata": {},
   "outputs": [],
   "source": []
  }
 ],
 "metadata": {
  "kernelspec": {
   "display_name": "Python 3",
   "language": "python",
   "name": "python3"
  },
  "language_info": {
   "codemirror_mode": {
    "name": "ipython",
    "version": 3
   },
   "file_extension": ".py",
   "mimetype": "text/x-python",
   "name": "python",
   "nbconvert_exporter": "python",
   "pygments_lexer": "ipython3",
   "version": "3.6.3"
  }
 },
 "nbformat": 4,
 "nbformat_minor": 2
}
