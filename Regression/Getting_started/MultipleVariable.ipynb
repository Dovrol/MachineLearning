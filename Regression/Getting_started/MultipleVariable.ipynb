{
 "cells": [
  {
   "cell_type": "code",
   "execution_count": 2,
   "metadata": {},
   "outputs": [],
   "source": [
    "import matplotlib.pyplot as plt\n",
    "import numpy as np"
   ]
  },
  {
   "cell_type": "code",
   "execution_count": 3,
   "metadata": {},
   "outputs": [],
   "source": [
    "tips = [5,17,11,8,14,5]\n",
    "meal_cost = [34,108,64,88,99,51]\n",
    "mean_of_tips = sum(tips) / len(tips)\n",
    "mean_meal_cost = sum(meal_cost) / len(meal_cost)"
   ]
  },
  {
   "cell_type": "markdown",
   "metadata": {},
   "source": [
    "$E(y) = \\alpha + \\beta{x}$ Predicted value for next tip"
   ]
  },
  {
   "cell_type": "markdown",
   "metadata": {},
   "source": [
    "$\\hat{y} = b0 + b1x$ The same as upper"
   ]
  },
  {
   "cell_type": "markdown",
   "metadata": {},
   "source": [
    "$b1 = \\frac{\\sum(xi -\\bar{x})(yi -\\bar{y})}{\\sum(xi- \\bar{x})^2}$"
   ]
  },
  {
   "cell_type": "markdown",
   "metadata": {},
   "source": [
    "$b0 = \\bar{y}-b1\\bar{x}$"
   ]
  },
  {
   "cell_type": "code",
   "execution_count": 4,
   "metadata": {},
   "outputs": [
    {
     "name": "stdout",
     "output_type": "stream",
     "text": [
      "b0 = -0.8202567760342365\n",
      "b1 = 0.14621968616262482\n"
     ]
    }
   ],
   "source": [
    "deviation_products = 0\n",
    "bill_deviations_squered = 0\n",
    "for i in range(len(meal_cost)):\n",
    "    deviation_products += (meal_cost[i] - mean_meal_cost) *(tips[i] - mean_of_tips)\n",
    "    bill_deviations_squered += (meal_cost[i] - mean_meal_cost)**2\n",
    "b1 = deviation_products / bill_deviations_squered\n",
    "b0 = mean_of_tips - b1*mean_meal_cost\n",
    "print(f'b0 = {b0}')\n",
    "print(f'b1 = {b1}')"
   ]
  },
  {
   "cell_type": "code",
   "execution_count": 6,
   "metadata": {},
   "outputs": [
    {
     "data": {
      "image/png": "[encoded data removed]",
      "text/plain": [
       "<Figure size 432x288 with 1 Axes>"
      ]
     },
     "metadata": {},
     "output_type": "display_data"
    }
   ],
   "source": [
    "plt.plot(meal_cost, tips, 'ro', label = 'Tips')\n",
    "plt.plot(mean_meal_cost, mean_of_tips, 'go', label = 'Centroid')\n",
    "x = np.linspace(0,max(meal_cost)+ 100)\n",
    "y = b0+b1*x\n",
    "plt.plot(x, y, '-b', label = 'Linear Reggresssion')\n",
    "plt.ylabel('Tip $')\n",
    "plt.xlabel('Meal Cost')\n",
    "plt.legend(loc='upper left')\n",
    "plt.grid()\n",
    "plt.show()\n",
    "    "
   ]
  },
  {
   "cell_type": "markdown",
   "metadata": {},
   "source": [
    "Compare between one variable and multiple variables"
   ]
  },
  {
   "cell_type": "code",
   "execution_count": 117,
   "metadata": {},
   "outputs": [],
   "source": [
    "SSE = 0\n",
    "for i in range(len(meal_cost)):\n",
    "    SSE += ((tips[i] - (b0+b1*meal_cost[i]))**2)"
   ]
  },
  {
   "cell_type": "code",
   "execution_count": 118,
   "metadata": {},
   "outputs": [
    {
     "name": "stdout",
     "output_type": "stream",
     "text": [
      "30.074893009985736\n"
     ]
    }
   ],
   "source": [
    "print(SSE)"
   ]
  },
  {
   "cell_type": "code",
   "execution_count": null,
   "metadata": {},
   "outputs": [],
   "source": []
  }
 ],
 "metadata": {
  "kernelspec": {
   "display_name": "Python 3",
   "language": "python",
   "name": "python3"
  },
  "language_info": {
   "codemirror_mode": {
    "name": "ipython",
    "version": 3
   },
   "file_extension": ".py",
   "mimetype": "text/x-python",
   "name": "python",
   "nbconvert_exporter": "python",
   "pygments_lexer": "ipython3",
   "version": "3.6.3"
  }
 },
 "nbformat": 4,
 "nbformat_minor": 2
}
