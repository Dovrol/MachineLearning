{
 "cells": [
  {
   "cell_type": "code",
   "execution_count": 116,
   "metadata": {},
   "outputs": [],
   "source": [
    "import numpy as np\n",
    "import matplotlib.pyplot as plt\n",
    "from sklearn.metrics import pairwise_distances\n",
    "\n",
    "\n",
    "X_class_1 = np.array([-2, -1, 0, 1, 2])\n",
    "X_class_2 = np.array([-4,-3, 3, 4])\n",
    "characterist_point_1 = -2\n",
    "characterist_point_2 = 1\n",
    "\n",
    "\n",
    "#Similarity function\n",
    "gamma = 0.3\n",
    "phi = lambda x, l: np.exp(-gamma*pairwise_distances((x,l))[0][1]**2)"
   ]
  },
  {
   "cell_type": "code",
   "execution_count": 117,
   "metadata": {},
   "outputs": [],
   "source": [
    "new_x_c_1 = []\n",
    "new_y_c_1 = []\n",
    "for i in X_class_1:\n",
    "    new_x_c_1.append(phi([i], [characterist_point_1]))\n",
    "    new_y_c_1.append(phi([i], [characterist_point_2]))\n",
    "    \n",
    "new_x_c_2 = []\n",
    "new_y_c_2 = []\n",
    "for i in X_class_2:\n",
    "    new_x_c_2.append(phi([i], [characterist_point_1]))\n",
    "    new_y_c_2.append(phi([i], [characterist_point_2]))"
   ]
  },
  {
   "cell_type": "code",
   "execution_count": 118,
   "metadata": {},
   "outputs": [
    {
     "data": {
      "image/png": "[encoded data removed]",
      "text/plain": [
       "<Figure size 792x288 with 2 Axes>"
      ]
     },
     "metadata": {},
     "output_type": "display_data"
    }
   ],
   "source": [
    "plt.figure(figsize=(11,4))\n",
    "plt.subplot(121)\n",
    "plt.title(\"Before: not seperable\")\n",
    "plt.plot(X_class_1, np.zeros((5,)), 'g^')\n",
    "plt.plot(X_class_2, np.zeros((4,)), 'bs')\n",
    "plt.axhline(y=0, color='k')\n",
    "plt.xlim(-4, 4)\n",
    "plt.ylim(-0.1,1.1)\n",
    "\n",
    "\n",
    "plt.subplot(122)\n",
    "plt.title(\"After: seperable\")\n",
    "plt.plot(new_x_c_1, new_y_c_1, 'g^')\n",
    "plt.plot(new_x_c_2, new_y_c_2, 'bs')\n",
    "plt.plot([-0.1, 1.1], [0.57, -0.1], \"r--\", linewidth=3)\n",
    "plt.axhline(y=0, color='k')\n",
    "plt.axvline(x=0, color='k')\n",
    "plt.xlim(-0.1, 1.1)\n",
    "plt.ylim(-0.1,1.1)\n",
    "plt.show()"
   ]
  },
  {
   "cell_type": "code",
   "execution_count": null,
   "metadata": {},
   "outputs": [],
   "source": []
  },
  {
   "cell_type": "code",
   "execution_count": null,
   "metadata": {},
   "outputs": [],
   "source": []
  }
 ],
 "metadata": {
  "kernelspec": {
   "display_name": "Python 3",
   "language": "python",
   "name": "python3"
  },
  "language_info": {
   "codemirror_mode": {
    "name": "ipython",
    "version": 3
   },
   "file_extension": ".py",
   "mimetype": "text/x-python",
   "name": "python",
   "nbconvert_exporter": "python",
   "pygments_lexer": "ipython3",
   "version": "3.6.3"
  }
 },
 "nbformat": 4,
 "nbformat_minor": 2
}
